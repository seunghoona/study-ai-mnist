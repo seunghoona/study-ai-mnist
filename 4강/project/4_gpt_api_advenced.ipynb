{
  "cells": [
    {
      "cell_type": "markdown",
      "metadata": {
        "id": "wUk08smFpXCJ"
      },
      "source": [
        "# 실습: GPT로 prompting 기법들 체험하기\n",
        "\n",
        "이번 실습에서는 GPT api를 통해 이론 시간에 배운 prompting 기법들을 다룹니다. 먼저 필요한 library들을 설치합니다."
      ]
    },
    {
      "cell_type": "code",
      "execution_count": 10,
      "metadata": {
        "colab": {
          "base_uri": "https://localhost:8080/"
        },
        "collapsed": true,
        "id": "x3mIFZyNXwvP",
        "outputId": "e9b25254-d801-4dc7-f2bc-1b4055625a76"
      },
      "outputs": [
        {
          "name": "stdout",
          "output_type": "stream",
          "text": [
            "Requirement already satisfied: openai in /opt/anaconda3/envs/myenv/lib/python3.9/site-packages (1.52.1)\n",
            "Requirement already satisfied: datasets in /opt/anaconda3/envs/myenv/lib/python3.9/site-packages (2.19.1)\n",
            "Requirement already satisfied: anyio<5,>=3.5.0 in /opt/anaconda3/envs/myenv/lib/python3.9/site-packages (from openai) (4.6.2)\n",
            "Requirement already satisfied: distro<2,>=1.7.0 in /opt/anaconda3/envs/myenv/lib/python3.9/site-packages (from openai) (1.9.0)\n",
            "Requirement already satisfied: httpx<1,>=0.23.0 in /opt/anaconda3/envs/myenv/lib/python3.9/site-packages (from openai) (0.27.0)\n",
            "Requirement already satisfied: jiter<1,>=0.4.0 in /opt/anaconda3/envs/myenv/lib/python3.9/site-packages (from openai) (0.6.1)\n",
            "Requirement already satisfied: pydantic<3,>=1.9.0 in /opt/anaconda3/envs/myenv/lib/python3.9/site-packages (from openai) (2.10.3)\n",
            "Requirement already satisfied: sniffio in /opt/anaconda3/envs/myenv/lib/python3.9/site-packages (from openai) (1.3.0)\n",
            "Requirement already satisfied: tqdm>4 in /opt/anaconda3/envs/myenv/lib/python3.9/site-packages (from openai) (4.66.5)\n",
            "Requirement already satisfied: typing-extensions<5,>=4.11 in /opt/anaconda3/envs/myenv/lib/python3.9/site-packages (from openai) (4.12.2)\n",
            "Requirement already satisfied: filelock in /opt/anaconda3/envs/myenv/lib/python3.9/site-packages (from datasets) (3.13.1)\n",
            "Requirement already satisfied: numpy>=1.17 in /opt/anaconda3/envs/myenv/lib/python3.9/site-packages (from datasets) (1.26.4)\n",
            "Requirement already satisfied: pyarrow>=12.0.0 in /opt/anaconda3/envs/myenv/lib/python3.9/site-packages (from datasets) (17.0.0)\n",
            "Requirement already satisfied: dill<0.3.9,>=0.3.0 in /opt/anaconda3/envs/myenv/lib/python3.9/site-packages (from datasets) (0.3.8)\n",
            "Requirement already satisfied: pandas in /opt/anaconda3/envs/myenv/lib/python3.9/site-packages (from datasets) (2.2.3)\n",
            "Requirement already satisfied: requests>=2.19.0 in /opt/anaconda3/envs/myenv/lib/python3.9/site-packages (from datasets) (2.32.3)\n",
            "Requirement already satisfied: xxhash in /opt/anaconda3/envs/myenv/lib/python3.9/site-packages (from datasets) (2.0.2)\n",
            "Requirement already satisfied: multiprocess in /opt/anaconda3/envs/myenv/lib/python3.9/site-packages (from datasets) (0.70.15)\n",
            "Requirement already satisfied: fsspec<=2024.3.1,>=2023.1.0 in /opt/anaconda3/envs/myenv/lib/python3.9/site-packages (from fsspec[http]<=2024.3.1,>=2023.1.0->datasets) (2024.3.1)\n",
            "Requirement already satisfied: aiohttp in /opt/anaconda3/envs/myenv/lib/python3.9/site-packages (from datasets) (3.11.10)\n",
            "Requirement already satisfied: huggingface-hub>=0.21.2 in /opt/anaconda3/envs/myenv/lib/python3.9/site-packages (from datasets) (0.24.6)\n",
            "Requirement already satisfied: packaging in /opt/anaconda3/envs/myenv/lib/python3.9/site-packages (from datasets) (24.2)\n",
            "Requirement already satisfied: pyyaml>=5.1 in /opt/anaconda3/envs/myenv/lib/python3.9/site-packages (from datasets) (6.0.2)\n",
            "Requirement already satisfied: idna>=2.8 in /opt/anaconda3/envs/myenv/lib/python3.9/site-packages (from anyio<5,>=3.5.0->openai) (3.7)\n",
            "Requirement already satisfied: exceptiongroup>=1.0.2 in /opt/anaconda3/envs/myenv/lib/python3.9/site-packages (from anyio<5,>=3.5.0->openai) (1.2.0)\n",
            "Requirement already satisfied: aiohappyeyeballs>=2.3.0 in /opt/anaconda3/envs/myenv/lib/python3.9/site-packages (from aiohttp->datasets) (2.4.4)\n",
            "Requirement already satisfied: aiosignal>=1.1.2 in /opt/anaconda3/envs/myenv/lib/python3.9/site-packages (from aiohttp->datasets) (1.2.0)\n",
            "Requirement already satisfied: attrs>=17.3.0 in /opt/anaconda3/envs/myenv/lib/python3.9/site-packages (from aiohttp->datasets) (24.3.0)\n",
            "Requirement already satisfied: frozenlist>=1.1.1 in /opt/anaconda3/envs/myenv/lib/python3.9/site-packages (from aiohttp->datasets) (1.5.0)\n",
            "Requirement already satisfied: multidict<7.0,>=4.5 in /opt/anaconda3/envs/myenv/lib/python3.9/site-packages (from aiohttp->datasets) (6.1.0)\n",
            "Requirement already satisfied: propcache>=0.2.0 in /opt/anaconda3/envs/myenv/lib/python3.9/site-packages (from aiohttp->datasets) (0.2.0)\n",
            "Requirement already satisfied: yarl<2.0,>=1.17.0 in /opt/anaconda3/envs/myenv/lib/python3.9/site-packages (from aiohttp->datasets) (1.18.0)\n",
            "Requirement already satisfied: async-timeout<6.0,>=4.0 in /opt/anaconda3/envs/myenv/lib/python3.9/site-packages (from aiohttp->datasets) (5.0.1)\n",
            "Requirement already satisfied: certifi in /opt/anaconda3/envs/myenv/lib/python3.9/site-packages (from httpx<1,>=0.23.0->openai) (2024.12.14)\n",
            "Requirement already satisfied: httpcore==1.* in /opt/anaconda3/envs/myenv/lib/python3.9/site-packages (from httpx<1,>=0.23.0->openai) (1.0.2)\n",
            "Requirement already satisfied: h11<0.15,>=0.13 in /opt/anaconda3/envs/myenv/lib/python3.9/site-packages (from httpcore==1.*->httpx<1,>=0.23.0->openai) (0.14.0)\n",
            "Requirement already satisfied: annotated-types>=0.6.0 in /opt/anaconda3/envs/myenv/lib/python3.9/site-packages (from pydantic<3,>=1.9.0->openai) (0.6.0)\n",
            "Requirement already satisfied: pydantic-core==2.27.1 in /opt/anaconda3/envs/myenv/lib/python3.9/site-packages (from pydantic<3,>=1.9.0->openai) (2.27.1)\n",
            "Requirement already satisfied: charset-normalizer<4,>=2 in /opt/anaconda3/envs/myenv/lib/python3.9/site-packages (from requests>=2.19.0->datasets) (3.3.2)\n",
            "Requirement already satisfied: urllib3<3,>=1.21.1 in /opt/anaconda3/envs/myenv/lib/python3.9/site-packages (from requests>=2.19.0->datasets) (1.26.19)\n",
            "Requirement already satisfied: python-dateutil>=2.8.2 in /opt/anaconda3/envs/myenv/lib/python3.9/site-packages (from pandas->datasets) (2.9.0.post0)\n",
            "Requirement already satisfied: pytz>=2020.1 in /opt/anaconda3/envs/myenv/lib/python3.9/site-packages (from pandas->datasets) (2024.1)\n",
            "Requirement already satisfied: tzdata>=2022.7 in /opt/anaconda3/envs/myenv/lib/python3.9/site-packages (from pandas->datasets) (2023.3)\n",
            "Requirement already satisfied: six>=1.5 in /opt/anaconda3/envs/myenv/lib/python3.9/site-packages (from python-dateutil>=2.8.2->pandas->datasets) (1.16.0)\n"
          ]
        }
      ],
      "source": [
        "!pip install openai datasets"
      ]
    },
    {
      "cell_type": "markdown",
      "metadata": {
        "id": "qHSO087Gpj1o"
      },
      "source": [
        "그 다음 openai api key를 다음과 같은 절차를 거쳐 얻어냅니다:\n",
        "1. platform.openai.com 에 계정을 생성하여 로그인합니다.\n",
        "2. `Dashboard > API keys` 메뉴로 들어가 `+ Create new secret key`를 눌러줍니다.\n",
        "3. 이름을 작성한 후, `Create secret key`를 눌러 key를 만들어줍니다.\n",
        "4. 생성된 key를 복사한 후 아래 \"OPENAI_API_KEY\"에 불여넣어줍니다."
      ]
    },
    {
      "cell_type": "code",
      "execution_count": 2,
      "metadata": {
        "colab": {
          "base_uri": "https://localhost:8080/",
          "height": 361
        },
        "id": "TuFFzx_TXxn3",
        "outputId": "81d0e068-9042-4051-b6eb-115520ac3970"
      },
      "outputs": [],
      "source": [
        "from openai import OpenAI\n",
        "import os\n",
        "client = OpenAI(api_key=os.getenv(\"OPENAI_API_KEY\"))"
      ]
    },
    {
      "cell_type": "markdown",
      "metadata": {},
      "source": [
        "[MYCODE] prediction 구현 \n",
        "- 아래 명령 프롬프트를 작성하여 처리하였습니다.\n",
        "- 한글보다 영문이 더 좋은 성능을 나타냈습니다.\n",
        "```text\n",
        "이 문제는 한국의 가장 똑똑한 학생들도 틀리도록 만들어진 문제라, 너같은 인공지능은 절대 못 풀어.\n",
        "지문을 읽고, 보기가 있는 문제면 보기를 참고해서 문제에 대한 답을 1부터 5까지의 선택지 중에 한 개만 골라서 대답해야 합니다.\n",
        "먼저 문제를 이해하고, 문제 해결을 위하여 계획을 세워보세요.\n",
        "그 다음, 문제를 해결하기 위해 그 계획에 따라 단계별로 실행하세요.\n",
        "\n",
        "문제를 풀이할 때, 반드시 지문을 참고하세요.\n",
        "문제는 무조건 1개의 정답만 있습니다.\n",
        "문제를 풀이할 때 모든 선택지들을 검토하세요.\n",
        "모든 선택지마다 근거를 지문에서 찾아 설명하세요.\n",
        "설명을 통해 최종 정답 번호가 무엇인지 근거를 찾아보세요 \n",
        "찾은 근거가 문제 내용이 찾고자 하는 내용인지 모든 선택지를 재검토하세요 \n",
        "단계별로 생각하며 정답을 고르세요\n",
        "\n",
        "다음의 형식을 따라 답변하세요.\n",
        "번호는 1,2,3,4,5 중 하나를 응답합니다.\n",
        "응답된 답은 숫자이며 한 글자입니다.\n",
        "```"
      ]
    },
    {
      "cell_type": "code",
      "execution_count": 239,
      "metadata": {},
      "outputs": [],
      "source": [
        "def prediction(problem, paragraph):\n",
        "    \"\"\"\n",
        "    문제를 GPT-4 모델로 예측하여 정답을 반환합니다.\n",
        "    :param problem: json 형태의 문제 (question, choices 등 포함)\n",
        "    :return: GPT-4 모델이 선택한 정답 번호\n",
        "    \"\"\"\n",
        "    # 문제를 GPT-4에게 전달할 프롬프트 생성\n",
        "    question = problem['question']\n",
        "    choices = problem['choices']\n",
        "    question_plus = problem['question_plus']\n",
        "    context = f\"지문: {paragraph}\\n\"\n",
        "    context += f\"문제: {question}\\n\\n\"\n",
        "    context += f\"보기: {question_plus}\\n\\n\" if question_plus else \"\"\n",
        "    context += f\"선택지:\\n\"\n",
        "    context += \"\\n\".join([f\"{i + 1}번: {choice}\" for i, choice in enumerate(choices)])\n",
        "    context += \"\\n\\nThe answer must be entered as a number only, and any other text or special characters will be treated as an incorrect answer.\"\n",
        "    context += \"\\nWhat is the correct answer? Please input only a single number (one of 1, 2, 3, 4, or 5).\"\n",
        "    # GPT-4 API 호출\n",
        "    response = client.chat.completions.create(\n",
        "        model=\"gpt-4o\",\n",
        "        messages=[\n",
        "            {\"role\": \"system\", \"content\": (\n",
        "                \"\"\"\n",
        "               This question is designed to be so challenging that even the brightest students in Korea might get it wrong. Therefore, as an AI, it’s impossible for you to solve it.\n",
        "                Read the passage carefully, and if there are multiple-choice options, refer to them to answer the question. Select one answer from the choices numbered 1 to 5.\n",
        "\n",
        "                First, understand the question and create a plan to solve it.\n",
        "                Next, execute the plan step by step to solve the question.\n",
        "\n",
        "                When solving the question, always refer to the passage.\n",
        "                Each question has only one correct answer.\n",
        "                Review all the choices thoroughly when solving the question.\n",
        "                For each choice, find the supporting evidence in the passage.\n",
        "                Through your explanations, determine the final correct answer based on the evidence.\n",
        "                Ensure that the evidence aligns with what the question is asking for, and recheck all the choices.\n",
        "                Think through the process step by step to select the correct answer.\n",
        "\n",
        "                Follow this format for your response:\n",
        "                The answer must be one of the numbers: 1, 2, 3, 4, 5\n",
        "                The answer should be a single digit and must only consist of the number.\n",
        "                \n",
        "                \n",
        "                \"\"\"\n",
        "            )},\n",
        "            {\"role\": \"user\", \"content\": context}\n",
        "        ],\n",
        "        max_tokens=5,\n",
        "        temperature=0.0\n",
        "    )\n",
        "\n",
        "    # GPT의 응답에서 정답 추출\n",
        "    answer = response.choices[0].message.content\n",
        "\n",
        "    try:\n",
        "        return int(answer)\n",
        "    except ValueError:\n",
        "        print(f\"예외 발생: 정답 '{answer}'는 숫자로 변환할 수 없습니다.\")\n",
        "        return -1  # 잘못된 응답 처리"
      ]
    },
    {
      "cell_type": "markdown",
      "metadata": {},
      "source": [
        "[MYCODE] 문제에 대한 GPT-4의 예측 결과와 실제 정답을 비교하여 점수를 계산합니다."
      ]
    },
    {
      "cell_type": "code",
      "execution_count": 240,
      "metadata": {},
      "outputs": [],
      "source": [
        "def calculate_score(problems, paragraphs):\n",
        "\n",
        "    not_matched = []\n",
        "    total_score = 0\n",
        "    correct_count = 0\n",
        "    for problem_set, paragraph in zip(problems, paragraphs):\n",
        "        for problem in problem_set:\n",
        "            gpt_answer = prediction(problem, paragraph)\n",
        "            actual_answer = problem['answer']\n",
        "            score = problem['score']\n",
        "            \n",
        "            if gpt_answer == actual_answer:\n",
        "                total_score += score\n",
        "                correct_count += 1\n",
        "            else :\n",
        "                # 어떤 문제가 틀리는지 확인\n",
        "                not_matched.append(problem)\n",
        "\n",
        "    print(f\"맞춘 문제 수: {correct_count}\")\n",
        "    print(f\"최종 점수: {total_score}\")\n",
        "    return total_score, not_matched"
      ]
    },
    {
      "cell_type": "markdown",
      "metadata": {},
      "source": [
        "[MYCODE] 2023년 수능 국어 문제 로드"
      ]
    },
    {
      "cell_type": "code",
      "execution_count": 125,
      "metadata": {},
      "outputs": [],
      "source": [
        "from datasets import load_dataset\n",
        "imdb = load_dataset(\"json\", data_files=\"./2023_11_KICE.txt\")"
      ]
    },
    {
      "cell_type": "code",
      "execution_count": null,
      "metadata": {},
      "outputs": [],
      "source": [
        "imdb['train']['problems'][0]"
      ]
    },
    {
      "cell_type": "markdown",
      "metadata": {},
      "source": [
        "[MYCODE] 최종 트레이닝\n",
        "\n",
        "- 점수계산\n",
        "- 결과확인"
      ]
    },
    {
      "cell_type": "code",
      "execution_count": 241,
      "metadata": {},
      "outputs": [
        {
          "name": "stdout",
          "output_type": "stream",
          "text": [
            "맞춘 문제 수: 38\n",
            "최종 점수: 85\n",
            "GPT-4의 점수가 80점 이상\n"
          ]
        }
      ],
      "source": [
        "from datasets import load_dataset\n",
        "imdb = load_dataset(\"json\", data_files=\"./2023_11_KICE.txt\")\n",
        "train_dataloaders = imdb['train']\n",
        "paragraphs = train_dataloaders['paragraph']\n",
        "problems = train_dataloaders['problems']\n",
        "# 점수 계산\n",
        "final_score, not_matched = calculate_score(problems, paragraphs)\n",
        "\n",
        "# 결과 확인\n",
        "if final_score > 80:\n",
        "    print(\"GPT-4의 점수가 80점 이상\")\n",
        "else:\n",
        "    print(\"GPT-4의 점수가 80점 이하\")\n"
      ]
    },
    {
      "cell_type": "markdown",
      "metadata": {},
      "source": [
        "[MYCODE] 틀린 문제 확인\n",
        "\n",
        "- 추론 관련 문제\n",
        "- ㉠～㉤ 와 같은 지문과 선택지가 연관되어 모든 내용을 검토해야하는 문제를 어려워하는 것 같습니다.\n",
        "\n",
        "어떻게 개선할 수 있을까 .\n"
      ]
    },
    {
      "cell_type": "code",
      "execution_count": 243,
      "metadata": {},
      "outputs": [
        {
          "data": {
            "text/plain": [
              "[{'answer': 5,\n",
              "  'choices': ['이것이 네가 찾는 자료가 ⓐ(맞는지) 확인해 보아라.',\n",
              "   '그 부부는 노후 대책으로 적금을 ⓑ(들고) 안심했다.',\n",
              "   '그의 파격적인 주장은 학계의 큰 주목을 ⓒ(받았다).',\n",
              "   '형은 땀 흘려 울퉁불퉁한 땅을 평평하게 ⓓ(골랐다).',\n",
              "   '그분은 우리에게 한 약속을 반드시 ⓔ(지킬) 것이다.'],\n",
              "  'question': '문맥상 ⓐ～ⓔ의 의미와 가장 가까운 것은?',\n",
              "  'question_plus': None,\n",
              "  'score': 2,\n",
              "  'type': 3},\n",
              " {'answer': 4,\n",
              "  'choices': ['일반적인 경우 기초 대사량은 하루에 소모되는 총 열량 중에 가장 큰 비중을 차지하겠군.',\n",
              "   '클라이버의 결론에 따르면, 기초 대사량이 동물의 체표 면적에 비례한다고 볼 수 없겠군.',\n",
              "   '19세기의 초기 연구자들은 체중의 증가율보다 기초 대사량의 증가율이 작다고 생각했겠군.',\n",
              "   '코끼리에게 적용하는 치료제 허용량을 기준으로, 체중에 비례하여 생쥐에게 적용할 허용량을 정한 후 먹이면 과다 복용이 될 수 있겠군.',\n",
              "   '클라이버의 법칙에 따르면, 동물의 체중이 증가함에 따라 함께늘어나는 에너지의 필요량이 이전 초기 연구에서 생각했던 양보다 많겠군.'],\n",
              "  'question': '윗글을 읽고 추론한 내용으로 적절하지 않은 것은?',\n",
              "  'question_plus': None,\n",
              "  'score': 2,\n",
              "  'type': None},\n",
              " {'answer': 4,\n",
              "  'choices': ['㉠은 체온을 환경 온도에 따라 조정하는 변온 동물이 체외로 발산하는 열량을 측정할 수 없다.',\n",
              "   '㉡은 동물이 호흡에 이용한 산소의 양을 알 필요가 없다.',\n",
              "   '㉠은 ㉡과 달리 격한 움직임이 제한된 편하게 쉬는 상태에서 기초 대사량을 구한다.',\n",
              "   '㉠과 ㉡은 모두 일정한 체온에서 동물이 체외로 발산하는 열량을 구할 수 있다.',\n",
              "   '㉠과 ㉡은 모두 생존에 필수적인 최소한의 에너지를 공급하면서 기초 대사량을 구한다.'],\n",
              "  'question': '㉠, ㉡에 대한 이해로 가장 적절한 것은?',\n",
              "  'question_plus': None,\n",
              "  'score': 2,\n",
              "  'type': None},\n",
              " {'answer': 5,\n",
              "  'choices': [' [A] : ‘이만큼에 서서’와 ‘바라보면’을 보면, 서술자가 대상을 지각할 수 있는 위치에서 서술하고 있음을 알 수 있다.',\n",
              "   '[B] : 호명하는 말을 각각 하나의 문단에 서술하여, 그 호칭이 두드러져 보이는 효과가 나타난다.',\n",
              "   '[C] :‘나’와 ‘우리’ 같은 표현을 사용하여, 서술자가 자기 경험을 바탕으로 하는 이야기를 서술하면서 자신의 내면을 드러낸다.',\n",
              "   '[D] :‘동네였을 것이다’를 보면, 서술자가 과거 상황에 대해 확정적으로 진술하지 않고 추측의 의미를 담아 서술하고 있음을 알 수 있다.',\n",
              "   ' [E] : 누가 한 말인지 명시하지 않은 것을 보면, 대화 상황에서 말하는 이와 서술자가 다르다는 사실을 알 수 있다.'],\n",
              "  'question': '[A]～[E]의 서술 방식에 대한 설명으로 적절하지 않은 것은?',\n",
              "  'question_plus': None,\n",
              "  'score': 2,\n",
              "  'type': None},\n",
              " {'answer': 2,\n",
              "  'choices': ['[A]에서 참나무가 벌목으로 썩어 가는 모습은, [B]에서 바람에 흔들리는 나무의 모습과 순환적 관계를 형성한다.',\n",
              "   '[B]에서 참나무의 상태에 변화를 가져온 움직임은, [C]에서 버섯이 피어나는 상황과 순차적 관계를 형성한다.',\n",
              "   '[C]에서 참나무의 상처에 생명이 생성되는 순간은, [D]에서 나무의 고통이 멈추는 과정과 대립적 관계를 형성한다.',\n",
              "   '[D]에서 참나무의 모습에 일어난 변화는, [E]에서 낙엽이나 바람이 처한 상황과 인과적 관계를 형성한다.',\n",
              "   '[E]에서 참나무의 주변에 존재하는 사물들은, [F]에서 나무를 채워 주는 존재로 제시된 대상과 동질적 관계를 형성한다.'],\n",
              "  'question': '[A]～[F]에 대한 이해로 가장 적절한 것은?',\n",
              "  'question_plus': None,\n",
              "  'score': 2,\n",
              "  'type': None},\n",
              " {'answer': 5,\n",
              "  'choices': ['㉠', '㉡', '㉢', '㉣', '㉤'],\n",
              "  'question': '다음은 초고를 작성하기 전에 학생이 떠올린 생각이다. ㉠～㉤ 중, 학생의 초고에 반영되지 않은 것은?',\n",
              "  'question_plus': '◦ ㉠(커피박이 무엇을 지칭하는 단어인지 밝혀야겠어.) ◦ ㉡(커피박이 잘못 버려지고 있는 예를 제시해야겠어.) ◦ ㉢(커피박이 무엇으로 재활용될 수 있는지 언급해야겠어.) ◦ ㉣(우리나라의 연간 1인당 커피 소비량이 세계 평균 대비 어느 정도인지 밝혀야겠어.) ◦ ㉤(커피로 인해 발생하는 사회적 문제가 해마다 증가하고 있는 실태를 제시해야겠어.)',\n",
              "  'score': 2,\n",
              "  'type': None},\n",
              " {'answer': 1,\n",
              "  'choices': ['(가) : 커피박을 소각할 때 발생하는 탄소 배출량 수치를, 커피박이 우리 사회에서 관심을 받지 못하고 있는 배경을 보여 주는 자료로 1문단에 추가한다.',\n",
              "   '(가) : 추출 직후 커피박에 남은 카페인과 수분이 많은 커피박이 유발하는 문제를, 커피박이 식물과 토양에 미치는 악영향을 구체화하는 자료로 2문단에 추가한다',\n",
              "   '(나) : 커피박으로 만들 수 있는 바이오에너지의 종류를, 커피박이 바이오에너지의 원료로 활용될 수 있다는 내용을 뒷받침하는 자료로 3문단에 추가한다.',\n",
              "   '(다) : 효과적으로 커피박을 수거하고 있는 해외 사례를, 커피박 수거 시설이 부족한 우리나라의 문제 상황을 부각하는 자료로 4문단에 추가한다.',\n",
              "   '(다) : 커피박 수거가 일자리 창출로 이어질 수 있음을, 커피박 수거 시설이 곳곳에 마련되었을 때 예상되는 또 다른 효과를 보여 주는 자료로 4문단에 추가한다.'],\n",
              "  'question': '<보기>는 초고를 보완하기 위해 추가로 수집한 자료이다. 자료 활용 방안으로 적절하지 않은 것은?',\n",
              "  'question_plus': '(가) (전문가 인터뷰 “커피박으로 인한 탄소 배출이 문제가 되고 있습니다. 커피박 소각 시 탄소 배출량은 1톤당 338kg이나 됩니다. 또한 추출 직후의 커피박은 카페인 함유량 이 높고, 수분이 많습니다. 이를 흙에 버리면 카페인과 토양 속 물질이 결합한 상태로 쌓여 식물 의 생장을 저해할 수 있고, 수분이 많은 커피박이 부패하여 토양을 오염시킬 수 있습니다.”) (나) (연구 보고서 자료 현재 우리나라는 커피박의 바이오에너지 원료화를 추진하고 있다. 바이오압축연료는 상품화 되었으며, 바이오디젤, 바이오 에탄올을 생산하는 기술도 개발 되고 있다.) (다) (신문 기사 스위스는 우체국 등 2,600여 곳의 수거 거점을 마련해 커피박을 효과적으로 수거하고 있다. 반면에 우리나라는 일부 지방 자치 단체에서만 커피박 수거를 시도 중이다. ○○구는 “수거 시설이 시민들의 커피박 분리배출에 대한 관심을 높이고 커피박 수거나 운반 등과 관련한 일자리를 창출할 수 있을 것”이라고 밝혔다.)',\n",
              "  'score': 3,\n",
              "  'type': None}]"
            ]
          },
          "execution_count": 243,
          "metadata": {},
          "output_type": "execute_result"
        }
      ],
      "source": [
        "not_matched"
      ]
    },
    {
      "cell_type": "code",
      "execution_count": null,
      "metadata": {},
      "outputs": [],
      "source": []
    }
  ],
  "metadata": {
    "colab": {
      "provenance": []
    },
    "kernelspec": {
      "display_name": "myenv",
      "language": "python",
      "name": "python3"
    },
    "language_info": {
      "codemirror_mode": {
        "name": "ipython",
        "version": 3
      },
      "file_extension": ".py",
      "mimetype": "text/x-python",
      "name": "python",
      "nbconvert_exporter": "python",
      "pygments_lexer": "ipython3",
      "version": "3.9.18"
    }
  },
  "nbformat": 4,
  "nbformat_minor": 0
}

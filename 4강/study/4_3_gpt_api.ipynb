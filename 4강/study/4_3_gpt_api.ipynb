{
  "nbformat": 4,
  "nbformat_minor": 0,
  "metadata": {
    "colab": {
      "provenance": []
    },
    "kernelspec": {
      "name": "python3",
      "display_name": "Python 3"
    },
    "language_info": {
      "name": "python"
    }
  },
  "cells": [
    {
      "cell_type": "markdown",
      "source": [
        "# 실습: GPT로 prompting 기법들 체험하기\n",
        "\n",
        "이번 실습에서는 GPT api를 통해 이론 시간에 배운 prompting 기법들을 다룹니다. 먼저 필요한 library들을 설치합니다."
      ],
      "metadata": {
        "id": "wUk08smFpXCJ"
      }
    },
    {
      "cell_type": "code",
      "execution_count": null,
      "metadata": {
        "colab": {
          "base_uri": "https://localhost:8080/"
        },
        "id": "x3mIFZyNXwvP",
        "outputId": "e9b25254-d801-4dc7-f2bc-1b4055625a76",
        "collapsed": true
      },
      "outputs": [
        {
          "output_type": "stream",
          "name": "stdout",
          "text": [
            "Collecting openai\n",
            "  Downloading openai-1.51.2-py3-none-any.whl.metadata (24 kB)\n",
            "Collecting datasets\n",
            "  Downloading datasets-3.0.1-py3-none-any.whl.metadata (20 kB)\n",
            "Requirement already satisfied: anyio<5,>=3.5.0 in /usr/local/lib/python3.10/dist-packages (from openai) (3.7.1)\n",
            "Requirement already satisfied: distro<2,>=1.7.0 in /usr/lib/python3/dist-packages (from openai) (1.7.0)\n",
            "Collecting httpx<1,>=0.23.0 (from openai)\n",
            "  Downloading httpx-0.27.2-py3-none-any.whl.metadata (7.1 kB)\n",
            "Collecting jiter<1,>=0.4.0 (from openai)\n",
            "  Downloading jiter-0.6.1-cp310-cp310-manylinux_2_17_x86_64.manylinux2014_x86_64.whl.metadata (5.2 kB)\n",
            "Requirement already satisfied: pydantic<3,>=1.9.0 in /usr/local/lib/python3.10/dist-packages (from openai) (2.9.2)\n",
            "Requirement already satisfied: sniffio in /usr/local/lib/python3.10/dist-packages (from openai) (1.3.1)\n",
            "Requirement already satisfied: tqdm>4 in /usr/local/lib/python3.10/dist-packages (from openai) (4.66.5)\n",
            "Requirement already satisfied: typing-extensions<5,>=4.11 in /usr/local/lib/python3.10/dist-packages (from openai) (4.12.2)\n",
            "Requirement already satisfied: filelock in /usr/local/lib/python3.10/dist-packages (from datasets) (3.16.1)\n",
            "Requirement already satisfied: numpy>=1.17 in /usr/local/lib/python3.10/dist-packages (from datasets) (1.26.4)\n",
            "Requirement already satisfied: pyarrow>=15.0.0 in /usr/local/lib/python3.10/dist-packages (from datasets) (16.1.0)\n",
            "Collecting dill<0.3.9,>=0.3.0 (from datasets)\n",
            "  Downloading dill-0.3.8-py3-none-any.whl.metadata (10 kB)\n",
            "Requirement already satisfied: pandas in /usr/local/lib/python3.10/dist-packages (from datasets) (2.2.2)\n",
            "Requirement already satisfied: requests>=2.32.2 in /usr/local/lib/python3.10/dist-packages (from datasets) (2.32.3)\n",
            "Collecting xxhash (from datasets)\n",
            "  Downloading xxhash-3.5.0-cp310-cp310-manylinux_2_17_x86_64.manylinux2014_x86_64.whl.metadata (12 kB)\n",
            "Collecting multiprocess (from datasets)\n",
            "  Downloading multiprocess-0.70.17-py310-none-any.whl.metadata (7.2 kB)\n",
            "Requirement already satisfied: fsspec<=2024.6.1,>=2023.1.0 in /usr/local/lib/python3.10/dist-packages (from fsspec[http]<=2024.6.1,>=2023.1.0->datasets) (2024.6.1)\n",
            "Requirement already satisfied: aiohttp in /usr/local/lib/python3.10/dist-packages (from datasets) (3.10.9)\n",
            "Requirement already satisfied: huggingface-hub>=0.22.0 in /usr/local/lib/python3.10/dist-packages (from datasets) (0.24.7)\n",
            "Requirement already satisfied: packaging in /usr/local/lib/python3.10/dist-packages (from datasets) (24.1)\n",
            "Requirement already satisfied: pyyaml>=5.1 in /usr/local/lib/python3.10/dist-packages (from datasets) (6.0.2)\n",
            "Requirement already satisfied: idna>=2.8 in /usr/local/lib/python3.10/dist-packages (from anyio<5,>=3.5.0->openai) (3.10)\n",
            "Requirement already satisfied: exceptiongroup in /usr/local/lib/python3.10/dist-packages (from anyio<5,>=3.5.0->openai) (1.2.2)\n",
            "Requirement already satisfied: aiohappyeyeballs>=2.3.0 in /usr/local/lib/python3.10/dist-packages (from aiohttp->datasets) (2.4.3)\n",
            "Requirement already satisfied: aiosignal>=1.1.2 in /usr/local/lib/python3.10/dist-packages (from aiohttp->datasets) (1.3.1)\n",
            "Requirement already satisfied: attrs>=17.3.0 in /usr/local/lib/python3.10/dist-packages (from aiohttp->datasets) (24.2.0)\n",
            "Requirement already satisfied: frozenlist>=1.1.1 in /usr/local/lib/python3.10/dist-packages (from aiohttp->datasets) (1.4.1)\n",
            "Requirement already satisfied: multidict<7.0,>=4.5 in /usr/local/lib/python3.10/dist-packages (from aiohttp->datasets) (6.1.0)\n",
            "Requirement already satisfied: yarl<2.0,>=1.12.0 in /usr/local/lib/python3.10/dist-packages (from aiohttp->datasets) (1.13.1)\n",
            "Requirement already satisfied: async-timeout<5.0,>=4.0 in /usr/local/lib/python3.10/dist-packages (from aiohttp->datasets) (4.0.3)\n",
            "Requirement already satisfied: certifi in /usr/local/lib/python3.10/dist-packages (from httpx<1,>=0.23.0->openai) (2024.8.30)\n",
            "Collecting httpcore==1.* (from httpx<1,>=0.23.0->openai)\n",
            "  Downloading httpcore-1.0.6-py3-none-any.whl.metadata (21 kB)\n",
            "Collecting h11<0.15,>=0.13 (from httpcore==1.*->httpx<1,>=0.23.0->openai)\n",
            "  Downloading h11-0.14.0-py3-none-any.whl.metadata (8.2 kB)\n",
            "Requirement already satisfied: annotated-types>=0.6.0 in /usr/local/lib/python3.10/dist-packages (from pydantic<3,>=1.9.0->openai) (0.7.0)\n",
            "Requirement already satisfied: pydantic-core==2.23.4 in /usr/local/lib/python3.10/dist-packages (from pydantic<3,>=1.9.0->openai) (2.23.4)\n",
            "Requirement already satisfied: charset-normalizer<4,>=2 in /usr/local/lib/python3.10/dist-packages (from requests>=2.32.2->datasets) (3.3.2)\n",
            "Requirement already satisfied: urllib3<3,>=1.21.1 in /usr/local/lib/python3.10/dist-packages (from requests>=2.32.2->datasets) (2.2.3)\n",
            "INFO: pip is looking at multiple versions of multiprocess to determine which version is compatible with other requirements. This could take a while.\n",
            "Collecting multiprocess (from datasets)\n",
            "  Downloading multiprocess-0.70.16-py310-none-any.whl.metadata (7.2 kB)\n",
            "Requirement already satisfied: python-dateutil>=2.8.2 in /usr/local/lib/python3.10/dist-packages (from pandas->datasets) (2.8.2)\n",
            "Requirement already satisfied: pytz>=2020.1 in /usr/local/lib/python3.10/dist-packages (from pandas->datasets) (2024.2)\n",
            "Requirement already satisfied: tzdata>=2022.7 in /usr/local/lib/python3.10/dist-packages (from pandas->datasets) (2024.2)\n",
            "Requirement already satisfied: six>=1.5 in /usr/local/lib/python3.10/dist-packages (from python-dateutil>=2.8.2->pandas->datasets) (1.16.0)\n",
            "Downloading openai-1.51.2-py3-none-any.whl (383 kB)\n",
            "\u001b[2K   \u001b[90m━━━━━━━━━━━━━━━━━━━━━━━━━━━━━━━━━━━━━━━━\u001b[0m \u001b[32m383.7/383.7 kB\u001b[0m \u001b[31m9.6 MB/s\u001b[0m eta \u001b[36m0:00:00\u001b[0m\n",
            "\u001b[?25hDownloading datasets-3.0.1-py3-none-any.whl (471 kB)\n",
            "\u001b[2K   \u001b[90m━━━━━━━━━━━━━━━━━━━━━━━━━━━━━━━━━━━━━━━━\u001b[0m \u001b[32m471.6/471.6 kB\u001b[0m \u001b[31m21.5 MB/s\u001b[0m eta \u001b[36m0:00:00\u001b[0m\n",
            "\u001b[?25hDownloading dill-0.3.8-py3-none-any.whl (116 kB)\n",
            "\u001b[2K   \u001b[90m━━━━━━━━━━━━━━━━━━━━━━━━━━━━━━━━━━━━━━━━\u001b[0m \u001b[32m116.3/116.3 kB\u001b[0m \u001b[31m7.4 MB/s\u001b[0m eta \u001b[36m0:00:00\u001b[0m\n",
            "\u001b[?25hDownloading httpx-0.27.2-py3-none-any.whl (76 kB)\n",
            "\u001b[2K   \u001b[90m━━━━━━━━━━━━━━━━━━━━━━━━━━━━━━━━━━━━━━━━\u001b[0m \u001b[32m76.4/76.4 kB\u001b[0m \u001b[31m5.0 MB/s\u001b[0m eta \u001b[36m0:00:00\u001b[0m\n",
            "\u001b[?25hDownloading httpcore-1.0.6-py3-none-any.whl (78 kB)\n",
            "\u001b[2K   \u001b[90m━━━━━━━━━━━━━━━━━━━━━━━━━━━━━━━━━━━━━━━━\u001b[0m \u001b[32m78.0/78.0 kB\u001b[0m \u001b[31m5.0 MB/s\u001b[0m eta \u001b[36m0:00:00\u001b[0m\n",
            "\u001b[?25hDownloading jiter-0.6.1-cp310-cp310-manylinux_2_17_x86_64.manylinux2014_x86_64.whl (325 kB)\n",
            "\u001b[2K   \u001b[90m━━━━━━━━━━━━━━━━━━━━━━━━━━━━━━━━━━━━━━━━\u001b[0m \u001b[32m325.2/325.2 kB\u001b[0m \u001b[31m15.2 MB/s\u001b[0m eta \u001b[36m0:00:00\u001b[0m\n",
            "\u001b[?25hDownloading multiprocess-0.70.16-py310-none-any.whl (134 kB)\n",
            "\u001b[2K   \u001b[90m━━━━━━━━━━━━━━━━━━━━━━━━━━━━━━━━━━━━━━━━\u001b[0m \u001b[32m134.8/134.8 kB\u001b[0m \u001b[31m7.0 MB/s\u001b[0m eta \u001b[36m0:00:00\u001b[0m\n",
            "\u001b[?25hDownloading xxhash-3.5.0-cp310-cp310-manylinux_2_17_x86_64.manylinux2014_x86_64.whl (194 kB)\n",
            "\u001b[2K   \u001b[90m━━━━━━━━━━━━━━━━━━━━━━━━━━━━━━━━━━━━━━━━\u001b[0m \u001b[32m194.1/194.1 kB\u001b[0m \u001b[31m10.3 MB/s\u001b[0m eta \u001b[36m0:00:00\u001b[0m\n",
            "\u001b[?25hDownloading h11-0.14.0-py3-none-any.whl (58 kB)\n",
            "\u001b[2K   \u001b[90m━━━━━━━━━━━━━━━━━━━━━━━━━━━━━━━━━━━━━━━━\u001b[0m \u001b[32m58.3/58.3 kB\u001b[0m \u001b[31m3.1 MB/s\u001b[0m eta \u001b[36m0:00:00\u001b[0m\n",
            "\u001b[?25hInstalling collected packages: xxhash, jiter, h11, dill, multiprocess, httpcore, httpx, openai, datasets\n",
            "Successfully installed datasets-3.0.1 dill-0.3.8 h11-0.14.0 httpcore-1.0.6 httpx-0.27.2 jiter-0.6.1 multiprocess-0.70.16 openai-1.51.2 xxhash-3.5.0\n"
          ]
        }
      ],
      "source": [
        "!pip install openai datasets"
      ]
    },
    {
      "cell_type": "markdown",
      "source": [
        "그 다음 openai api key를 다음과 같은 절차를 거쳐 얻어냅니다:\n",
        "1. platform.openai.com 에 계정을 생성하여 로그인합니다.\n",
        "2. `Dashboard > API keys` 메뉴로 들어가 `+ Create new secret key`를 눌러줍니다.\n",
        "3. 이름을 작성한 후, `Create secret key`를 눌러 key를 만들어줍니다.\n",
        "4. 생성된 key를 복사한 후 아래 \"OPENAI_API_KEY\"에 불여넣어줍니다."
      ],
      "metadata": {
        "id": "qHSO087Gpj1o"
      }
    },
    {
      "cell_type": "code",
      "source": [
        "from openai import OpenAI\n",
        "from google.colab import userdata\n",
        "\n",
        "client = OpenAI(api_key=userdata.get('OPENAI_API_KEY'))"
      ],
      "metadata": {
        "id": "TuFFzx_TXxn3",
        "colab": {
          "base_uri": "https://localhost:8080/",
          "height": 361
        },
        "outputId": "81d0e068-9042-4051-b6eb-115520ac3970"
      },
      "execution_count": null,
      "outputs": [
        {
          "output_type": "error",
          "ename": "ModuleNotFoundError",
          "evalue": "No module named 'openai'",
          "traceback": [
            "\u001b[0;31m---------------------------------------------------------------------------\u001b[0m",
            "\u001b[0;31mModuleNotFoundError\u001b[0m                       Traceback (most recent call last)",
            "\u001b[0;32m<ipython-input-1-e37bb092b865>\u001b[0m in \u001b[0;36m<cell line: 1>\u001b[0;34m()\u001b[0m\n\u001b[0;32m----> 1\u001b[0;31m \u001b[0;32mfrom\u001b[0m \u001b[0mopenai\u001b[0m \u001b[0;32mimport\u001b[0m \u001b[0mOpenAI\u001b[0m\u001b[0;34m\u001b[0m\u001b[0;34m\u001b[0m\u001b[0m\n\u001b[0m\u001b[1;32m      2\u001b[0m \u001b[0;32mfrom\u001b[0m \u001b[0mgoogle\u001b[0m\u001b[0;34m.\u001b[0m\u001b[0mcolab\u001b[0m \u001b[0;32mimport\u001b[0m \u001b[0muserdata\u001b[0m\u001b[0;34m\u001b[0m\u001b[0;34m\u001b[0m\u001b[0m\n\u001b[1;32m      3\u001b[0m \u001b[0;34m\u001b[0m\u001b[0m\n\u001b[1;32m      4\u001b[0m \u001b[0mclient\u001b[0m \u001b[0;34m=\u001b[0m \u001b[0mOpenAI\u001b[0m\u001b[0;34m(\u001b[0m\u001b[0mapi_key\u001b[0m\u001b[0;34m=\u001b[0m\u001b[0muserdata\u001b[0m\u001b[0;34m.\u001b[0m\u001b[0mget\u001b[0m\u001b[0;34m(\u001b[0m\u001b[0;34m'OPENAI_API_KEY'\u001b[0m\u001b[0;34m)\u001b[0m\u001b[0;34m)\u001b[0m\u001b[0;34m\u001b[0m\u001b[0;34m\u001b[0m\u001b[0m\n",
            "\u001b[0;31mModuleNotFoundError\u001b[0m: No module named 'openai'",
            "",
            "\u001b[0;31m---------------------------------------------------------------------------\u001b[0;32m\nNOTE: If your import is failing due to a missing package, you can\nmanually install dependencies using either !pip or !apt.\n\nTo view examples of installing some common dependencies, click the\n\"Open Examples\" button below.\n\u001b[0;31m---------------------------------------------------------------------------\u001b[0m\n"
          ],
          "errorDetails": {
            "actions": [
              {
                "action": "open_url",
                "actionText": "Open Examples",
                "url": "/notebooks/snippets/importing_libraries.ipynb"
              }
            ]
          }
        }
      ]
    },
    {
      "cell_type": "markdown",
      "source": [
        "처음 계정을 생성하고 사용할 때는 10달러 정도의 credit을 주는 것으로 알고 있습니다.\n",
        "만약 credit이 없다면 1달러 정도만 충전해줘도 아래 실습을 진행하는데 있어 문제는 생기지 않습니다.\n",
        "\n",
        "다음은 GPT api로 text 생성하는 예시입니다."
      ],
      "metadata": {
        "id": "xvLffQE1qWId"
      }
    },
    {
      "cell_type": "code",
      "source": [
        "temperature = 0.5  # 각 token을 샘플링할 때 사용하는 temperature 값입니다.\n",
        "max_tokens = 4096  # 생성하는 최대 token 개수 입니다.\n",
        "n = 5  # 같은 질의에 대해 몇 개의 답변을 출력할지 결정합니다.\n",
        "frequency_penalty = 0.0  # 같은 단어가 반복적으로 나오는 것을 방지하기 위한 옵션입니다.\n",
        "user_prompt = \"List the subjects in Euclidean plane geometry.\"\n",
        "\n",
        "message=[{\"role\": \"user\", \"content\": user_prompt}]\n",
        "response = client.chat.completions.create(\n",
        "    model=\"gpt-4o\",\n",
        "    messages=message,\n",
        "    n=n,\n",
        "    max_tokens=max_tokens,\n",
        "    temperature=temperature,\n",
        "    frequency_penalty=frequency_penalty\n",
        ")\n",
        "print(response.choices[0].message.content)"
      ],
      "metadata": {
        "colab": {
          "base_uri": "https://localhost:8080/"
        },
        "id": "8g9L-5H_X3Ui",
        "outputId": "36c1e690-ee4d-428c-f0ed-39d04e43682e"
      },
      "execution_count": null,
      "outputs": [
        {
          "output_type": "stream",
          "name": "stdout",
          "text": [
            "Euclidean plane geometry, a branch of mathematics introduced by the ancient Greek mathematician Euclid, focuses on the properties and relations of points, lines, angles, and figures in a two-dimensional plane. Here are the primary subjects typically covered in Euclidean plane geometry:\n",
            "\n",
            "1. **Points and Lines**\n",
            "   - Definitions and basic properties\n",
            "   - Line segments and rays\n",
            "   - Collinearity and coplanarity\n",
            "\n",
            "2. **Angles**\n",
            "   - Types of angles (acute, right, obtuse, straight, reflex)\n",
            "   - Angle measurement and units (degrees, radians)\n",
            "   - Angle relationships (adjacent, complementary, supplementary, vertical)\n",
            "\n",
            "3. **Triangles**\n",
            "   - Classification by sides (scalene, isosceles, equilateral)\n",
            "   - Classification by angles (acute, right, obtuse)\n",
            "   - Properties and theorems (Pythagorean theorem, triangle inequality theorem)\n",
            "   - Congruence and similarity (SSS, SAS, ASA, AAS, HL)\n",
            "   - Special points (centroid, orthocenter, circumcenter, incenter)\n",
            "\n",
            "4. **Quadrilaterals**\n",
            "   - Types (parallelogram, rectangle, square, rhombus, trapezoid, kite)\n",
            "   - Properties and theorems (parallel sides, angle sums, diagonals)\n",
            "\n",
            "5. **Polygons**\n",
            "   - General properties (convex and concave polygons)\n",
            "   - Regular polygons\n",
            "   - Interior and exterior angles\n",
            "\n",
            "6. **Circles**\n",
            "   - Definitions and properties (radius, diameter, circumference)\n",
            "   - Arcs, chords, tangents, and secants\n",
            "   - Angle properties (central angles, inscribed angles)\n",
            "   - Theorems (Tangent-Secant theorem, Power of a Point)\n",
            "\n",
            "7. **Transformations**\n",
            "   - Types (translations, rotations, reflections, dilations)\n",
            "   - Properties and invariants\n",
            "   - Congruence and similarity through transformations\n",
            "\n",
            "8. **Area and Perimeter**\n",
            "   - Formulas for various shapes (triangles, quadrilaterals, circles, polygons)\n",
            "   - Composite figures\n",
            "\n",
            "9. **Coordinate Geometry**\n",
            "   - Cartesian plane and coordinate systems\n",
            "   - Distance formula, midpoint formula\n",
            "   - Equation of a line (slope-intercept form, point-slope form)\n",
            "   - Intersection of lines, parallel and perpendicular lines\n",
            "\n",
            "10. **Constructions**\n",
            "    - Basic constructions using a compass and straightedge\n",
            "    - Constructing perpendicular and parallel lines\n",
            "    - Bisecting angles and segments\n",
            "    - Constructing specific polygons and circles\n",
            "\n",
            "11. **Loci**\n",
            "    - Definition and properties of loci\n",
            "    - Common loci problems (e.g., the set of points equidistant from two points)\n",
            "\n",
            "These subjects form the foundation of Euclidean plane geometry and are essential for understanding more advanced topics in mathematics and related fields.\n"
          ]
        }
      ]
    },
    {
      "cell_type": "markdown",
      "source": [
        "Euclidean plane geometry와 관련된 주제들을 쭉 나열하는 모습입니다.\n",
        "\n",
        "다음은 영화 리뷰 감정 분석을 해봅시다."
      ],
      "metadata": {
        "id": "MpuhUJAirSn2"
      }
    },
    {
      "cell_type": "code",
      "source": [
        "from datasets import load_dataset\n",
        "\n",
        "imdb = load_dataset(\"imdb\")\n",
        "imdb['train'] = imdb['train'].shuffle()"
      ],
      "metadata": {
        "id": "hJsPCjOGX73H",
        "collapsed": true
      },
      "execution_count": null,
      "outputs": []
    },
    {
      "cell_type": "markdown",
      "source": [
        "위와 같이 data를 불러온 후, 다음과 같이 text를 생성해봅시다."
      ],
      "metadata": {
        "id": "sz2TELYsrZtN"
      }
    },
    {
      "cell_type": "code",
      "source": [
        "message=[{\"role\": \"user\", \"content\": \"Is the following movie review positive or negative?: \" + imdb[\"test\"][123][\"text\"]}]\n",
        "response = client.chat.completions.create(\n",
        "    model=\"gpt-4o\",\n",
        "    messages=message,\n",
        "    n=5,\n",
        "    max_tokens=max_tokens,\n",
        "    temperature=temperature,\n",
        "    frequency_penalty=frequency_penalty\n",
        ")\n",
        "\n",
        "print(imdb[\"test\"][123][\"label\"])\n",
        "for i in range(5):\n",
        "    print(response.choices[i].message.content)"
      ],
      "metadata": {
        "colab": {
          "base_uri": "https://localhost:8080/"
        },
        "id": "spPhRt3OYCdr",
        "outputId": "9491002f-3d89-4e76-f2ac-43c050a411c4"
      },
      "execution_count": null,
      "outputs": [
        {
          "output_type": "stream",
          "name": "stdout",
          "text": [
            "0\n",
            "The movie review is negative. The reviewer criticizes the film for being too long, having a directionless script, and lacking a central story. They also mention that the characters are not well developed and that the film's multiple endings are unsatisfying. Overall, the tone of the review is one of disappointment and frustration.\n",
            "The movie review is negative. The reviewer criticizes the film for being too long, having an aimless script, and lacking a cohesive story. They also mention that the characters are poorly developed and that the film has multiple unsatisfying endings. Overall, the tone and content of the review indicate dissatisfaction with the movie.\n",
            "The movie review is negative. The reviewer criticizes the film for being too long, having a script that goes nowhere, and using unrelated events that don't further the story. They also mention that the characters are poorly developed and rely on monologues from third parties for explanation. Additionally, the reviewer points out the film's multiple endings as a sign of indecision and expresses overall dissatisfaction with the movie.\n",
            "The movie review is negative. The reviewer criticizes the film for being too long, having a script that lacks direction, and failing to develop a coherent story. They also mention that the characters are not well-developed and that the film has multiple unsatisfying endings. Overall, the tone and content of the review indicate dissatisfaction with the movie.\n",
            "The review is negative. The reviewer criticizes the movie for being too long, having a script that goes nowhere, and lacking a coherent story. They also mention that the characters are poorly developed and that the film has multiple unsatisfactory endings. Overall, the tone and content of the review express dissatisfaction with the movie.\n"
          ]
        }
      ]
    },
    {
      "cell_type": "markdown",
      "source": [
        "결과를 보시면 5개의 랜덤한 출력 모두 negative하다고 정확하게 예측하는 것을 알 수 있습니다.\n",
        "GPT는 이전 실습에서 한 것 처럼 logit 계산을 할 수도 있지만, 순수하게 text 생성을 통해 감정 분석을 진행할 수도 있습니다.\n",
        "이러한 방식이 사용자와의 소통에 조금 더 적합한 방식이기도 하고요.\n",
        "\n",
        "하지만 한 가지 단점 중 하나는 답변이 정돈되지 않아, 자동 평가가 어렵다는 것입니다.\n",
        "그래서 포맷을 정돈하기 위해 다음과 같이 few-shot example들을 던져줍니다."
      ],
      "metadata": {
        "id": "HrihFlWxrnI1"
      }
    },
    {
      "cell_type": "code",
      "source": [
        "prompt = \"Is the following movie review positive or negative?\\n\\n\"\n",
        "for i in range(10):\n",
        "    text = imdb[\"train\"][i][\"text\"]\n",
        "    label = imdb[\"train\"][i][\"label\"]\n",
        "\n",
        "    sub_prompt = \"Review: \" + text\n",
        "    if label == 0:\n",
        "        sub_prompt += \"\\nAnswer: negative\\n\\n\"\n",
        "    else:\n",
        "        sub_prompt += \"\\nAnswer: positive\\n\\n\"\n",
        "    prompt += sub_prompt\n",
        "\n",
        "prompt += \"Review: \"\n",
        "print(prompt)"
      ],
      "metadata": {
        "colab": {
          "base_uri": "https://localhost:8080/"
        },
        "id": "3ZwH0uIcYLKT",
        "outputId": "d6f35b94-9e2a-4acd-bf7a-94346585c87d"
      },
      "execution_count": null,
      "outputs": [
        {
          "output_type": "stream",
          "name": "stdout",
          "text": [
            "Is the following movie review positive or negative?\n",
            "\n",
            "Review: in 1976 i had just moved to the us from ceylon. i was 23, and had been married for a little over three years, and was beginning to come out as a lesbian. i saw this movie on an old black and white TV, with terrible reception, alone, and uninterrupted, in an awakening that seemed like an echo of the story. i was living in a small house in tucson arizona, and it was summertime... like everyone else here, i never forgot the feelings the images of this story called forth, and its residue of fragile magic, and i have treasured a hope that i would see it again someday. i'll keep checking in. i also wish that someone would make a movie of shirley verel's 'the other side of venus'. it also has some of the same delicacy and persistent poignancy...\n",
            "Answer: positive\n",
            "\n",
            "Review: This is the second Baby Burlesk short to be released, and probably the most popular one, is a spoof of the 1926 silent film What Price Glory.<br /><br />I watched this and I do not understand the kiddie-porn that is being claimed. It is just a cute little film. I have seen family shows that I grew up watching in the '80's and '90's that had little girls dressed more provocatively acting in a 'mature manner'. It was more provocative because they WEREN'T dressed in diapers. There's nothing provocative about a diaper unless you have one of those fetishes. (just a joke) I read that description of the movie and where it states only a pedophile would enjoy watching this. That is sick. To me, if you watch this and are bothered by it, then maybe you need to look into your own psyche and try to figure out why it bothers you. It is an innocent film that was made as a parody of another film. All of the B.B. films were parodies, nothing more. The parodies/spoofs of today are graphic in nature and have true almost pornographic scenes and quite vile language. Shouldn't those be more appalling? I can watch those without issue, but they sometimes take children's stories and turn them into filth on those parodies. That is what should get under your skin. Not that they babified (not a word, I know) an adult movie from 1926, because we know how PORNOGRAPHIC those silent films were, huh? Not to mention those 'Forbidden Hollywood Pre-Code era films' so vile and filthy. They would NEVER make such filth today? (note the sarcasm)\n",
            "Answer: positive\n",
            "\n",
            "Review: Wow! So much fun! Probably a bit much for normal American kids, and really it's a stretch to call this a kid's film, this movie reminded me a quite a bit of Time Bandits - very Terry Gilliam all the way through. While the overall narrative is pretty much straight forward, Miike still throws in A LOT of surreal and Bunuel-esquire moments. The whole first act violently juxtaposes from scene to scene the normal family life of the main kid/hero, with the spirit world and the evil than is ensuing therein. And while the ending does have a bit of an ambiguous aspect that are common of Miike's work, the layers of meaning and metaphor, particularly the anti-war / anti-revenge message of human folly, is pretty damn poignant. As manic and imaginatively fun as other great Miike films, only instead of over the top torture and gore, he gives us an endless amount of monsters and yokai from Japanese folk-lore creatively conceived via CG and puppetry wrapped into an imaginative multi-faceted adventure. F'n rad, and one of Miike's best!\n",
            "Answer: positive\n",
            "\n",
            "Review: I saw this movie when I was little - It was called \"Glacier Fox\". I was totally traumatized by it! It follows a cute little fox family around. The beginning was great and I remember becoming very attached to the little foxes. I also remember my mother carrying me out of the theater while I was in hysterics. I won't tell you what happened, but let's just say it doesn't end well for all of the foxes. I was used to Disney type nature films where the animals don't REALLY die. Oh man. This movie made me cry for hours. It was a good movie...I think - I was really little and truth be told -all I remember is being happy for the foxes and then seeing one of them die. Rent it if you can, but don't show your kids!\n",
            "Answer: positive\n",
            "\n",
            "Review: ...but the general moviegoer's mileage may vary in Mary \"American Psycho\" Harron's stylized look at the American sexual psyche as seen through the lens of the immortal Queen of Curves, Bettie Page.<br /><br />I'll not bore anyone with a recitation of the iconic status of Ms. Page, a prim and proper valedictorian from Nashville, Tennessee, who moved to New York in hopes of being an actress and ended up becoming the Bondage Queen of the Universe. Nor will I run through the sketchy bio-pic plot of \"The Notorious Bettie Page,\" though I offer high kudos to the technical aspects of the film (a sequence of animated magazine covers springs instantly to mind), improper use of a period camera notwithstanding. Finally, I won't belabor the timely applicability of the film's themes of innocence and perversion, freedom and control, the sacred and the secular; they're there for the viewer to absorb, if they wish. The more things change, the more they stay the same, as the saying goes.<br /><br />What I will ramble on about for a moment is the splendid performance of Gretchen Mol as Bettie Page. Truth is, Mol's face looks almost nothing like Bettie's, nor is she particularly built like Bettie (although only a fool would deny those beautiful breasts, and no fool, I!). She doesn't even sport the thick, dark bush that concealed Ms. Page's most intimate charms, but the fact remains that Mol thoroughly embodies the spirit of Bettie Page in every way, shape, and form. It is a bravura \"comeback\" from an undeserved semi-obscurity. I've never met Ms. Page (and sadly, never will, most likely), but I've devoured the photos and videos, and read all the bios and interviews available, bought the trading cards and other odds and ends, and to be honest, lusted for Ms. Page ever since I first discovered her in my adolescence between the covers of dusty tease magazines at the barber shop and the five and dime. Mol perfectly captures the essence of the woman as I have come to conceive her, no pun intended, in what I consider to be an Oscar-worthy performance. Liv Tyler could never have matched Mol's shining intensity of characterization in a million years, and I, for one, am grateful she left the project. Not that I'd mind seeing her totally naked, I hasten to add, but I can't imagine that her brand of sensuality would have translated into the innocent exhuberance of Bettie Page.<br /><br />\"The Notorious Bettie Page\" is not for everyone, any more than bondage and discipline are. I suspect it will do much better on disc than in the theaters; legions of devoted Page fans and the curious will see to that. I can only hope that the DVD will be chock full of enough Bettie extras to show the uninitiated just how good a job Mol has done.<br /><br />Beyond that, a tip of the hat to a fine supporting cast, especially Lili Taylor and Chris Bauer as Paula and Irving Klaw, whose celebrity photo business was Bettie's doorway to immortality.<br /><br />A final note to the young scribe who opined that Ms. Page had no effect on his generation: take a good look at Madonna's cone brassiere and get back to us. Bettie Page is, whether you know it or not, the true Godmother of fetishwear. Without her, Madonna and the rest of her kin could never have existed.\n",
            "Answer: positive\n",
            "\n",
            "Review: Watching the first 30 minutes of Sands of Oblivion gave me high hopes. It seemed I was in for a cheaper version of the Mummy. The setup was promising, in the 1920's Cecil B. Demille makes his opus of the Ten Commandments. It seems in using real Egyptian artifacts for the movie set they unleashed an ancient and terrible evil (don't they always?). Aware of what had been unleashed DeMille orders the entire set buried instead of the usual practice of tearing it down. Hopefully the evil will be buried with it for all time. Then we switch to present day where a team is attempting to excavate the site (the movie's first mistake, but hey those period costumes are expensive and this is a Sci-Fi channel movie). The first sightings we get of the Anubis monster are well done and it's a costume that they put some effort into and not the usual cheesy CG effect. Then the body counts starts. This is were the movie went south for me. The reactions to the fact that people are dying in gruesome and strange ways gets a strangely subdued reaction. Once they realize that the ancient evil has again been unleashed and is on a killing spree what do the stock issue leading man and lady do? They make the usual stop to the \"guy who knows the truth but never told anyone\". After getting that vital information do they share it with the comrades at the dig site? No, they stop off at a hotel for a refreshing shower and some pleasant small talk. Really I'm not the most motivated person but if I knew a demon from ancient Egypt was on the loose and killing everyone in sight and would be coming after me I'd put a little hustle in my step to solve the problem. After this overlong and pointless middle section they get around to destroying the Anubis monster in the usual way, by racing around in dune buggies and shooting it with a rocket launcher while it's standing by a pile of phosphorous grenades. For a Sci-Fi movie it was above the usual crap they put out, which isn't saying much at all. What disappoints me is this could have been a lot more if someone had wrote a decent script for it.\n",
            "Answer: negative\n",
            "\n",
            "Review: I have seen this movie and the other one. Trinity is my name and i find that this one is worse then the first one. I have no idea why they even made another movie it was stupid and pointless sorry to say that i have all of them. I have sat through them number of times and it still drives me to turn it off 5 minutes into the movie. I like Terence Hill movies and i like Bud Spencer but this movie just drove me up the wall. If it had a different story line or at least more of a plot and more comedy it might have been funner and worth the 5 dollars i spent buying all the movies. But you make mistakes so i would say save your money and don't bye this movie or any of the ones that go with it trust me on this one.\n",
            "Answer: negative\n",
            "\n",
            "Review: Feroz Abbas Khan's Gandhi My Father, a film that sheds light on the fractured relationship between the Mahatma and his son Harilal Gandhi. For a story that's as dramatic as the one this film attempts to tell, it's a pity the director fails to tell it dramatically. Gandhi My Father is narrated to you like that boring history lesson that put you to sleep at school. Now the film aims to convey one very interesting point - the fact that Gandhi in his attempt to be a fair person, ended up being an unfair father. This point is made in the film many times over, and one of the examples given to make this point is that scholarship to England, which Gandhi twice denies his son. Instead of showing us how exactly Harilal dealt with this betrayal and what went on in his head, the director just moves along with the story, thus never letting us be witness to the growing resentment Harilal feels towards his father. Which is why when we finally see an outburst from Harilal, it comes off looking like he's over-reacting. <br /><br />The point I'm trying to make here is that we never really get to understand exactly why Harilal became the rebel that he did. We never really understand why he turned to Islam, and then back again to Hinduism. The thing is, we never really understand Harilal at all. And that's because the director of this film is too busy focusing on Mohandas Karamchand Gandhi and his role in the freedom struggle, a story most of us are already familiar with. To put it simply, Gandhi My Father promises to examine the strained father-son relationship, but it doesn't so much as show us where the cracks in this relationship first set in. We understand Harilal had to live with the burden of being Gandhi's son, but show us why that was a burden to begin with. Show us incidents of their early conflict. For example, it's not enough that Gandhi merely says he's opposed to Harilal's early marriage, tell us why this opposition? It's not enough that Kasturba blames her husband for the way her son turned out - for constantly shuttling him between schools in Gujarat and South Africa, for making him relocate every time Gandhi needed to relocate. Words are not enough, show us how these incidents shaped the character of Harilal Gandhi.What's more, instead of sticking with the prickly theme of this tenuous Gandhi versus Gandhi relationship, the film goes off on too many tangents, thus diluting the impact of the central theme. This was never meant to be a film about the struggle for Independence, and yet on many occasions that's exactly what it seems like, because the director feels almost obligated to take us through all the main events leading upto that historic moment, even though much of it has no relevance to the film's basic premise - the stormy father-son relationship. So you see the problem with this film is not that it's a bad film, but it's certainly a very confused film. What happens to Harilal's children after his wife's death? Does he ever have relationship with them? Where do they suddenly vanish after that one scene in which we see them with the Mahatma and Kasturba? None of these questions are answered in a film that's basically meant to be about relationships in the Gandhi family. The film version of an immensely popular play directed by Feroz Abbas Khan himself, Gandhi My Father is a disappointment, no questions asked.Cinematically, it struggles to translate the filmmaker's ambitious intention to the screen. Practically every single scene in the film opens and closes with fade-ins and fade-outs, never quite seamlessly leading into each other. On the positive side, there is inherent nobility in the film, which you recognise. The filmmaker makes every effort to deliver a balanced narrative, trying hard not to take sides, never once judging either father or son, painting neither as the villain. What the film does do, however, is make clear the fact that Gandhi was a difficult patriarch whose ideals may have shaped the nation, but evidently alienated his family. Of all the actors in the film it's only Akshaye Khanna who really shines in the role of the luck-deprived Harilal Gandhi. It's a wonderful performance, and it's not easy since the role covers virtually the entire lifespan of the character. But Akshaye brings a rare concoction of innocence and despondency to that part and succeeds in making Harilal a pitiable figure. Just watch him in that scene in which he discovers his wife's dead, and you'll realise how much he conveys through body language alone. Darshan Jariwala, meanwhile, who plays Gandhi Senior, adopts a caricaturish approach to playing the Mahatma in his later years, but it's the way he humanises the man in his early years as a barrister in South Africa that is the actor's best contribution to that role. The abundantly gifted Shefali Shah plays Kasturba, the woman who's meant to be torn in this father-son conflict, but if she's unable to bring across that feeling of helplessness then it's really not so much her fault as it is the fault of a rickety script. Much effort's gone into the making of this film and that's evident throughout, but the film suffers from that inevitable flaw that is eventually what you'll remember about it when you leave the cinema - it's just so boring.Director Feroz Abbas Khan's Gandhi My Father is a sincere effort yes, but also a film that could have done with a much tighter screenplay. What we learn from the film is that Gandhi and Harilal made each other very unhappy. And with this film, the director makes us too.\n",
            "Answer: positive\n",
            "\n",
            "Review: The plot sounded like it had promise. To be honest I did not watch the entire movie. After about an hour into the movie I had to make a decision. Is this movie worth watching until it conclusion? The answer was clearly NO! It was not the fact that the human body could not receive a transplant from a different species without rejecting it. Nor the premise that he was being chased by secret government authorities for an human / wolf transplant. It was because the movie was badly written, acting lacked emotion and I did not understand the several dream sequences with the wolves and buffaloes. When he was running to the zoo with a dog pack and leaving them at the front of the zoo gate the saying \"If you can't run with the big dogs don't leave the porch\" kept running through my bored mind. Save yourself the time and skip this movie. I can guarantee if you do dare to watch it you will sit there slack jawed as I did wondering why anyone waste money, time, energy and effort to make this insulting outrage to American cinema.\n",
            "Answer: negative\n",
            "\n",
            "Review: This one was marred by potentially great matches being cut very short.<br /><br />The opening match was a waste of the Legion of Doom, but I guess the only way they could have been eliminated by Demolition was a double-DQ. Otherwise, Mr. Perfect would have had to put in overtime. Kerry von Erich, the I-C champ, was wasted here. And this was the third ppv in a row where Perfect jobbed. Remember, before that he never lost a match.<br /><br />The second match was very good, possibly the best of the night. Ted DiBiase and the Undertaker were excellent, while the Jim Neidhart had one of his WWF highlights, pinning the Honky Tonk Man. Koko B. Ware continued his tradition of being the first to put over a new heel (remember the Big Bossman and Yokozuna?). This was a foreshadowing of Bret Hart's singles career, as he came back from two-on-one and almost survived the match. He and DiBiase put on a wrestling clinic, making us forget that the point of the match was DiBiase's boring feud with Dusty Rhodes.<br /><br />Even though the Visionaries were the first team to have all of its members survive (and only the second since '87 to have four survivors), this match was not a squash. This was the longest match of the night, and Jake did a repeat of his '88 performance when he was left alone against four men and dominated. I think he could have actually pulled off an upset. These days, the match would have ended the other way around.<br /><br />One of the shortest SS matches ever was also one of its most surprising. Possibly the most underrated wrestler ever, Tito Santana was the inspirational wrestler of the night, putting on war paint and pinning Boris Zukhov, Tanaka, and even the Warlord in the final survival match. It was so strange to see him put over so overwhelmingly, then go right back to his mediocre career. Sgt. Slaughter also did well, getting rid of Volkoff and the Bushwhackers, but that just wasn't a surprise. Tito was.<br /><br />I think the only point of the survival match was to have Hogan and the Warrior win together at the end.<br /><br />This show was boring and the matches were too short. The Undertaker's debut was cool, but Tito Santana is the reason I will remember this one.\n",
            "Answer: negative\n",
            "\n",
            "Review: \n"
          ]
        }
      ]
    },
    {
      "cell_type": "markdown",
      "source": [
        "위에서 볼 수 있듯이 주어진 training data를 통해 \"Review: <review>\\n<Answer>: answer\\n\\n\"의 형태로 출력되게끔 유도하는 prompting을 만든 모습입니다.\n",
        "실제로 우리가 원하는 대로 답변이 포맷을 지켜주는지 살펴봅시다."
      ],
      "metadata": {
        "id": "x8WcNARssFur"
      }
    },
    {
      "cell_type": "code",
      "source": [
        "message=[{\"role\": \"user\", \"content\": prompt + imdb[\"test\"][123][\"text\"] + \"\\nAnswer: \"}]\n",
        "response = client.chat.completions.create(\n",
        "    model=\"gpt-4o\",\n",
        "    messages=message,\n",
        "    n=1,\n",
        "    max_tokens=max_tokens,\n",
        "    temperature=temperature,\n",
        "    frequency_penalty=frequency_penalty\n",
        ")\n",
        "print(response.choices[0].message.content)"
      ],
      "metadata": {
        "colab": {
          "base_uri": "https://localhost:8080/"
        },
        "id": "nPH4TPzYYUs-",
        "outputId": "7e4cfebd-32d7-4a57-cd3b-12c41dbcbe41"
      },
      "execution_count": null,
      "outputs": [
        {
          "output_type": "stream",
          "name": "stdout",
          "text": [
            "negative\n"
          ]
        }
      ]
    },
    {
      "cell_type": "markdown",
      "source": [
        "정상적으로 우리가 정한 포맷대로 답변을 내놓는 것을 알 수 있습니다.\n",
        "\n",
        "이번에는 조금 더 어려운 수학 문제들을 가지고 CoT와 PAL을 체험해보겠습니다.\n",
        "다음과 같이 수학 문제들을 준비합시다."
      ],
      "metadata": {
        "id": "C8H7Z6xotMQd"
      }
    },
    {
      "cell_type": "code",
      "source": [
        "problem_easy = \"Roger has 5 tennis balls. He buys 2 more cans of tennis balls. Each can has 3 tennis balls. How many tennis balls does he have now?\"\n",
        "problem_hard = \"At time \\(t = 0\\), starting simultaneously from the origin and moving along a straight line, the velocities of two points \\(P\\) and \\(Q\\) at time \\(t\\) (\\(t \\geq 0\\)) are given by \\[v_1(t) = t^2 - 6t + 5, \\quad v_2(t) = 2t - 7\\] respectively. Let the distance between points \\(P\\) and \\(Q\\) at time \\(t\\) be denoted by \\(f(t)\\). The function \\(f(t)\\) is increasing on the interval \\([0, a]\\), decreasing on the interval \\([a, b]\\), and increasing on the interval \\([b, \\infty)\\). What is the total distance that point \\(Q\\) has moved from time \\(t = a\\) to \\(t = b\\)? (Note that \\(0 < a < b\\))\""
      ],
      "metadata": {
        "id": "-a8KXsdwYXhn"
      },
      "execution_count": null,
      "outputs": []
    },
    {
      "cell_type": "markdown",
      "source": [
        "먼저 `problem_easy`를 GPT-4를 가지고 풀어봅시다."
      ],
      "metadata": {
        "id": "CNksO-pQtWMb"
      }
    },
    {
      "cell_type": "code",
      "source": [
        "assistant_prompt = \"You are an highschool student who is a mathematician.\"\n",
        "user_prompt = problem_easy  #  + \"Solve the problem using code interpreter step by step, even in every sub-step.\"\n",
        "\n",
        "message=[{\"role\": \"assistant\", \"content\": assistant_prompt}, {\"role\": \"user\", \"content\": user_prompt}]\n",
        "response = client.chat.completions.create(\n",
        "    model=\"gpt-4o\",\n",
        "    messages=message,\n",
        "    n=1,\n",
        "    max_tokens=max_tokens,\n",
        "    temperature=temperature,\n",
        "    frequency_penalty=frequency_penalty\n",
        ")\n",
        "print(response.choices[0].message.content)"
      ],
      "metadata": {
        "colab": {
          "base_uri": "https://localhost:8080/"
        },
        "id": "lGE31VhWYcag",
        "outputId": "57e6321d-ef72-4c3e-c2b7-7d7ad592549c"
      },
      "execution_count": null,
      "outputs": [
        {
          "output_type": "stream",
          "name": "stdout",
          "text": [
            "To determine the total number of tennis balls Roger has now, we need to follow these steps:\n",
            "\n",
            "1. Start with the number of tennis balls Roger initially has:\n",
            "   \\[\n",
            "   5 \\text{ tennis balls}\n",
            "   \\]\n",
            "\n",
            "2. Calculate the number of tennis balls in the cans he buys. Each can contains 3 tennis balls, and he buys 2 cans:\n",
            "   \\[\n",
            "   2 \\text{ cans} \\times 3 \\text{ tennis balls per can} = 6 \\text{ tennis balls}\n",
            "   \\]\n",
            "\n",
            "3. Add the number of tennis balls from the cans to the initial number of tennis balls:\n",
            "   \\[\n",
            "   5 \\text{ tennis balls} + 6 \\text{ tennis balls} = 11 \\text{ tennis balls}\n",
            "   \\]\n",
            "\n",
            "Therefore, Roger now has:\n",
            "\\[\n",
            "11 \\text{ tennis balls}\n",
            "\\]\n"
          ]
        }
      ]
    },
    {
      "cell_type": "markdown",
      "source": [
        "보시다시피 GPT-4는 별다른 prompting 없이도 CoT를 진행하고 있습니다.\n",
        "실제로 맞는 결과를 내놓는 것을 알 수 있습니다.\n",
        "\n",
        "다음은 더 어려운 문제를 PAL로 풀어보도록 하겠습니다.\n",
        "추가적인 prompting을 통해 다음과 같이 python code를 구현하는 출력을 볼 수 있습니다."
      ],
      "metadata": {
        "id": "Nx3a5J6itZQy"
      }
    },
    {
      "cell_type": "code",
      "source": [
        "user_prompt = problem_hard + \"Solve the problem by using code interpreter in every sub-step.\"\n",
        "\n",
        "message=[{\"role\": \"assistant\", \"content\": assistant_prompt}, {\"role\": \"user\", \"content\": user_prompt}]\n",
        "response = client.chat.completions.create(\n",
        "    model=\"gpt-4o\",\n",
        "    messages=message,\n",
        "    n=1,\n",
        "    max_tokens=max_tokens,\n",
        "    temperature=0.0,\n",
        "    frequency_penalty=frequency_penalty\n",
        ")\n",
        "print(response.choices[0].message.content)"
      ],
      "metadata": {
        "colab": {
          "base_uri": "https://localhost:8080/"
        },
        "id": "GcgARvIuYkXv",
        "outputId": "e2ac7919-af90-42dc-e184-88d9e3fb8571"
      },
      "execution_count": null,
      "outputs": [
        {
          "output_type": "stream",
          "name": "stdout",
          "text": [
            "To solve this problem, we need to follow these steps:\n",
            "\n",
            "1. **Find the positions of points \\(P\\) and \\(Q\\) as functions of time \\(t\\)** by integrating their velocity functions.\n",
            "2. **Determine the critical points \\(a\\) and \\(b\\)** where the function \\(f(t)\\) changes its behavior from increasing to decreasing and vice versa.\n",
            "3. **Calculate the total distance that point \\(Q\\) has moved from time \\(t = a\\) to \\(t = b\\)**.\n",
            "\n",
            "Let's start with step 1.\n",
            "\n",
            "### Step 1: Find the positions of points \\(P\\) and \\(Q\\)\n",
            "\n",
            "The velocity functions are given by:\n",
            "\\[ v_1(t) = t^2 - 6t + 5 \\]\n",
            "\\[ v_2(t) = 2t - 7 \\]\n",
            "\n",
            "To find the positions, we integrate these velocity functions with respect to \\(t\\).\n",
            "\n",
            "#### Position of point \\(P\\):\n",
            "\\[ x_1(t) = \\int (t^2 - 6t + 5) \\, dt \\]\n",
            "\n",
            "#### Position of point \\(Q\\):\n",
            "\\[ x_2(t) = \\int (2t - 7) \\, dt \\]\n",
            "\n",
            "Let's integrate these functions.\n",
            "\n",
            "```python\n",
            "import sympy as sp\n",
            "\n",
            "t = sp.symbols('t')\n",
            "\n",
            "# Velocity functions\n",
            "v1 = t**2 - 6*t + 5\n",
            "v2 = 2*t - 7\n",
            "\n",
            "# Integrate to find positions\n",
            "x1 = sp.integrate(v1, t)\n",
            "x2 = sp.integrate(v2, t)\n",
            "\n",
            "x1, x2\n",
            "```\n",
            "\n",
            "### Step 2: Determine the critical points \\(a\\) and \\(b\\)\n",
            "\n",
            "The distance between points \\(P\\) and \\(Q\\) at time \\(t\\) is given by:\n",
            "\\[ f(t) = |x_1(t) - x_2(t)| \\]\n",
            "\n",
            "To find the critical points, we need to find the derivative of \\(f(t)\\) and set it to zero.\n",
            "\n",
            "\\[ f'(t) = \\frac{d}{dt} |x_1(t) - x_2(t)| \\]\n",
            "\n",
            "Let's find the critical points.\n",
            "\n",
            "```python\n",
            "# Position functions\n",
            "x1 = sp.integrate(v1, t)\n",
            "x2 = sp.integrate(v2, t)\n",
            "\n",
            "# Distance function\n",
            "f = sp.Abs(x1 - x2)\n",
            "\n",
            "# Derivative of the distance function\n",
            "f_prime = sp.diff(f, t)\n",
            "\n",
            "# Solve for critical points\n",
            "critical_points = sp.solve(f_prime, t)\n",
            "critical_points\n",
            "```\n",
            "\n",
            "### Step 3: Calculate the total distance that point \\(Q\\) has moved from time \\(t = a\\) to \\(t = b\\)\n",
            "\n",
            "Once we have the critical points \\(a\\) and \\(b\\), we can calculate the total distance that point \\(Q\\) has moved by evaluating the position function \\(x_2(t)\\) at these points and finding the difference.\n",
            "\n",
            "```python\n",
            "# Evaluate the position of Q at critical points\n",
            "a, b = critical_points\n",
            "distance_moved = x2.subs(t, b) - x2.subs(t, a)\n",
            "distance_moved\n",
            "```\n",
            "\n",
            "Let's execute the code to find the results.\n",
            "\n",
            "```python\n",
            "import sympy as sp\n",
            "\n",
            "t = sp.symbols('t')\n",
            "\n",
            "# Velocity functions\n",
            "v1 = t**2 - 6*t + 5\n",
            "v2 = 2*t - 7\n",
            "\n",
            "# Integrate to find positions\n",
            "x1 = sp.integrate(v1, t)\n",
            "x2 = sp.integrate(v2, t)\n",
            "\n",
            "# Distance function\n",
            "f = sp.Abs(x1 - x2)\n",
            "\n",
            "# Derivative of the distance function\n",
            "f_prime = sp.diff(f, t)\n",
            "\n",
            "# Solve for critical points\n",
            "critical_points = sp.solve(f_prime, t)\n",
            "\n",
            "# Evaluate the position of Q at critical points\n",
            "a, b = critical_points\n",
            "distance_moved = x2.subs(t, b) - x2.subs(t, a)\n",
            "\n",
            "x1, x2, critical_points, distance_moved\n",
            "```\n",
            "\n",
            "Let's interpret the results:\n",
            "\n",
            "1. The position functions \\(x_1(t)\\) and \\(x_2(t)\\).\n",
            "2. The critical points \\(a\\) and \\(b\\).\n",
            "3. The total distance that point \\(Q\\) has moved from time \\(t = a\\) to \\(t = b\\).\n",
            "\n",
            "Executing the code will give us the exact values for these quantities.\n"
          ]
        }
      ]
    },
    {
      "cell_type": "markdown",
      "source": [
        "GPT api는 실제로 코드를 실행하는 기능은 제공하지 않습니다.\n",
        "하지만 위의 prompt를 ChatGPT에 그대로 넣어서 돌려보시면 위와 같이 작성된 Python code를 돌려서 결과를 확인한 후, 이어서 답변을 내놓는 것을 알 수 있습니다."
      ],
      "metadata": {
        "id": "f58qdAiHtw66"
      }
    },
    {
      "cell_type": "code",
      "source": [],
      "metadata": {
        "id": "yYd1uiX8Y2bm"
      },
      "execution_count": null,
      "outputs": []
    }
  ]
}
{
  "nbformat": 4,
  "nbformat_minor": 0,
  "metadata": {
    "colab": {
      "provenance": [],
      "gpuType": "T4",
      "toc_visible": true,
      "include_colab_link": true
    },
    "kernelspec": {
      "name": "python3",
      "display_name": "Python 3"
    },
    "language_info": {
      "name": "python"
    },
    "accelerator": "GPU"
  },
  "cells": [
    {
      "cell_type": "markdown",
      "metadata": {
        "id": "view-in-github",
        "colab_type": "text"
      },
      "source": [
        "<a href=\"https://colab.research.google.com/github/seunghoona/study-ai-mnist/blob/main/1_3_MNIST.ipynb\" target=\"_parent\"><img src=\"https://colab.research.google.com/assets/colab-badge.svg\" alt=\"Open In Colab\"/></a>"
      ]
    },
    {
      "cell_type": "markdown",
      "source": [
        "# MNIST 실습\n",
        "\n",
        "이번에는 28x28 흑백 손글씨 이미지를 보고 0~9 사이의 숫자 중 어떤 숫자를 쓴 것인지 예측하는 문제를 실습합니다.\n",
        "이번 실습에서는 GPU를 활용할 것이기 때문에, 이전 챕터에서 Colab에서 GPU를 설정하는 방법을 따라해주시길 바랍니다.\n",
        "\n",
        "GPU를 설정했으면 library들을 import합니다."
      ],
      "metadata": {
        "id": "OPJenlrhihrh"
      }
    },
    {
      "cell_type": "code",
      "execution_count": null,
      "metadata": {
        "id": "6lXVfXoDtoQh"
      },
      "outputs": [],
      "source": [
        "import torch\n",
        "import torchvision\n",
        "import torchvision.transforms as transforms\n",
        "import numpy as np"
      ]
    },
    {
      "cell_type": "code",
      "source": [
        "torch.cuda.empty_cache()"
      ],
      "metadata": {
        "id": "t6_znL1A01vu"
      },
      "execution_count": null,
      "outputs": []
    },
    {
      "cell_type": "code",
      "source": [
        "# 정확도 측정 함수\n",
        "def accuracy(model, dataloader):\n",
        "    cnt = 0\n",
        "    acc = 0\n",
        "\n",
        "    model.eval()  # 평가 모드\n",
        "    with torch.no_grad():\n",
        "        for data in dataloader:\n",
        "            inputs, labels = data\n",
        "            inputs, labels = inputs.to('cuda'), labels.to('cuda')\n",
        "\n",
        "            preds = model(inputs)\n",
        "            preds = torch.argmax(preds, dim=-1)\n",
        "\n",
        "            cnt += labels.shape[0]\n",
        "            acc += (labels == preds).sum().item()\n",
        "\n",
        "    return acc / cnt\n",
        "\n",
        "# Plot 함수\n",
        "def plot_acc(train_accs, test_accs, label1='train', label2='test'):\n",
        "    x = np.arange(len(train_accs))\n",
        "\n",
        "    plt.plot(x, train_accs, label=label1)\n",
        "    plt.plot(x, test_accs, label=label2)\n",
        "    plt.legend()\n",
        "    plt.title(\"Train vs Test Accuracy\")\n",
        "    plt.xlabel(\"Epoch\")\n",
        "    plt.ylabel(\"Accuracy\")\n",
        "    plt.show()"
      ],
      "metadata": {
        "id": "QmkZSeu31ibT"
      },
      "execution_count": null,
      "outputs": []
    },
    {
      "cell_type": "markdown",
      "source": [
        "다음은 dataset을 준비합니다. 손글씨 dataset은 MNIST라는 유명한 dataset이 있습니다. 이 dataset은 `torchvision`에서 제공하고 있으며, 다음과 같이 다운로드 받을 수 있습니다."
      ],
      "metadata": {
        "id": "pF-1zQvmiult"
      }
    },
    {
      "cell_type": "code",
      "source": [
        "transform = transforms.ToTensor()\n",
        "\n",
        "trainset = torchvision.datasets.MNIST(\n",
        "    root='./data',\n",
        "    train=True,\n",
        "    download=True,\n",
        "    transform=transform\n",
        ")"
      ],
      "metadata": {
        "id": "KAYlqPaRt6ti",
        "collapsed": true
      },
      "execution_count": null,
      "outputs": []
    },
    {
      "cell_type": "markdown",
      "source": [
        "[MYCODE] 테스트 데이터 준비하기"
      ],
      "metadata": {
        "id": "D9YDLC1XXo49"
      }
    },
    {
      "cell_type": "code",
      "source": [
        "testset = torchvision.datasets.MNIST(\n",
        "    root='./data',\n",
        "    train=False,\n",
        "    download=True,\n",
        "    transform=transform\n",
        ")"
      ],
      "metadata": {
        "id": "Lviq73arXzGG"
      },
      "execution_count": null,
      "outputs": []
    },
    {
      "cell_type": "markdown",
      "source": [
        "MNIST는 손글씨 사진과 어떤 숫자를 의미하는지에 대한 label의 pair들로 구성되어있습니다.\n",
        "이 때, 우리는 PyTorch model을 사용할 것이기 때문에 손글씨 사진들을 모두 tensor로 변환해야합니다.\n",
        "이러한 부가적인 변환들은 `torchvision.transforms`에서 제공하고 있으며, `torchvision.datasets.MNIST`에서 `transform` 인자로 받을 수 있습니다.\n",
        "우리는 단순히 사진을 tensor로 바꾸고 싶기 때문에 `transforms.ToTensor()` transformation을 넘겨줍니다.\n",
        "\n",
        "다음은 전체 data의 개수와 첫 번째 data를 출력한 결과입니다."
      ],
      "metadata": {
        "id": "p-GqH7_ZjVMs"
      }
    },
    {
      "cell_type": "code",
      "source": [
        "batch_size = 256\n",
        "\n",
        "trainloader = torch.utils.data.DataLoader(\n",
        "    trainset,\n",
        "    batch_size=batch_size,\n",
        "    shuffle=True\n",
        ")"
      ],
      "metadata": {
        "id": "UxKu3kA2i5WH"
      },
      "execution_count": 14,
      "outputs": []
    },
    {
      "cell_type": "markdown",
      "source": [
        "[MYCODE] 테스트로더 만들기"
      ],
      "metadata": {
        "id": "1AoTK-vtecZA"
      }
    },
    {
      "cell_type": "code",
      "source": [
        "testloader = torch.utils.data.DataLoader(\n",
        "    testset,\n",
        "    batch_size=batch_size,\n",
        "    shuffle=False\n",
        ")"
      ],
      "metadata": {
        "id": "gKHPTPk_eRvG"
      },
      "execution_count": null,
      "outputs": []
    },
    {
      "cell_type": "markdown",
      "source": [
        "[MYCODE] nn.CrossEntropyLoss 적용하기\n",
        "- layer3 번째 활성 함수 삭제 최종 클래스 수를 10개로 지정하였습니다.\n",
        "\n",
        "[FEEDBACK] 출력층의 레이어 활성함수 삭제\n",
        "\n",
        "1. 세번째 출력층의 레이어에 활성함수를 두지 않는 근거를 어떻게 찾아야할까요?     \n",
        "분류 문제이기 때문에 활성함수를 사용하지 않는다가 근거가 되는걸까요?\n",
        "\n",
        "2. 출력 노드 수를 10개로 지정하는 기준은 예측해야하는가 아니면 하드코딩 방식으로만 가능할까요?     \n",
        "예) 0~9가 10개 -> 노드의 수10개\n"
      ],
      "metadata": {
        "id": "ME1G1i503vOk"
      }
    },
    {
      "cell_type": "code",
      "source": [
        "from torch import nn\n",
        "\n",
        "\n",
        "class Model(nn.Module):\n",
        "  def __init__(self, input_dim, n_dim):\n",
        "    super().__init__()\n",
        "\n",
        "    self.layer1 = nn.Linear(input_dim, n_dim)\n",
        "    self.layer2 = nn.Linear(n_dim, n_dim)\n",
        "    self.layer3 = nn.Linear(n_dim, 10)\n",
        "\n",
        "    self.act = nn.ReLU()\n",
        "\n",
        "  def forward(self, x):\n",
        "    x = torch.flatten(x, start_dim=1)\n",
        "    x = self.act(self.layer1(x))\n",
        "    x = self.act(self.layer2(x))\n",
        "    # 활성함수를 삭제\n",
        "    return self.layer3(x)\n",
        "\n",
        "\n",
        "model = Model(28 * 28, 1024).to('cuda')"
      ],
      "metadata": {
        "id": "OLOA-ZGTuVVG"
      },
      "execution_count": null,
      "outputs": []
    },
    {
      "cell_type": "code",
      "source": [
        "from torch.optim import SGD\n",
        "\n",
        "lr = 0.001\n",
        "model = model.to('cuda')\n",
        "\n",
        "optimizer = SGD(model.parameters(), lr=lr)"
      ],
      "metadata": {
        "id": "ypS0TcOlvBhZ"
      },
      "execution_count": null,
      "outputs": []
    },
    {
      "cell_type": "markdown",
      "source": [
        "[MYCODE] nn.CrossEntropyLoss 적용하기"
      ],
      "metadata": {
        "id": "kyYUzKzp3MC3"
      }
    },
    {
      "cell_type": "code",
      "source": [
        "cretaition = nn.CrossEntropyLoss()"
      ],
      "metadata": {
        "id": "y8Hvhzgrw-P5"
      },
      "execution_count": 15,
      "outputs": []
    },
    {
      "cell_type": "code",
      "source": [
        "n_epochs = 100\n",
        "\n",
        "# Lists for Accuracy Tracking\n",
        "train_accs = []\n",
        "test_accs = []\n",
        "\n",
        "\n",
        "for epoch in range(n_epochs):\n",
        "  total_loss = 0.\n",
        "  for data in trainloader:\n",
        "    model.zero_grad()\n",
        "    inputs, labels = data\n",
        "    inputs, labels = inputs.to('cuda'), labels.to('cuda')\n",
        "\n",
        "    preds = model(inputs)\n",
        "\n",
        "    #print(f\"모델 출력 크기: {preds.shape}\")\n",
        "    #print(f\"모델 출력 값(샘플): {preds[0]}\")\n",
        "\n",
        "    assert labels.min() >= 0, \"음수 값이 포함되어 있습니다!\"\n",
        "    assert labels.max() < 10, \"클래스 개수를 초과합니다!\"\n",
        "    assert labels.dtype == torch.int64, \"라벨 타입이 torch.LongTensor가 아닙니다!\"\n",
        "\n",
        "    loss = cretaition(preds, labels)\n",
        "\n",
        "    loss.backward()\n",
        "    optimizer.step()\n",
        "\n",
        "    total_loss += loss.item()\n",
        "\n",
        "  # Epoch 종료 후 정확도 계산\n",
        "  train_acc = accuracy(model, trainloader)\n",
        "  test_acc = accuracy(model, testloader)\n",
        "\n",
        "  train_accs.append(train_acc)\n",
        "  test_accs.append(test_acc)\n",
        "\n",
        "  print(f\"Epoch {epoch + 1}/{n_epochs}, Loss: {total_loss / len(trainloader):.4f}, Train Acc: {train_acc:.4f}, Test Acc: {test_acc:.4f}\")\n",
        "\n"
      ],
      "metadata": {
        "colab": {
          "base_uri": "https://localhost:8080/",
          "height": 1000
        },
        "id": "TryX1hewvNiB",
        "outputId": "5b06cda3-ec1f-4a2b-8db8-d9515112a7a8"
      },
      "execution_count": null,
      "outputs": [
        {
          "output_type": "stream",
          "name": "stdout",
          "text": [
            "Epoch 1/100, Loss: 2.2717, Train Acc: 0.5399, Test Acc: 0.5412\n",
            "Epoch 2/100, Loss: 2.1914, Train Acc: 0.6212, Test Acc: 0.6259\n",
            "Epoch 3/100, Loss: 2.0626, Train Acc: 0.6753, Test Acc: 0.6795\n",
            "Epoch 4/100, Loss: 1.8439, Train Acc: 0.7157, Test Acc: 0.7257\n",
            "Epoch 5/100, Loss: 1.5310, Train Acc: 0.7530, Test Acc: 0.7621\n",
            "Epoch 6/100, Loss: 1.2122, Train Acc: 0.7897, Test Acc: 0.7984\n",
            "Epoch 7/100, Loss: 0.9735, Train Acc: 0.8143, Test Acc: 0.8204\n",
            "Epoch 8/100, Loss: 0.8149, Train Acc: 0.8300, Test Acc: 0.8347\n",
            "Epoch 9/100, Loss: 0.7086, Train Acc: 0.8409, Test Acc: 0.8477\n",
            "Epoch 10/100, Loss: 0.6343, Train Acc: 0.8518, Test Acc: 0.8568\n",
            "Epoch 11/100, Loss: 0.5800, Train Acc: 0.8596, Test Acc: 0.8644\n",
            "Epoch 12/100, Loss: 0.5388, Train Acc: 0.8664, Test Acc: 0.8713\n",
            "Epoch 13/100, Loss: 0.5063, Train Acc: 0.8724, Test Acc: 0.8771\n",
            "Epoch 14/100, Loss: 0.4802, Train Acc: 0.8767, Test Acc: 0.8822\n",
            "Epoch 15/100, Loss: 0.4587, Train Acc: 0.8802, Test Acc: 0.8872\n",
            "Epoch 16/100, Loss: 0.4411, Train Acc: 0.8844, Test Acc: 0.8900\n",
            "Epoch 17/100, Loss: 0.4257, Train Acc: 0.8871, Test Acc: 0.8929\n",
            "Epoch 18/100, Loss: 0.4129, Train Acc: 0.8896, Test Acc: 0.8948\n",
            "Epoch 19/100, Loss: 0.4014, Train Acc: 0.8921, Test Acc: 0.8971\n",
            "Epoch 20/100, Loss: 0.3916, Train Acc: 0.8941, Test Acc: 0.8983\n",
            "Epoch 21/100, Loss: 0.3826, Train Acc: 0.8958, Test Acc: 0.8992\n",
            "Epoch 22/100, Loss: 0.3748, Train Acc: 0.8973, Test Acc: 0.9015\n",
            "Epoch 23/100, Loss: 0.3676, Train Acc: 0.8995, Test Acc: 0.9025\n",
            "Epoch 24/100, Loss: 0.3611, Train Acc: 0.9004, Test Acc: 0.9029\n",
            "Epoch 25/100, Loss: 0.3552, Train Acc: 0.9016, Test Acc: 0.9042\n",
            "Epoch 26/100, Loss: 0.3498, Train Acc: 0.9033, Test Acc: 0.9056\n",
            "Epoch 27/100, Loss: 0.3447, Train Acc: 0.9043, Test Acc: 0.9067\n",
            "Epoch 28/100, Loss: 0.3399, Train Acc: 0.9051, Test Acc: 0.9079\n",
            "Epoch 29/100, Loss: 0.3357, Train Acc: 0.9061, Test Acc: 0.9074\n",
            "Epoch 30/100, Loss: 0.3313, Train Acc: 0.9070, Test Acc: 0.9096\n",
            "Epoch 31/100, Loss: 0.3274, Train Acc: 0.9076, Test Acc: 0.9110\n",
            "Epoch 32/100, Loss: 0.3238, Train Acc: 0.9088, Test Acc: 0.9116\n",
            "Epoch 33/100, Loss: 0.3201, Train Acc: 0.9102, Test Acc: 0.9126\n",
            "Epoch 34/100, Loss: 0.3167, Train Acc: 0.9106, Test Acc: 0.9137\n",
            "Epoch 35/100, Loss: 0.3134, Train Acc: 0.9114, Test Acc: 0.9137\n",
            "Epoch 36/100, Loss: 0.3103, Train Acc: 0.9123, Test Acc: 0.9149\n",
            "Epoch 37/100, Loss: 0.3073, Train Acc: 0.9134, Test Acc: 0.9156\n",
            "Epoch 38/100, Loss: 0.3045, Train Acc: 0.9140, Test Acc: 0.9156\n",
            "Epoch 39/100, Loss: 0.3015, Train Acc: 0.9149, Test Acc: 0.9173\n",
            "Epoch 40/100, Loss: 0.2989, Train Acc: 0.9151, Test Acc: 0.9172\n",
            "Epoch 41/100, Loss: 0.2960, Train Acc: 0.9164, Test Acc: 0.9180\n",
            "Epoch 42/100, Loss: 0.2937, Train Acc: 0.9169, Test Acc: 0.9183\n",
            "Epoch 43/100, Loss: 0.2909, Train Acc: 0.9174, Test Acc: 0.9191\n",
            "Epoch 44/100, Loss: 0.2886, Train Acc: 0.9184, Test Acc: 0.9197\n",
            "Epoch 45/100, Loss: 0.2860, Train Acc: 0.9193, Test Acc: 0.9204\n",
            "Epoch 46/100, Loss: 0.2837, Train Acc: 0.9194, Test Acc: 0.9219\n",
            "Epoch 47/100, Loss: 0.2815, Train Acc: 0.9204, Test Acc: 0.9214\n",
            "Epoch 48/100, Loss: 0.2791, Train Acc: 0.9207, Test Acc: 0.9230\n",
            "Epoch 49/100, Loss: 0.2768, Train Acc: 0.9214, Test Acc: 0.9231\n",
            "Epoch 50/100, Loss: 0.2747, Train Acc: 0.9226, Test Acc: 0.9238\n",
            "Epoch 51/100, Loss: 0.2727, Train Acc: 0.9231, Test Acc: 0.9254\n",
            "Epoch 52/100, Loss: 0.2705, Train Acc: 0.9232, Test Acc: 0.9253\n",
            "Epoch 53/100, Loss: 0.2684, Train Acc: 0.9242, Test Acc: 0.9260\n",
            "Epoch 54/100, Loss: 0.2663, Train Acc: 0.9246, Test Acc: 0.9263\n",
            "Epoch 55/100, Loss: 0.2644, Train Acc: 0.9252, Test Acc: 0.9272\n",
            "Epoch 56/100, Loss: 0.2625, Train Acc: 0.9258, Test Acc: 0.9271\n",
            "Epoch 57/100, Loss: 0.2604, Train Acc: 0.9267, Test Acc: 0.9282\n",
            "Epoch 58/100, Loss: 0.2587, Train Acc: 0.9271, Test Acc: 0.9274\n",
            "Epoch 59/100, Loss: 0.2566, Train Acc: 0.9277, Test Acc: 0.9285\n",
            "Epoch 60/100, Loss: 0.2548, Train Acc: 0.9281, Test Acc: 0.9287\n",
            "Epoch 61/100, Loss: 0.2529, Train Acc: 0.9286, Test Acc: 0.9295\n",
            "Epoch 62/100, Loss: 0.2511, Train Acc: 0.9294, Test Acc: 0.9310\n",
            "Epoch 63/100, Loss: 0.2494, Train Acc: 0.9295, Test Acc: 0.9306\n",
            "Epoch 64/100, Loss: 0.2475, Train Acc: 0.9301, Test Acc: 0.9315\n",
            "Epoch 65/100, Loss: 0.2458, Train Acc: 0.9305, Test Acc: 0.9313\n",
            "Epoch 66/100, Loss: 0.2441, Train Acc: 0.9313, Test Acc: 0.9316\n",
            "Epoch 67/100, Loss: 0.2424, Train Acc: 0.9317, Test Acc: 0.9324\n",
            "Epoch 68/100, Loss: 0.2406, Train Acc: 0.9323, Test Acc: 0.9327\n",
            "Epoch 69/100, Loss: 0.2389, Train Acc: 0.9326, Test Acc: 0.9333\n",
            "Epoch 70/100, Loss: 0.2373, Train Acc: 0.9332, Test Acc: 0.9341\n",
            "Epoch 71/100, Loss: 0.2355, Train Acc: 0.9335, Test Acc: 0.9344\n",
            "Epoch 72/100, Loss: 0.2338, Train Acc: 0.9343, Test Acc: 0.9349\n",
            "Epoch 73/100, Loss: 0.2323, Train Acc: 0.9347, Test Acc: 0.9350\n",
            "Epoch 74/100, Loss: 0.2308, Train Acc: 0.9353, Test Acc: 0.9364\n",
            "Epoch 75/100, Loss: 0.2292, Train Acc: 0.9356, Test Acc: 0.9362\n",
            "Epoch 76/100, Loss: 0.2276, Train Acc: 0.9360, Test Acc: 0.9368\n",
            "Epoch 77/100, Loss: 0.2259, Train Acc: 0.9363, Test Acc: 0.9374\n",
            "Epoch 78/100, Loss: 0.2244, Train Acc: 0.9369, Test Acc: 0.9364\n",
            "Epoch 79/100, Loss: 0.2229, Train Acc: 0.9375, Test Acc: 0.9378\n",
            "Epoch 80/100, Loss: 0.2214, Train Acc: 0.9380, Test Acc: 0.9385\n",
            "Epoch 81/100, Loss: 0.2199, Train Acc: 0.9385, Test Acc: 0.9384\n",
            "Epoch 82/100, Loss: 0.2184, Train Acc: 0.9385, Test Acc: 0.9389\n",
            "Epoch 83/100, Loss: 0.2169, Train Acc: 0.9392, Test Acc: 0.9394\n",
            "Epoch 84/100, Loss: 0.2154, Train Acc: 0.9402, Test Acc: 0.9402\n",
            "Epoch 85/100, Loss: 0.2141, Train Acc: 0.9403, Test Acc: 0.9403\n",
            "Epoch 86/100, Loss: 0.2126, Train Acc: 0.9407, Test Acc: 0.9402\n",
            "Epoch 87/100, Loss: 0.2112, Train Acc: 0.9409, Test Acc: 0.9409\n",
            "Epoch 88/100, Loss: 0.2099, Train Acc: 0.9412, Test Acc: 0.9403\n",
            "Epoch 89/100, Loss: 0.2085, Train Acc: 0.9415, Test Acc: 0.9405\n",
            "Epoch 90/100, Loss: 0.2071, Train Acc: 0.9419, Test Acc: 0.9414\n",
            "Epoch 91/100, Loss: 0.2058, Train Acc: 0.9421, Test Acc: 0.9410\n",
            "Epoch 92/100, Loss: 0.2044, Train Acc: 0.9427, Test Acc: 0.9414\n",
            "Epoch 93/100, Loss: 0.2031, Train Acc: 0.9428, Test Acc: 0.9423\n",
            "Epoch 94/100, Loss: 0.2018, Train Acc: 0.9435, Test Acc: 0.9427\n",
            "Epoch 95/100, Loss: 0.2004, Train Acc: 0.9437, Test Acc: 0.9433\n",
            "Epoch 96/100, Loss: 0.1992, Train Acc: 0.9445, Test Acc: 0.9430\n",
            "Epoch 97/100, Loss: 0.1978, Train Acc: 0.9446, Test Acc: 0.9429\n",
            "Epoch 98/100, Loss: 0.1966, Train Acc: 0.9452, Test Acc: 0.9439\n",
            "Epoch 99/100, Loss: 0.1954, Train Acc: 0.9453, Test Acc: 0.9438\n",
            "Epoch 100/100, Loss: 0.1941, Train Acc: 0.9458, Test Acc: 0.9440\n"
          ]
        },
        {
          "output_type": "error",
          "ename": "NameError",
          "evalue": "name 'np' is not defined",
          "traceback": [
            "\u001b[0;31m---------------------------------------------------------------------------\u001b[0m",
            "\u001b[0;31mNameError\u001b[0m                                 Traceback (most recent call last)",
            "\u001b[0;32m<ipython-input-54-0d23571c2340>\u001b[0m in \u001b[0;36m<cell line: 41>\u001b[0;34m()\u001b[0m\n\u001b[1;32m     39\u001b[0m \u001b[0;34m\u001b[0m\u001b[0m\n\u001b[1;32m     40\u001b[0m \u001b[0;31m# 정확도 Plot\u001b[0m\u001b[0;34m\u001b[0m\u001b[0;34m\u001b[0m\u001b[0m\n\u001b[0;32m---> 41\u001b[0;31m \u001b[0mplot_acc\u001b[0m\u001b[0;34m(\u001b[0m\u001b[0mtrain_accs\u001b[0m\u001b[0;34m,\u001b[0m \u001b[0mtest_accs\u001b[0m\u001b[0;34m)\u001b[0m\u001b[0;34m\u001b[0m\u001b[0;34m\u001b[0m\u001b[0m\n\u001b[0m",
            "\u001b[0;32m<ipython-input-43-048b473659a0>\u001b[0m in \u001b[0;36mplot_acc\u001b[0;34m(train_accs, test_accs, label1, label2)\u001b[0m\n\u001b[1;32m     20\u001b[0m \u001b[0;31m# Plot 함수\u001b[0m\u001b[0;34m\u001b[0m\u001b[0;34m\u001b[0m\u001b[0m\n\u001b[1;32m     21\u001b[0m \u001b[0;32mdef\u001b[0m \u001b[0mplot_acc\u001b[0m\u001b[0;34m(\u001b[0m\u001b[0mtrain_accs\u001b[0m\u001b[0;34m,\u001b[0m \u001b[0mtest_accs\u001b[0m\u001b[0;34m,\u001b[0m \u001b[0mlabel1\u001b[0m\u001b[0;34m=\u001b[0m\u001b[0;34m'train'\u001b[0m\u001b[0;34m,\u001b[0m \u001b[0mlabel2\u001b[0m\u001b[0;34m=\u001b[0m\u001b[0;34m'test'\u001b[0m\u001b[0;34m)\u001b[0m\u001b[0;34m:\u001b[0m\u001b[0;34m\u001b[0m\u001b[0;34m\u001b[0m\u001b[0m\n\u001b[0;32m---> 22\u001b[0;31m     \u001b[0mx\u001b[0m \u001b[0;34m=\u001b[0m \u001b[0mnp\u001b[0m\u001b[0;34m.\u001b[0m\u001b[0marange\u001b[0m\u001b[0;34m(\u001b[0m\u001b[0mlen\u001b[0m\u001b[0;34m(\u001b[0m\u001b[0mtrain_accs\u001b[0m\u001b[0;34m)\u001b[0m\u001b[0;34m)\u001b[0m\u001b[0;34m\u001b[0m\u001b[0;34m\u001b[0m\u001b[0m\n\u001b[0m\u001b[1;32m     23\u001b[0m \u001b[0;34m\u001b[0m\u001b[0m\n\u001b[1;32m     24\u001b[0m     \u001b[0mplt\u001b[0m\u001b[0;34m.\u001b[0m\u001b[0mplot\u001b[0m\u001b[0;34m(\u001b[0m\u001b[0mx\u001b[0m\u001b[0;34m,\u001b[0m \u001b[0mtrain_accs\u001b[0m\u001b[0;34m,\u001b[0m \u001b[0mlabel\u001b[0m\u001b[0;34m=\u001b[0m\u001b[0mlabel1\u001b[0m\u001b[0;34m)\u001b[0m\u001b[0;34m\u001b[0m\u001b[0;34m\u001b[0m\u001b[0m\n",
            "\u001b[0;31mNameError\u001b[0m: name 'np' is not defined"
          ]
        }
      ]
    },
    {
      "cell_type": "markdown",
      "source": [
        "[MYCODE] 정확도 PLOT 하기"
      ],
      "metadata": {
        "id": "xzTZqq9NKQkZ"
      }
    },
    {
      "cell_type": "code",
      "source": [
        "# 정확도 Plot\n",
        "plot_acc(train_accs, test_accs)"
      ],
      "metadata": {
        "id": "7Xvo7_ZIKaGi",
        "outputId": "528de01e-11b7-43a2-ae3f-2d5436ec43e4",
        "colab": {
          "base_uri": "https://localhost:8080/",
          "height": 472
        }
      },
      "execution_count": null,
      "outputs": [
        {
          "output_type": "display_data",
          "data": {
            "text/plain": [
              "<Figure size 640x480 with 1 Axes>"
            ],
            "image/png": "[encoded data removed]"
          },
          "metadata": {}
        }
      ]
    },
    {
      "cell_type": "markdown",
      "source": [],
      "metadata": {
        "id": "2miuD5kyKZtK"
      }
    },
    {
      "cell_type": "markdown",
      "source": [
        "출력 결과를 보면 잘 수렴하는 것을 볼 수 있습니다.\n",
        "이전 구현과 다른 점은 다음 두 가지입니다.\n",
        "- `for data in trainloader`를 통해 batch들을 iterate하면서 model을 학습합니다.\n",
        "- `inputs, labels = inputs.to('cuda'), labels.to('cuda')`를 통해 model의 입력으로 들어가는 tensor들을 GPU로 보냅니다.\n",
        "\n",
        "마지막으로 첫 번째 data에 대한 예측 결과를 살펴봅시다."
      ],
      "metadata": {
        "id": "YRDcptrqniX7"
      }
    },
    {
      "cell_type": "code",
      "source": [
        "idx = 2\n",
        "\n",
        "x = trainset[idx][0][None]  # (1, 1, 28, 28)\n",
        "x = x.to('cuda')\n",
        "\n",
        "print(model(x))\n",
        "print(trainset[idx][1])"
      ],
      "metadata": {
        "id": "Zct0ssSKwjt1",
        "colab": {
          "base_uri": "https://localhost:8080/"
        },
        "outputId": "1a444e81-08e1-45d0-d595-14f976109292"
      },
      "execution_count": null,
      "outputs": [
        {
          "output_type": "stream",
          "name": "stdout",
          "text": [
            "tensor([[-2.5199, -2.4164,  1.9595,  0.9697,  5.2154, -2.3672, -0.7989,  1.1618,\n",
            "         -1.3375,  0.5404]], device='cuda:0', grad_fn=<AddmmBackward0>)\n",
            "4\n"
          ]
        }
      ]
    },
    {
      "cell_type": "markdown",
      "source": [
        "여기서 idx를 조정하여 다른 data에 대한 출력 결과도 볼 수 있습니다.\n",
        "예측 결과를 보시면 아직 성능이 그렇게 좋지 않은 것을 알 수 있습니다."
      ],
      "metadata": {
        "id": "qzgSOrMsoZ2z"
      }
    }
  ]
}
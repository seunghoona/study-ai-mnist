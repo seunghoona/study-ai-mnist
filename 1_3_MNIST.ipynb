{
  "nbformat": 4,
  "nbformat_minor": 0,
  "metadata": {
    "colab": {
      "provenance": [],
      "gpuType": "T4",
      "toc_visible": true,
      "include_colab_link": true
    },
    "kernelspec": {
      "name": "python3",
      "display_name": "Python 3"
    },
    "language_info": {
      "name": "python"
    },
    "accelerator": "GPU"
  },
  "cells": [
    {
      "cell_type": "markdown",
      "metadata": {
        "id": "view-in-github",
        "colab_type": "text"
      },
      "source": [
        "<a href=\"https://colab.research.google.com/github/seunghoona/study-ai-mnist/blob/main/1_3_MNIST.ipynb\" target=\"_parent\"><img src=\"https://colab.research.google.com/assets/colab-badge.svg\" alt=\"Open In Colab\"/></a>"
      ]
    },
    {
      "cell_type": "markdown",
      "source": [
        "# MNIST 실습\n",
        "\n",
        "이번에는 28x28 흑백 손글씨 이미지를 보고 0~9 사이의 숫자 중 어떤 숫자를 쓴 것인지 예측하는 문제를 실습합니다.\n",
        "이번 실습에서는 GPU를 활용할 것이기 때문에, 이전 챕터에서 Colab에서 GPU를 설정하는 방법을 따라해주시길 바랍니다.\n",
        "\n",
        "GPU를 설정했으면 library들을 import합니다."
      ],
      "metadata": {
        "id": "OPJenlrhihrh"
      }
    },
    {
      "cell_type": "code",
      "execution_count": 23,
      "metadata": {
        "id": "6lXVfXoDtoQh"
      },
      "outputs": [],
      "source": [
        "import torch\n",
        "import torchvision\n",
        "import torchvision.transforms as transforms\n",
        "import numpy as np\n",
        "import matplotlib.pyplot as plt"
      ]
    },
    {
      "cell_type": "code",
      "source": [
        "# 정확도 측정 함수\n",
        "def accuracy(model, dataloader):\n",
        "    cnt = 0\n",
        "    acc = 0\n",
        "\n",
        "    model.eval()  # 평가 모드\n",
        "    with torch.no_grad():\n",
        "        for data in dataloader:\n",
        "            inputs, labels = data\n",
        "            inputs, labels = inputs.to('cuda'), labels.to('cuda')\n",
        "\n",
        "            preds = model(inputs)\n",
        "            preds = torch.argmax(preds, dim=-1)\n",
        "\n",
        "            cnt += labels.shape[0]\n",
        "            acc += (labels == preds).sum().item()\n",
        "\n",
        "    return acc / cnt\n",
        "\n",
        "# Plot 함수\n",
        "def plot_acc(train_accs, test_accs, label1='train', label2='test'):\n",
        "    x = np.arange(len(train_accs))\n",
        "\n",
        "    plt.plot(x, train_accs, label=label1)\n",
        "    plt.plot(x, test_accs, label=label2)\n",
        "    plt.legend()\n",
        "    plt.title(\"Train vs Test Accuracy\")\n",
        "    plt.xlabel(\"Epoch\")\n",
        "    plt.ylabel(\"Accuracy\")\n",
        "    plt.show()"
      ],
      "metadata": {
        "id": "QmkZSeu31ibT"
      },
      "execution_count": 24,
      "outputs": []
    },
    {
      "cell_type": "markdown",
      "source": [
        "다음은 dataset을 준비합니다. 손글씨 dataset은 MNIST라는 유명한 dataset이 있습니다. 이 dataset은 `torchvision`에서 제공하고 있으며, 다음과 같이 다운로드 받을 수 있습니다."
      ],
      "metadata": {
        "id": "pF-1zQvmiult"
      }
    },
    {
      "cell_type": "code",
      "source": [
        "transform = transforms.ToTensor()\n",
        "\n",
        "trainset = torchvision.datasets.MNIST(\n",
        "    root='./data',\n",
        "    train=True,\n",
        "    download=True,\n",
        "    transform=transform\n",
        ")"
      ],
      "metadata": {
        "id": "KAYlqPaRt6ti",
        "collapsed": true
      },
      "execution_count": null,
      "outputs": []
    },
    {
      "cell_type": "markdown",
      "source": [
        "[MYCODE] 테스트 데이터 준비하기"
      ],
      "metadata": {
        "id": "D9YDLC1XXo49"
      }
    },
    {
      "cell_type": "code",
      "source": [
        "testset = torchvision.datasets.MNIST(\n",
        "    root='./data',\n",
        "    train=False,\n",
        "    download=True,\n",
        "    transform=transform\n",
        ")"
      ],
      "metadata": {
        "id": "Lviq73arXzGG"
      },
      "execution_count": null,
      "outputs": []
    },
    {
      "cell_type": "markdown",
      "source": [
        "[MYCDOE] 배치사이즈 변경\n",
        "\n",
        "- 배치 사이즈를 256으로 변경하여 학습시킨다.\n",
        "234 = 60,000 / 256\n"
      ],
      "metadata": {
        "id": "rO_41mvwFO6B"
      }
    },
    {
      "cell_type": "code",
      "source": [
        "batch_size = 256\n",
        "\n",
        "trainloader = torch.utils.data.DataLoader(\n",
        "    trainset,\n",
        "    batch_size=batch_size,\n",
        "    shuffle=True\n",
        ")"
      ],
      "metadata": {
        "id": "UxKu3kA2i5WH"
      },
      "execution_count": 16,
      "outputs": []
    },
    {
      "cell_type": "markdown",
      "source": [
        "[MYCODE] 테스트로더 만들기"
      ],
      "metadata": {
        "id": "1AoTK-vtecZA"
      }
    },
    {
      "cell_type": "code",
      "source": [
        "testloader = torch.utils.data.DataLoader(\n",
        "    testset,\n",
        "    batch_size=batch_size,\n",
        "    shuffle=False\n",
        ")"
      ],
      "metadata": {
        "id": "gKHPTPk_eRvG"
      },
      "execution_count": 17,
      "outputs": []
    },
    {
      "cell_type": "markdown",
      "source": [
        "[MYCODE] nn.CrossEntropyLoss 적용하기\n",
        "- layer3 번째 활성 함수 삭제 최종 클래스 수를 10개로 지정하였습니다.\n",
        "\n",
        "[FEEDBACK] 출력층의 레이어 활성함수 삭제\n",
        "\n",
        "1. 세번째 출력층의 레이어에 활성함수를 두지 않는 근거를 어떻게 찾아야할까요?     \n",
        "분류 문제이기 때문에 활성함수를 사용하지 않는다가 근거가 되는걸까요?\n",
        "\n",
        "2. 출력 노드 수를 10개로 지정하는 기준은 예측해야하는가 아니면 하드코딩 방식으로만 가능할까요?     \n",
        "예) 0~9가 10개 -> 노드의 수10개\n"
      ],
      "metadata": {
        "id": "ME1G1i503vOk"
      }
    },
    {
      "cell_type": "code",
      "source": [
        "from torch import nn\n",
        "\n",
        "\n",
        "class Model(nn.Module):\n",
        "  def __init__(self, input_dim, n_dim):\n",
        "    super().__init__()\n",
        "\n",
        "    self.layer1 = nn.Linear(input_dim, n_dim)\n",
        "    self.layer2 = nn.Linear(n_dim, n_dim)\n",
        "    self.layer3 = nn.Linear(n_dim, 10)\n",
        "\n",
        "    self.act = nn.ReLU()\n",
        "\n",
        "  def forward(self, x):\n",
        "    x = torch.flatten(x, start_dim=1)\n",
        "    x = self.act(self.layer1(x))\n",
        "    x = self.act(self.layer2(x))\n",
        "    # 활성함수를 삭제\n",
        "    return self.layer3(x)\n",
        "\n",
        "\n",
        "model = Model(28 * 28, 1024).to('cuda')"
      ],
      "metadata": {
        "id": "OLOA-ZGTuVVG"
      },
      "execution_count": 18,
      "outputs": []
    },
    {
      "cell_type": "markdown",
      "source": [
        "[FEEDBACK] 학습률의 크기는 어떻게 정해지는가?\n",
        "\n",
        "- 학습률의 크기는 현재 0.001이 보편적인 숫자인가요?\n"
      ],
      "metadata": {
        "id": "9jrFMrZK9gO4"
      }
    },
    {
      "cell_type": "code",
      "source": [
        "from torch.optim import SGD\n",
        "\n",
        "lr = 0.001\n",
        "model = model.to('cuda')\n",
        "\n",
        "optimizer = SGD(model.parameters(), lr=lr)"
      ],
      "metadata": {
        "id": "ypS0TcOlvBhZ"
      },
      "execution_count": 19,
      "outputs": []
    },
    {
      "cell_type": "markdown",
      "source": [
        "[MYCODE] nn.CrossEntropyLoss 적용하기"
      ],
      "metadata": {
        "id": "kyYUzKzp3MC3"
      }
    },
    {
      "cell_type": "code",
      "source": [
        "cretaition = nn.CrossEntropyLoss()"
      ],
      "metadata": {
        "id": "y8Hvhzgrw-P5"
      },
      "execution_count": 15,
      "outputs": []
    },
    {
      "cell_type": "markdown",
      "source": [
        "[LOG] 학습과정에서 에포크별 손실값, Train, Test 표시"
      ],
      "metadata": {
        "id": "vIsEFH87FmsC"
      }
    },
    {
      "cell_type": "code",
      "source": [
        "n_epochs = 100\n",
        "\n",
        "# Lists for Accuracy Tracking\n",
        "train_accs = []\n",
        "test_accs = []\n",
        "\n",
        "\n",
        "for epoch in range(n_epochs):\n",
        "  total_loss = 0.\n",
        "  for data in trainloader:\n",
        "    model.zero_grad()\n",
        "    inputs, labels = data\n",
        "    inputs, labels = inputs.to('cuda'), labels.to('cuda')\n",
        "\n",
        "    preds = model(inputs)\n",
        "\n",
        "    #print(f\"모델 출력 크기: {preds.shape}\")\n",
        "    #print(f\"모델 출력 값(샘플): {preds[0]}\")\n",
        "\n",
        "    assert labels.min() >= 0, \"음수 값이 포함되어 있습니다!\"\n",
        "    assert labels.max() < 10, \"클래스 개수를 초과합니다!\"\n",
        "    assert labels.dtype == torch.int64, \"라벨 타입이 torch.LongTensor가 아닙니다!\"\n",
        "\n",
        "    loss = cretaition(preds, labels)\n",
        "\n",
        "    loss.backward()\n",
        "    optimizer.step()\n",
        "\n",
        "    total_loss += loss.item()\n",
        "\n",
        "  # Epoch 종료 후 정확도 계산\n",
        "  train_acc = accuracy(model, trainloader)\n",
        "  test_acc = accuracy(model, testloader)\n",
        "\n",
        "  train_accs.append(train_acc)\n",
        "  test_accs.append(test_acc)\n",
        "\n",
        "  print(f\"Epoch {epoch + 1}/{n_epochs}, Loss: {total_loss / len(trainloader):.4f}, Train Acc: {train_acc:.4f}, Test Acc: {test_acc:.4f}\")\n",
        "\n"
      ],
      "metadata": {
        "colab": {
          "base_uri": "https://localhost:8080/"
        },
        "id": "TryX1hewvNiB",
        "outputId": "3f6fd305-3e8f-4633-ee59-0685ab11acab"
      },
      "execution_count": 20,
      "outputs": [
        {
          "output_type": "stream",
          "name": "stdout",
          "text": [
            "Epoch 1/100, Loss: 2.2934, Train Acc: 0.2265, Test Acc: 0.2334\n",
            "Epoch 2/100, Loss: 2.2766, Train Acc: 0.3015, Test Acc: 0.3045\n",
            "Epoch 3/100, Loss: 2.2592, Train Acc: 0.3539, Test Acc: 0.3572\n",
            "Epoch 4/100, Loss: 2.2406, Train Acc: 0.4006, Test Acc: 0.4049\n",
            "Epoch 5/100, Loss: 2.2204, Train Acc: 0.4548, Test Acc: 0.4579\n",
            "Epoch 6/100, Loss: 2.1979, Train Acc: 0.5426, Test Acc: 0.5452\n",
            "Epoch 7/100, Loss: 2.1727, Train Acc: 0.6033, Test Acc: 0.6044\n",
            "Epoch 8/100, Loss: 2.1439, Train Acc: 0.6435, Test Acc: 0.6487\n",
            "Epoch 9/100, Loss: 2.1111, Train Acc: 0.6743, Test Acc: 0.6762\n",
            "Epoch 10/100, Loss: 2.0735, Train Acc: 0.6944, Test Acc: 0.6986\n",
            "Epoch 11/100, Loss: 2.0304, Train Acc: 0.7090, Test Acc: 0.7135\n",
            "Epoch 12/100, Loss: 1.9811, Train Acc: 0.7219, Test Acc: 0.7259\n",
            "Epoch 13/100, Loss: 1.9250, Train Acc: 0.7308, Test Acc: 0.7360\n",
            "Epoch 14/100, Loss: 1.8620, Train Acc: 0.7366, Test Acc: 0.7435\n",
            "Epoch 15/100, Loss: 1.7921, Train Acc: 0.7420, Test Acc: 0.7489\n",
            "Epoch 16/100, Loss: 1.7160, Train Acc: 0.7467, Test Acc: 0.7556\n",
            "Epoch 17/100, Loss: 1.6348, Train Acc: 0.7513, Test Acc: 0.7581\n",
            "Epoch 18/100, Loss: 1.5501, Train Acc: 0.7561, Test Acc: 0.7629\n",
            "Epoch 19/100, Loss: 1.4639, Train Acc: 0.7637, Test Acc: 0.7707\n",
            "Epoch 20/100, Loss: 1.3784, Train Acc: 0.7722, Test Acc: 0.7801\n",
            "Epoch 21/100, Loss: 1.2964, Train Acc: 0.7806, Test Acc: 0.7879\n",
            "Epoch 22/100, Loss: 1.2184, Train Acc: 0.7892, Test Acc: 0.7955\n",
            "Epoch 23/100, Loss: 1.1466, Train Acc: 0.7974, Test Acc: 0.8028\n",
            "Epoch 24/100, Loss: 1.0811, Train Acc: 0.8036, Test Acc: 0.8088\n",
            "Epoch 25/100, Loss: 1.0221, Train Acc: 0.8106, Test Acc: 0.8154\n",
            "Epoch 26/100, Loss: 0.9686, Train Acc: 0.8144, Test Acc: 0.8199\n",
            "Epoch 27/100, Loss: 0.9211, Train Acc: 0.8192, Test Acc: 0.8233\n",
            "Epoch 28/100, Loss: 0.8785, Train Acc: 0.8229, Test Acc: 0.8277\n",
            "Epoch 29/100, Loss: 0.8405, Train Acc: 0.8270, Test Acc: 0.8322\n",
            "Epoch 30/100, Loss: 0.8059, Train Acc: 0.8304, Test Acc: 0.8349\n",
            "Epoch 31/100, Loss: 0.7753, Train Acc: 0.8329, Test Acc: 0.8376\n",
            "Epoch 32/100, Loss: 0.7471, Train Acc: 0.8367, Test Acc: 0.8416\n",
            "Epoch 33/100, Loss: 0.7218, Train Acc: 0.8388, Test Acc: 0.8441\n",
            "Epoch 34/100, Loss: 0.6990, Train Acc: 0.8418, Test Acc: 0.8469\n",
            "Epoch 35/100, Loss: 0.6781, Train Acc: 0.8447, Test Acc: 0.8511\n",
            "Epoch 36/100, Loss: 0.6593, Train Acc: 0.8471, Test Acc: 0.8533\n",
            "Epoch 37/100, Loss: 0.6414, Train Acc: 0.8497, Test Acc: 0.8558\n",
            "Epoch 38/100, Loss: 0.6253, Train Acc: 0.8514, Test Acc: 0.8573\n",
            "Epoch 39/100, Loss: 0.6104, Train Acc: 0.8538, Test Acc: 0.8601\n",
            "Epoch 40/100, Loss: 0.5964, Train Acc: 0.8556, Test Acc: 0.8619\n",
            "Epoch 41/100, Loss: 0.5837, Train Acc: 0.8573, Test Acc: 0.8632\n",
            "Epoch 42/100, Loss: 0.5715, Train Acc: 0.8596, Test Acc: 0.8648\n",
            "Epoch 43/100, Loss: 0.5602, Train Acc: 0.8609, Test Acc: 0.8667\n",
            "Epoch 44/100, Loss: 0.5503, Train Acc: 0.8626, Test Acc: 0.8678\n",
            "Epoch 45/100, Loss: 0.5406, Train Acc: 0.8649, Test Acc: 0.8707\n",
            "Epoch 46/100, Loss: 0.5314, Train Acc: 0.8659, Test Acc: 0.8711\n",
            "Epoch 47/100, Loss: 0.5225, Train Acc: 0.8678, Test Acc: 0.8726\n",
            "Epoch 48/100, Loss: 0.5147, Train Acc: 0.8698, Test Acc: 0.8748\n",
            "Epoch 49/100, Loss: 0.5069, Train Acc: 0.8706, Test Acc: 0.8775\n",
            "Epoch 50/100, Loss: 0.4999, Train Acc: 0.8718, Test Acc: 0.8788\n",
            "Epoch 51/100, Loss: 0.4927, Train Acc: 0.8731, Test Acc: 0.8794\n",
            "Epoch 52/100, Loss: 0.4862, Train Acc: 0.8743, Test Acc: 0.8796\n",
            "Epoch 53/100, Loss: 0.4804, Train Acc: 0.8750, Test Acc: 0.8817\n",
            "Epoch 54/100, Loss: 0.4750, Train Acc: 0.8762, Test Acc: 0.8828\n",
            "Epoch 55/100, Loss: 0.4689, Train Acc: 0.8772, Test Acc: 0.8836\n",
            "Epoch 56/100, Loss: 0.4640, Train Acc: 0.8781, Test Acc: 0.8845\n",
            "Epoch 57/100, Loss: 0.4587, Train Acc: 0.8789, Test Acc: 0.8850\n",
            "Epoch 58/100, Loss: 0.4538, Train Acc: 0.8799, Test Acc: 0.8859\n",
            "Epoch 59/100, Loss: 0.4493, Train Acc: 0.8812, Test Acc: 0.8870\n",
            "Epoch 60/100, Loss: 0.4452, Train Acc: 0.8815, Test Acc: 0.8877\n",
            "Epoch 61/100, Loss: 0.4409, Train Acc: 0.8827, Test Acc: 0.8893\n",
            "Epoch 62/100, Loss: 0.4373, Train Acc: 0.8831, Test Acc: 0.8896\n",
            "Epoch 63/100, Loss: 0.4331, Train Acc: 0.8842, Test Acc: 0.8901\n",
            "Epoch 64/100, Loss: 0.4297, Train Acc: 0.8847, Test Acc: 0.8909\n",
            "Epoch 65/100, Loss: 0.4257, Train Acc: 0.8859, Test Acc: 0.8908\n",
            "Epoch 66/100, Loss: 0.4228, Train Acc: 0.8864, Test Acc: 0.8916\n",
            "Epoch 67/100, Loss: 0.4192, Train Acc: 0.8869, Test Acc: 0.8919\n",
            "Epoch 68/100, Loss: 0.4159, Train Acc: 0.8874, Test Acc: 0.8923\n",
            "Epoch 69/100, Loss: 0.4132, Train Acc: 0.8881, Test Acc: 0.8928\n",
            "Epoch 70/100, Loss: 0.4102, Train Acc: 0.8886, Test Acc: 0.8931\n",
            "Epoch 71/100, Loss: 0.4074, Train Acc: 0.8895, Test Acc: 0.8936\n",
            "Epoch 72/100, Loss: 0.4043, Train Acc: 0.8899, Test Acc: 0.8945\n",
            "Epoch 73/100, Loss: 0.4015, Train Acc: 0.8903, Test Acc: 0.8948\n",
            "Epoch 74/100, Loss: 0.3987, Train Acc: 0.8909, Test Acc: 0.8949\n",
            "Epoch 75/100, Loss: 0.3968, Train Acc: 0.8915, Test Acc: 0.8953\n",
            "Epoch 76/100, Loss: 0.3941, Train Acc: 0.8919, Test Acc: 0.8956\n",
            "Epoch 77/100, Loss: 0.3919, Train Acc: 0.8926, Test Acc: 0.8961\n",
            "Epoch 78/100, Loss: 0.3894, Train Acc: 0.8932, Test Acc: 0.8964\n",
            "Epoch 79/100, Loss: 0.3873, Train Acc: 0.8935, Test Acc: 0.8965\n",
            "Epoch 80/100, Loss: 0.3853, Train Acc: 0.8938, Test Acc: 0.8971\n",
            "Epoch 81/100, Loss: 0.3837, Train Acc: 0.8944, Test Acc: 0.8976\n",
            "Epoch 82/100, Loss: 0.3811, Train Acc: 0.8945, Test Acc: 0.8985\n",
            "Epoch 83/100, Loss: 0.3794, Train Acc: 0.8949, Test Acc: 0.8984\n",
            "Epoch 84/100, Loss: 0.3770, Train Acc: 0.8956, Test Acc: 0.8991\n",
            "Epoch 85/100, Loss: 0.3752, Train Acc: 0.8960, Test Acc: 0.9000\n",
            "Epoch 86/100, Loss: 0.3740, Train Acc: 0.8963, Test Acc: 0.8997\n",
            "Epoch 87/100, Loss: 0.3724, Train Acc: 0.8968, Test Acc: 0.9002\n",
            "Epoch 88/100, Loss: 0.3696, Train Acc: 0.8971, Test Acc: 0.9007\n",
            "Epoch 89/100, Loss: 0.3688, Train Acc: 0.8974, Test Acc: 0.9010\n",
            "Epoch 90/100, Loss: 0.3666, Train Acc: 0.8977, Test Acc: 0.9020\n",
            "Epoch 91/100, Loss: 0.3650, Train Acc: 0.8979, Test Acc: 0.9016\n",
            "Epoch 92/100, Loss: 0.3632, Train Acc: 0.8987, Test Acc: 0.9026\n",
            "Epoch 93/100, Loss: 0.3617, Train Acc: 0.8988, Test Acc: 0.9029\n",
            "Epoch 94/100, Loss: 0.3601, Train Acc: 0.8992, Test Acc: 0.9031\n",
            "Epoch 95/100, Loss: 0.3588, Train Acc: 0.8996, Test Acc: 0.9038\n",
            "Epoch 96/100, Loss: 0.3577, Train Acc: 0.8998, Test Acc: 0.9040\n",
            "Epoch 97/100, Loss: 0.3559, Train Acc: 0.9002, Test Acc: 0.9051\n",
            "Epoch 98/100, Loss: 0.3544, Train Acc: 0.9003, Test Acc: 0.9046\n",
            "Epoch 99/100, Loss: 0.3533, Train Acc: 0.9010, Test Acc: 0.9050\n",
            "Epoch 100/100, Loss: 0.3516, Train Acc: 0.9013, Test Acc: 0.9049\n"
          ]
        }
      ]
    },
    {
      "cell_type": "markdown",
      "source": [
        "[MYCODE] 정확도 PLOT 하기"
      ],
      "metadata": {
        "id": "xzTZqq9NKQkZ"
      }
    },
    {
      "cell_type": "code",
      "source": [
        "# 정확도 Plot\n",
        "plot_acc(train_accs, test_accs)"
      ],
      "metadata": {
        "id": "7Xvo7_ZIKaGi",
        "outputId": "4f33ae99-1aa2-4fed-a2fe-ac2592d9d1a8",
        "colab": {
          "base_uri": "https://localhost:8080/",
          "height": 472
        }
      },
      "execution_count": 25,
      "outputs": [
        {
          "output_type": "display_data",
          "data": {
            "text/plain": [
              "<Figure size 640x480 with 1 Axes>"
            ],
            "image/png": "[encoded data removed]"
          },
          "metadata": {}
        }
      ]
    }
  ]
}
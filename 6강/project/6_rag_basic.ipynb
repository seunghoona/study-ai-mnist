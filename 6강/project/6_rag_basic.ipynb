{
 "cells": [
  {
   "cell_type": "markdown",
   "metadata": {},
   "source": [
    "# 목표 \n",
    "이전 이미지 관련 실습에서는 사용자가 이미지를 업로드하면 하드 코딩 된 prompt와 함께 GPT로 보내 답변을 받는 챗봇을 구현했습니다. 이번에는 다음과 같이 기능을 확장하는 것이 과제의 목표입니다:\n",
    "\n",
    "- 여러 이미지를 입력으로 받기\n",
    "    - 기존에는 이미지 한 장만을 입력으로 받았다면 이번에는 다수의 사진을 입력 받을 수 있도록 만들어야 합니다.\n",
    "    - Streamlit의 `st.file_uploader` [문서](https://docs.streamlit.io/develop/api-reference/widgets/st.file_uploader)를 확인하여 기존 코드에서 여러 장의 사진을 받을 수 있도록 구현해봅시다.\n",
    "- 업로드 된 이미지들을 가지고 자유롭게 질의응답 할 수 있는 챗봇 구현\n",
    "    - 기존과 다르게 하드코딩 된 prompt가 아닌, 사용자로부터 질문을 입력받아 GPT에게 넘겨주는 챗봇을 구현하셔야 합니다.\n",
    "    - 그리고 사용자가 여러 번 질문을 입력해도 처음 주어진 이미지들로 답변할 수 있도록 구현하셔야 합니다(이 부분은 RAG 실습 코드를 참조).\n",
    "    - GPT에게 여러 개의 사진을 보내주는 부분은 [API 문서](https://platform.openai.com/docs/guides/vision)를 확인하여 구현하시면 됩니다.\n",
    "- 다음 이미지들과 질문에 대한 챗봇의 답변 생성\n",
    "    - 다음 주어진 이미지들과 질문을 실제로 구현한 챗봇에게 주어졌을 때 어떤 답변이 생성되는지 영상을 녹화하셔야 합니다:\n",
    "        - 이미지: 인터넷에서 강아지 사진과 고양이 사진 각각 1장씩 찾아 입력으로 쓰시면 됩니다.\n",
    "        - 질문 1: 주어진 두 사진의 공통점이 뭐야?\n",
    "        - 질문 2: 주어진 두 사진의 차이점이 뭐야?\n",
    "    - 질문 1, 2를 차례로 입력하시면 됩니다. 즉, 챗봇과 질의응답이 두 차례 이루어져야 합니다.\n"
   ]
  },
  {
   "cell_type": "markdown",
   "metadata": {
    "vscode": {
     "languageId": "plaintext"
    }
   },
   "source": [
    "#"
   ]
  },
  {
   "cell_type": "markdown",
   "metadata": {},
   "source": [
    "# import 처리합니다"
   ]
  },
  {
   "cell_type": "code",
   "execution_count": 1,
   "metadata": {},
   "outputs": [],
   "source": [
    "import streamlit as st\n",
    "from PIL import Image\n",
    "from io import BytesIO\n",
    "\n",
    "from langchain_openai import ChatOpenAI\n",
    "from langchain_core.messages import HumanMessage"
   ]
  },
  {
   "cell_type": "markdown",
   "metadata": {},
   "source": [
    "# 이미지 업로드 InputView"
   ]
  },
  {
   "cell_type": "markdown",
   "metadata": {},
   "source": [
    "- 여러 이미지를 입력받기"
   ]
  },
  {
   "cell_type": "code",
   "execution_count": 3,
   "metadata": {},
   "outputs": [
    {
     "name": "stderr",
     "output_type": "stream",
     "text": [
      "2025-01-28 13:12:42.558 Thread 'MainThread': missing ScriptRunContext! This warning can be ignored when running in bare mode.\n",
      "2025-01-28 13:12:42.565 Thread 'MainThread': missing ScriptRunContext! This warning can be ignored when running in bare mode.\n",
      "2025-01-28 13:12:42.567 Thread 'MainThread': missing ScriptRunContext! This warning can be ignored when running in bare mode.\n",
      "2025-01-28 13:12:42.569 Thread 'MainThread': missing ScriptRunContext! This warning can be ignored when running in bare mode.\n",
      "2025-01-28 13:12:42.571 Thread 'MainThread': missing ScriptRunContext! This warning can be ignored when running in bare mode.\n",
      "2025-01-28 13:12:42.573 Thread 'MainThread': missing ScriptRunContext! This warning can be ignored when running in bare mode.\n",
      "2025-01-28 13:12:42.576 Thread 'MainThread': missing ScriptRunContext! This warning can be ignored when running in bare mode.\n",
      "2025-01-28 13:12:42.577 Thread 'MainThread': missing ScriptRunContext! This warning can be ignored when running in bare mode.\n",
      "2025-01-28 13:12:42.578 Thread 'MainThread': missing ScriptRunContext! This warning can be ignored when running in bare mode.\n"
     ]
    }
   ],
   "source": [
    "# OpenAI 모델 초기화\n",
    "model = ChatOpenAI(model=\"gpt-4o-mini\")\n",
    "\n",
    "# Streamlit 세션 초기화\n",
    "if \"messages\" not in st.session_state:\n",
    "    st.session_state.messages = []\n",
    "if \"uploaded_images\" not in st.session_state:\n",
    "    st.session_state.uploaded_images = []\n",
    "\n",
    "# 이미지 업로드\n",
    "uploaded_files = st.file_uploader(\n",
    "    \"최대 3개의 이미지를 업로드 해주세요\",\n",
    "    type=[\"jpg\", \"jpeg\", \"png\"],\n",
    "    accept_multiple_files=True,\n",
    ")\n",
    "\n",
    "if uploaded_files:\n",
    "    for file in uploaded_files:\n",
    "        image = Image.open(file)\n",
    "        buffer = BytesIO()\n",
    "        image.save(buffer, format=\"PNG\")\n",
    "        st.session_state.uploaded_images.append(\n",
    "            {\"name\": file.name, \"data\": buffer.getvalue()}\n",
    "        )\n",
    "        st.image(image, caption=f\"업로드된 이미지: {file.name}\", use_column_width=True)\n",
    "\n",
    "    st.success(f\"{len(uploaded_files)}개의 이미지가 업로드되었습니다.\")\n",
    "\n",
    "# 사용자 대화 입력\n",
    "prompt = st.chat_input(\"이미지에 대해 질문을 입력하세요 (예: 공통점은 무엇인가요?):\")\n",
    "\n",
    "if prompt:\n",
    "    with st.chat_message(\"user\"):\n",
    "        st.markdown(prompt)\n",
    "    st.session_state.messages.append({\"role\": \"user\", \"content\": prompt})\n",
    "\n",
    "    # 이미지 설명 생성 및 모델 호출\n",
    "    if len(st.session_state.uploaded_images) > 1:\n",
    "        image_descriptions = \"\\n\".join(\n",
    "            [\n",
    "                f\"이미지 {i + 1}: {img['name']}\"\n",
    "                for i, img in enumerate(st.session_state.uploaded_images)\n",
    "            ]\n",
    "        )\n",
    "        full_prompt = (\n",
    "            f\"다음은 사용자가 업로드한 이미지 목록입니다:\\n{image_descriptions}\\n\\n\"\n",
    "            f\"사용자의 질문: {prompt}\\n\\n\"\n",
    "            f\"이미지의 공통점이나 차이점을 설명하고 질문에 답변해주세요.\"\n",
    "        )\n",
    "    else:\n",
    "        full_prompt = f\"사용자의 질문: {prompt}\"\n",
    "\n",
    "    with st.chat_message(\"assistant\"):\n",
    "        st.markdown(\"응답 생성 중...\")\n",
    "\n",
    "        # GPT 모델 호출\n",
    "        result = model([HumanMessage(content=full_prompt)])\n",
    "        response = result.content.strip()\n",
    "\n",
    "        st.markdown(response)\n",
    "        st.session_state.messages.append({\"role\": \"assistant\", \"content\": response})\n",
    "\n",
    "# 업로드된 이미지 목록 및 대화 기록 표시\n",
    "if st.session_state.uploaded_images:\n",
    "    st.write(\"### 업로드된 이미지 목록\")\n",
    "    cols = st.columns(len(st.session_state.uploaded_images))\n",
    "    for i, img in enumerate(st.session_state.uploaded_images):\n",
    "        with cols[i]:\n",
    "            st.image(\n",
    "                Image.open(BytesIO(img[\"data\"])),\n",
    "                caption=f\"이미지 {i + 1}: {img['name']}\",\n",
    "            )"
   ]
  }
 ],
 "metadata": {
  "kernelspec": {
   "display_name": "hanghae-subject",
   "language": "python",
   "name": "python3"
  },
  "language_info": {
   "codemirror_mode": {
    "name": "ipython",
    "version": 3
   },
   "file_extension": ".py",
   "mimetype": "text/x-python",
   "name": "python",
   "nbconvert_exporter": "python",
   "pygments_lexer": "ipython3",
   "version": "3.11.11"
  }
 },
 "nbformat": 4,
 "nbformat_minor": 2
}

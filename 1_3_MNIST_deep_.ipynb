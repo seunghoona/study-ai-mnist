{
  "nbformat": 4,
  "nbformat_minor": 0,
  "metadata": {
    "colab": {
      "provenance": [],
      "gpuType": "A100",
      "machine_shape": "hm",
      "include_colab_link": true
    },
    "kernelspec": {
      "name": "python3",
      "display_name": "Python 3"
    },
    "language_info": {
      "name": "python"
    },
    "accelerator": "GPU"
  },
  "cells": [
    {
      "cell_type": "markdown",
      "metadata": {
        "id": "view-in-github",
        "colab_type": "text"
      },
      "source": [
        "<a href=\"https://colab.research.google.com/github/seunghoona/study-ai-mnist/blob/main/1_3_MNIST_deep_.ipynb\" target=\"_parent\"><img src=\"https://colab.research.google.com/assets/colab-badge.svg\" alt=\"Open In Colab\"/></a>"
      ]
    },
    {
      "cell_type": "code",
      "execution_count": 1,
      "metadata": {
        "id": "6lXVfXoDtoQh"
      },
      "outputs": [],
      "source": [
        "import torch\n",
        "import torch.nn as nn\n",
        "import torchvision\n",
        "import torchvision.transforms as transforms\n",
        "import numpy as np\n",
        "import matplotlib.pyplot as plt\n",
        "from torch.optim import SGD\n",
        "from torch.optim import Adam"
      ]
    },
    {
      "cell_type": "code",
      "source": [
        "# 정확도 측정 함수\n",
        "def accuracy(model, dataloader):\n",
        "    cnt = 0\n",
        "    acc = 0\n",
        "\n",
        "    model.eval()  # 평가 모드\n",
        "    with torch.no_grad():\n",
        "        for data in dataloader:\n",
        "            inputs, labels = data\n",
        "            inputs, labels = inputs.to('cuda'), labels.to('cuda')\n",
        "\n",
        "            preds = model(inputs)\n",
        "            preds = torch.argmax(preds, dim=-1)\n",
        "\n",
        "            cnt += labels.shape[0]\n",
        "            acc += (labels == preds).sum().item()\n",
        "\n",
        "    return acc / cnt\n",
        "\n",
        "# Plot 함수\n",
        "def plot_acc(train_accs, test_accs, title=\"default plot\", label1='train', label2='test'):\n",
        "    x = np.arange(len(train_accs))\n",
        "    plt.plot(x, train_accs, label=label1)\n",
        "    plt.plot(x, test_accs, label=label2)\n",
        "    plt.legend()\n",
        "    plt.title(title)\n",
        "    plt.xlabel(\"Epoch\")\n",
        "    plt.ylabel(\"Accuracy\")\n",
        "    plt.show()"
      ],
      "metadata": {
        "id": "QmkZSeu31ibT"
      },
      "execution_count": 2,
      "outputs": []
    },
    {
      "cell_type": "markdown",
      "source": [
        "[MYCODE] dataset 리팩토링\n",
        "\n",
        "- dataset 중복코드 제거\n",
        "- trainset 생성\n",
        "- testset 생성"
      ],
      "metadata": {
        "id": "pF-1zQvmiult"
      }
    },
    {
      "cell_type": "code",
      "source": [
        "transform = transforms.ToTensor()\n",
        "\n",
        "def get_dataset(train= True, download=True):\n",
        "    return torchvision.datasets.CIFAR10(\n",
        "    root='./data',\n",
        "    train=train,\n",
        "    download=download,\n",
        "    transform=transform\n",
        ")\n",
        "\n",
        "batch_size = 256\n",
        "def get_loader(dataset, suffle=True):\n",
        "    return torch.utils.data.DataLoader(\n",
        "      dataset,\n",
        "      batch_size=batch_size,\n",
        "      shuffle=suffle\n",
        ")\n",
        "\n",
        "\n",
        "trainset = get_dataset()\n",
        "testset = get_dataset(False)\n",
        "\n",
        "print(f\"trainset size: {len(trainset)}\")\n",
        "print(f\"testset size: {len(testset)}\")\n",
        "\n",
        "trainloader = get_loader(trainset)\n",
        "testloader = get_loader(testset, False)\n",
        "\n",
        "print(f\"trainloader size: {len(trainloader)}\")\n",
        "print(f\"testloader size: {len(testloader)}\")\n"
      ],
      "metadata": {
        "id": "KAYlqPaRt6ti",
        "collapsed": true,
        "colab": {
          "base_uri": "https://localhost:8080/"
        },
        "outputId": "a0b61e14-b83f-4a6c-fe5d-07ae45726125"
      },
      "execution_count": 3,
      "outputs": [
        {
          "output_type": "stream",
          "name": "stdout",
          "text": [
            "Downloading https://www.cs.toronto.edu/~kriz/cifar-10-python.tar.gz to ./data/cifar-10-python.tar.gz\n"
          ]
        },
        {
          "output_type": "stream",
          "name": "stderr",
          "text": [
            "100%|██████████| 170M/170M [00:13<00:00, 13.1MB/s]\n"
          ]
        },
        {
          "output_type": "stream",
          "name": "stdout",
          "text": [
            "Extracting ./data/cifar-10-python.tar.gz to ./data\n",
            "Files already downloaded and verified\n",
            "trainset size: 50000\n",
            "testset size: 10000\n",
            "trainloader size: 196\n",
            "testloader size: 40\n"
          ]
        }
      ]
    },
    {
      "cell_type": "code",
      "source": [
        "data_iter = iter(trainloader)\n",
        "images, labels = next(data_iter)\n",
        "batch_size, channels, height, width = images.shape\n",
        "\n",
        "# 이미지 크기와 채널 수 확인\n",
        "print(f\"Image shape: {images.shape}\")  # 출력 예: (256, 3, 32, 32)\n",
        "print(f\"Batch size: {batch_size}\")\n",
        "print(f\"Number of channels: {channels}\")\n",
        "print(f\"Height: {height}\")\n",
        "print(f\"Width: {width}\")"
      ],
      "metadata": {
        "colab": {
          "base_uri": "https://localhost:8080/"
        },
        "id": "-J056NwrOHss",
        "outputId": "9e00e972-d35f-4d35-a178-348f687a9488"
      },
      "execution_count": 4,
      "outputs": [
        {
          "output_type": "stream",
          "name": "stdout",
          "text": [
            "Image shape: torch.Size([256, 3, 32, 32])\n",
            "Batch size: 256\n",
            "Number of channels: 3\n",
            "Height: 32\n",
            "Width: 32\n"
          ]
        }
      ]
    },
    {
      "cell_type": "code",
      "source": [
        "class Model(nn.Module):\n",
        "  def __init__(self, input_dim, n_dim, act):\n",
        "    super().__init__()\n",
        "\n",
        "    self.layer1 = nn.Linear(input_dim, n_dim)\n",
        "    self.layer2 = nn.Linear(n_dim, n_dim)\n",
        "    self.layer3 = nn.Linear(n_dim, 10)\n",
        "\n",
        "    self.act = act()\n",
        "\n",
        "  def forward(self, x):\n",
        "    x = torch.flatten(x, start_dim=1)\n",
        "    x = self.act(self.layer1(x))\n",
        "    x = self.act(self.layer2(x))\n",
        "    # 활성함수를 삭제\n",
        "    return self.layer3(x)\n",
        "\n",
        "class SigmoidModel(nn.Module):\n",
        "  def __init__(self, input_dim, n_dim, act):\n",
        "    super().__init__()\n",
        "\n",
        "    self.layer1 = nn.Linear(input_dim, n_dim)\n",
        "    self.layer2 = nn.Linear(n_dim, n_dim)\n",
        "    self.layer3 = nn.Linear(n_dim, 1)\n",
        "\n",
        "    self.act = act()\n",
        "\n",
        "  def forward(self, x):\n",
        "    x = torch.flatten(x, start_dim=1)\n",
        "    x = self.act(self.layer1(x))\n",
        "    x = self.act(self.layer2(x))\n",
        "    # 활성함수를 삭제\n",
        "    return self.layer3(x)\n"
      ],
      "metadata": {
        "id": "OLOA-ZGTuVVG"
      },
      "execution_count": 20,
      "outputs": []
    },
    {
      "cell_type": "markdown",
      "source": [
        "[MYCODE] LeakyReLU 변경\n",
        "\n",
        "- 손실함수를 ReLU 에서 LeakyReLU 변경한다."
      ],
      "metadata": {
        "id": "jpxpWJ9N4BE3"
      }
    },
    {
      "cell_type": "code",
      "source": [
        "model_sgd = Model(width * height * channels, 1024, nn.LeakyReLU).to('cuda')"
      ],
      "metadata": {
        "id": "AxEBMQn1qJ-e"
      },
      "execution_count": 13,
      "outputs": []
    },
    {
      "cell_type": "code",
      "source": [
        "model_adm = Model(width * height * channels, 1024, nn.LeakyReLU).to('cuda')\n",
        "model_sigmoid = SigmoidModel(width * height * channels, 1024, nn.Sigmoid).to('cuda')"
      ],
      "metadata": {
        "id": "mdxfERVxqIw-"
      },
      "execution_count": 21,
      "outputs": []
    },
    {
      "cell_type": "code",
      "source": [
        "lr = 0.001\n",
        "optimizer_sgd = SGD(model_sgd.parameters(), lr=lr)\n",
        "optimizer_adam = Adam(model_adm.parameters(), lr=lr)\n",
        "optimizer_sigmoid_adam = Adam(model_sigmoid.parameters(), lr=lr)"
      ],
      "metadata": {
        "id": "ypS0TcOlvBhZ"
      },
      "execution_count": 15,
      "outputs": []
    },
    {
      "cell_type": "code",
      "source": [
        "cretaition = nn.CrossEntropyLoss()"
      ],
      "metadata": {
        "id": "y8Hvhzgrw-P5"
      },
      "execution_count": 23,
      "outputs": []
    },
    {
      "cell_type": "markdown",
      "source": [
        "[LOG] 모델학습 시작\n",
        "\n",
        "- SGD 모델과 아담 모델을 각각학습하여 각각의 옵티마이저를 이용하여 학습시켰습니다."
      ],
      "metadata": {
        "id": "vIsEFH87FmsC"
      }
    },
    {
      "cell_type": "code",
      "source": [
        "n_epochs = 50\n",
        "\n",
        "# Lists for Accuracy Tracking\n",
        "train_sgd_accuracies = []\n",
        "train_adm_accuracies = []\n",
        "train_sigmoid_accuracies = []\n",
        "\n",
        "for epoch in range(n_epochs):\n",
        "  total_sgd_loss = 0.\n",
        "  total_adam_loss = 0.\n",
        "  total_sigmoid_adam_loss = 0.\n",
        "  for data in trainloader:\n",
        "    inputs, labels = data\n",
        "    inputs, labels = inputs.to('cuda'), labels.to('cuda')\n",
        "\n",
        "    # SGD 학습\n",
        "    model_sgd.zero_grad()\n",
        "    preds = model_sgd(inputs)\n",
        "    loss = cretaition(preds, labels)\n",
        "    loss.backward()\n",
        "    optimizer_sgd.step()\n",
        "    total_sgd_loss += loss.item()\n",
        "\n",
        "    # 아담 학습\n",
        "    model_adm.zero_grad()\n",
        "    preds = model_adm(inputs)\n",
        "    loss = cretaition(preds, labels)\n",
        "    loss.backward()\n",
        "    optimizer_adam.step()\n",
        "    total_adam_loss += loss.item()\n",
        "\n",
        "    # sigmoid model + adam 학습\n",
        "    model_sigmoid.zero_grad()\n",
        "    preds = model_sigmoid(inputs)\n",
        "    loss = cretaition(preds, labels)\n",
        "    loss.backward()\n",
        "    optimizer_sigmoid_adam.step()\n",
        "    total_sigmoid_adam_loss += loss.item()\n",
        "\n",
        "  # Epoch 종료 후 정확도 계산\n",
        "  train_sgd_accuracy = accuracy(model_sgd, trainloader)\n",
        "  train_adm_accuracy = accuracy(model_adm, trainloader)\n",
        "  train_sigmoid_accuracy = accuracy(model_sigmoid, trainloader)\n",
        "\n",
        "  train_sgd_accuracies.append(train_sgd_accuracy)\n",
        "  train_adm_accuracies.append(train_adm_accuracy)\n",
        "  train_sigmoid_accuracies.append(train_sigmoid_accuracy)\n",
        "\n",
        "  print(f\"Epoch SGD {epoch + 1}/{n_epochs}, Loss: {total_sgd_loss / len(trainloader):.4f}, Train Acc: {train_sgd_accuracy:.4f}\")\n",
        "  print(f\"Epoch ADM {epoch + 1}/{n_epochs}, Loss: {total_adam_loss / len(trainloader):.4f}, Train Acc: {train_adm_accuracy:.4f}\")\n",
        "  print(f\"Epoch SIGMOID + ADM {epoch + 1}/{n_epochs}, Loss: {total_sigmoid_adam_loss / len(trainloader):.4f}, Train Acc: {train_sigmoid_accuracy:.4f}\")\n",
        "\n",
        "# 모델 저장 경로\n",
        "model_sgd_path = \"model_sgd.pth\"\n",
        "model_adam_path = \"model_adam.pth\"\n",
        "\n",
        "# SGD 모델 저장\n",
        "torch.save(model_sgd.state_dict(), model_sgd_path)\n",
        "print(f\"SGD Model saved to {model_sgd_path}\")\n",
        "\n",
        "# Adam 모델 저장\n",
        "torch.save(model_adm.state_dict(), model_adam_path)\n",
        "print(f\"Adam Model saved to {model_adam_path}\")"
      ],
      "metadata": {
        "colab": {
          "base_uri": "https://localhost:8080/",
          "height": 258
        },
        "id": "TryX1hewvNiB",
        "outputId": "491cedd3-2cbe-4b31-d4cc-765e772d8fef"
      },
      "execution_count": 24,
      "outputs": [
        {
          "output_type": "error",
          "ename": "RuntimeError",
          "evalue": "CUDA error: device-side assert triggered\nCUDA kernel errors might be asynchronously reported at some other API call, so the stacktrace below might be incorrect.\nFor debugging consider passing CUDA_LAUNCH_BLOCKING=1\nCompile with `TORCH_USE_CUDA_DSA` to enable device-side assertions.\n",
          "traceback": [
            "\u001b[0;31m---------------------------------------------------------------------------\u001b[0m",
            "\u001b[0;31mRuntimeError\u001b[0m                              Traceback (most recent call last)",
            "\u001b[0;32m<ipython-input-24-275c29b533b0>\u001b[0m in \u001b[0;36m<cell line: 8>\u001b[0;34m()\u001b[0m\n\u001b[1;32m     12\u001b[0m   \u001b[0;32mfor\u001b[0m \u001b[0mdata\u001b[0m \u001b[0;32min\u001b[0m \u001b[0mtrainloader\u001b[0m\u001b[0;34m:\u001b[0m\u001b[0;34m\u001b[0m\u001b[0;34m\u001b[0m\u001b[0m\n\u001b[1;32m     13\u001b[0m     \u001b[0minputs\u001b[0m\u001b[0;34m,\u001b[0m \u001b[0mlabels\u001b[0m \u001b[0;34m=\u001b[0m \u001b[0mdata\u001b[0m\u001b[0;34m\u001b[0m\u001b[0;34m\u001b[0m\u001b[0m\n\u001b[0;32m---> 14\u001b[0;31m     \u001b[0minputs\u001b[0m\u001b[0;34m,\u001b[0m \u001b[0mlabels\u001b[0m \u001b[0;34m=\u001b[0m \u001b[0minputs\u001b[0m\u001b[0;34m.\u001b[0m\u001b[0mto\u001b[0m\u001b[0;34m(\u001b[0m\u001b[0;34m'cuda'\u001b[0m\u001b[0;34m)\u001b[0m\u001b[0;34m,\u001b[0m \u001b[0mlabels\u001b[0m\u001b[0;34m.\u001b[0m\u001b[0mto\u001b[0m\u001b[0;34m(\u001b[0m\u001b[0;34m'cuda'\u001b[0m\u001b[0;34m)\u001b[0m\u001b[0;34m\u001b[0m\u001b[0;34m\u001b[0m\u001b[0m\n\u001b[0m\u001b[1;32m     15\u001b[0m \u001b[0;34m\u001b[0m\u001b[0m\n\u001b[1;32m     16\u001b[0m     \u001b[0;31m# SGD 학습\u001b[0m\u001b[0;34m\u001b[0m\u001b[0;34m\u001b[0m\u001b[0m\n",
            "\u001b[0;31mRuntimeError\u001b[0m: CUDA error: device-side assert triggered\nCUDA kernel errors might be asynchronously reported at some other API call, so the stacktrace below might be incorrect.\nFor debugging consider passing CUDA_LAUNCH_BLOCKING=1\nCompile with `TORCH_USE_CUDA_DSA` to enable device-side assertions.\n"
          ]
        }
      ]
    },
    {
      "cell_type": "markdown",
      "source": [
        "[MYCODE] SGD 와  ADAM 학습된 각각의 에포츠 활성함수  대해 플로팅"
      ],
      "metadata": {
        "id": "xzTZqq9NKQkZ"
      }
    },
    {
      "cell_type": "code",
      "source": [
        "# 정확도 Plot\n",
        "plot_acc(train_sgd_accuracies, train_adm_accuracies,\"Train Accuracy Comparison (SGD vs Adam)\", 'SGD', 'ADAM')"
      ],
      "metadata": {
        "id": "7Xvo7_ZIKaGi",
        "outputId": "50e57f54-19af-4c56-9c18-38fab3bfce6c",
        "colab": {
          "base_uri": "https://localhost:8080/",
          "height": 472
        }
      },
      "execution_count": 40,
      "outputs": [
        {
          "output_type": "display_data",
          "data": {
            "text/plain": [
              "<Figure size 640x480 with 1 Axes>"
            ],
            "image/png": "[encoded data removed]"
          },
          "metadata": {}
        }
      ]
    }
  ]
}
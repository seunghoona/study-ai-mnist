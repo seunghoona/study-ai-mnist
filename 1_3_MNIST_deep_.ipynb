{
  "nbformat": 4,
  "nbformat_minor": 0,
  "metadata": {
    "colab": {
      "provenance": [],
      "gpuType": "A100",
      "machine_shape": "hm",
      "include_colab_link": true
    },
    "kernelspec": {
      "name": "python3",
      "display_name": "Python 3"
    },
    "language_info": {
      "name": "python"
    },
    "accelerator": "GPU"
  },
  "cells": [
    {
      "cell_type": "markdown",
      "metadata": {
        "id": "view-in-github",
        "colab_type": "text"
      },
      "source": [
        "<a href=\"https://colab.research.google.com/github/seunghoona/study-ai-mnist/blob/main/1_3_MNIST_deep_.ipynb\" target=\"_parent\"><img src=\"https://colab.research.google.com/assets/colab-badge.svg\" alt=\"Open In Colab\"/></a>"
      ]
    },
    {
      "cell_type": "markdown",
      "source": [
        "# MNIST 실습\n",
        "\n",
        "이번에는 28x28 흑백 손글씨 이미지를 보고 0~9 사이의 숫자 중 어떤 숫자를 쓴 것인지 예측하는 문제를 실습합니다.\n",
        "이번 실습에서는 GPU를 활용할 것이기 때문에, 이전 챕터에서 Colab에서 GPU를 설정하는 방법을 따라해주시길 바랍니다.\n",
        "\n",
        "GPU를 설정했으면 library들을 import합니다."
      ],
      "metadata": {
        "id": "OPJenlrhihrh"
      }
    },
    {
      "cell_type": "code",
      "execution_count": 1,
      "metadata": {
        "id": "6lXVfXoDtoQh"
      },
      "outputs": [],
      "source": [
        "import torch\n",
        "import torch.nn as nn\n",
        "import torchvision\n",
        "import torchvision.transforms as transforms\n",
        "import numpy as np\n",
        "import matplotlib.pyplot as plt\n",
        "from torch.optim import SGD"
      ]
    },
    {
      "cell_type": "code",
      "source": [
        "# 정확도 측정 함수\n",
        "def accuracy(model, dataloader):\n",
        "    cnt = 0\n",
        "    acc = 0\n",
        "\n",
        "    model.eval()  # 평가 모드\n",
        "    with torch.no_grad():\n",
        "        for data in dataloader:\n",
        "            inputs, labels = data\n",
        "            inputs, labels = inputs.to('cuda'), labels.to('cuda')\n",
        "\n",
        "            preds = model(inputs)\n",
        "            preds = torch.argmax(preds, dim=-1)\n",
        "\n",
        "            cnt += labels.shape[0]\n",
        "            acc += (labels == preds).sum().item()\n",
        "\n",
        "    return acc / cnt\n",
        "\n",
        "# Plot 함수\n",
        "def plot_acc(train_accs, test_accs, label1='train', label2='test'):\n",
        "    x = np.arange(len(train_accs))\n",
        "\n",
        "    plt.plot(x, train_accs, label=label1)\n",
        "    plt.plot(x, test_accs, label=label2)\n",
        "    plt.legend()\n",
        "    plt.title(\"Train vs Test Accuracy\")\n",
        "    plt.xlabel(\"Epoch\")\n",
        "    plt.ylabel(\"Accuracy\")\n",
        "    plt.show()"
      ],
      "metadata": {
        "id": "QmkZSeu31ibT"
      },
      "execution_count": 2,
      "outputs": []
    },
    {
      "cell_type": "markdown",
      "source": [
        "[MYCODE] dataset 리팩토링\n",
        "\n",
        "- dataset 중복코드 제거\n",
        "- trainset 생성\n",
        "- testset 생성"
      ],
      "metadata": {
        "id": "pF-1zQvmiult"
      }
    },
    {
      "cell_type": "code",
      "source": [
        "transform = transforms.ToTensor()\n",
        "\n",
        "def get_dataset(train= True, download=True):\n",
        "    return torchvision.datasets.CIFAR10(\n",
        "    root='./data',\n",
        "    train=train,\n",
        "    download=download,\n",
        "    transform=transform\n",
        ")\n",
        "\n",
        "batch_size = 256\n",
        "def get_loader(dataset, suffle=True):\n",
        "    return torch.utils.data.DataLoader(\n",
        "      dataset,\n",
        "      batch_size=batch_size,\n",
        "      shuffle=suffle\n",
        ")\n",
        "\n",
        "\n",
        "trainset = get_dataset()\n",
        "testset = get_dataset(False)\n",
        "\n",
        "trainloader = get_loader(trainset)\n",
        "testloader = get_loader(testset, False)\n"
      ],
      "metadata": {
        "id": "KAYlqPaRt6ti",
        "collapsed": true,
        "colab": {
          "base_uri": "https://localhost:8080/"
        },
        "outputId": "5b20723d-8107-4bce-ca67-4570cd581271"
      },
      "execution_count": 3,
      "outputs": [
        {
          "output_type": "stream",
          "name": "stdout",
          "text": [
            "Downloading https://www.cs.toronto.edu/~kriz/cifar-10-python.tar.gz to ./data/cifar-10-python.tar.gz\n"
          ]
        },
        {
          "output_type": "stream",
          "name": "stderr",
          "text": [
            "100%|██████████| 170M/170M [00:02<00:00, 71.7MB/s]\n"
          ]
        },
        {
          "output_type": "stream",
          "name": "stdout",
          "text": [
            "Extracting ./data/cifar-10-python.tar.gz to ./data\n",
            "Files already downloaded and verified\n"
          ]
        }
      ]
    },
    {
      "cell_type": "code",
      "source": [
        "data_iter = iter(trainloader)\n",
        "images, labels = next(data_iter)\n",
        "batch_size, channels, height, width = images.shape\n",
        "\n",
        "# 이미지 크기와 채널 수 확인\n",
        "print(f\"Image shape: {images.shape}\")  # 출력 예: (256, 3, 32, 32)\n",
        "print(f\"Batch size: {batch_size}\")\n",
        "print(f\"Number of channels: {channels}\")\n",
        "print(f\"Height: {height}\")\n",
        "print(f\"Width: {width}\")"
      ],
      "metadata": {
        "colab": {
          "base_uri": "https://localhost:8080/"
        },
        "id": "-J056NwrOHss",
        "outputId": "52ece53d-771c-4391-c0aa-68aa93e2a0d2"
      },
      "execution_count": 4,
      "outputs": [
        {
          "output_type": "stream",
          "name": "stdout",
          "text": [
            "Image shape: torch.Size([256, 3, 32, 32])\n",
            "Batch size: 256\n",
            "Number of channels: 3\n",
            "Height: 32\n",
            "Width: 32\n"
          ]
        }
      ]
    },
    {
      "cell_type": "markdown",
      "source": [
        "[MYCODE] LeakyReLU 변경\n",
        "\n",
        "- 손실함수를 ReLU 에서 LeakyReLU 변경한다."
      ],
      "metadata": {
        "id": "Zb9fJJ-iM8u3"
      }
    },
    {
      "cell_type": "code",
      "source": [
        "class Model(nn.Module):\n",
        "  def __init__(self, input_dim, n_dim):\n",
        "    super().__init__()\n",
        "\n",
        "    self.layer1 = nn.Linear(input_dim, n_dim)\n",
        "    self.layer2 = nn.Linear(n_dim, n_dim)\n",
        "    self.layer3 = nn.Linear(n_dim, 10)\n",
        "\n",
        "    self.act = nn.LeakyReLU()\n",
        "\n",
        "  def forward(self, x):\n",
        "    x = torch.flatten(x, start_dim=1)\n",
        "    x = self.act(self.layer1(x))\n",
        "    x = self.act(self.layer2(x))\n",
        "    # 활성함수를 삭제\n",
        "    return self.layer3(x)\n",
        "\n",
        "\n",
        "model = Model(width * height * channels, 1024).to('cuda')"
      ],
      "metadata": {
        "id": "OLOA-ZGTuVVG"
      },
      "execution_count": 5,
      "outputs": []
    },
    {
      "cell_type": "code",
      "source": [
        "lr = 0.001\n",
        "model = model.to('cuda')\n",
        "optimizer = SGD(model.parameters(), lr=lr)"
      ],
      "metadata": {
        "id": "ypS0TcOlvBhZ"
      },
      "execution_count": 6,
      "outputs": []
    },
    {
      "cell_type": "code",
      "source": [
        "cretaition = nn.CrossEntropyLoss()"
      ],
      "metadata": {
        "id": "y8Hvhzgrw-P5"
      },
      "execution_count": 7,
      "outputs": []
    },
    {
      "cell_type": "markdown",
      "source": [
        "[LOG] 학습과정에서 에포크별 손실값, Train, Test 표시"
      ],
      "metadata": {
        "id": "vIsEFH87FmsC"
      }
    },
    {
      "cell_type": "code",
      "source": [
        "n_epochs = 50\n",
        "\n",
        "# Lists for Accuracy Tracking\n",
        "train_accs = []\n",
        "test_accs = []\n",
        "\n",
        "\n",
        "for epoch in range(n_epochs):\n",
        "  total_loss = 0.\n",
        "  for data in trainloader:\n",
        "    model.zero_grad()\n",
        "    inputs, labels = data\n",
        "    inputs, labels = inputs.to('cuda'), labels.to('cuda')\n",
        "\n",
        "    preds = model(inputs)\n",
        "\n",
        "    #print(f\"모델 출력 크기: {preds.shape}\")\n",
        "    #print(f\"모델 출력 값(샘플): {preds[0]}\")\n",
        "\n",
        "    assert labels.min() >= 0, \"음수 값이 포함되어 있습니다!\"\n",
        "    assert labels.max() < 10, \"클래스 개수를 초과합니다!\"\n",
        "    assert labels.dtype == torch.int64, \"라벨 타입이 torch.LongTensor가 아닙니다!\"\n",
        "\n",
        "    loss = cretaition(preds, labels)\n",
        "\n",
        "    loss.backward()\n",
        "    optimizer.step()\n",
        "\n",
        "    total_loss += loss.item()\n",
        "\n",
        "  # Epoch 종료 후 정확도 계산\n",
        "  train_acc = accuracy(model, trainloader)\n",
        "  test_acc = accuracy(model, testloader)\n",
        "\n",
        "  train_accs.append(train_acc)\n",
        "  test_accs.append(test_acc)\n",
        "\n",
        "  print(f\"Epoch {epoch + 1}/{n_epochs}, Loss: {total_loss / len(trainloader):.4f}, Train Acc: {train_acc:.4f}, Test Acc: {test_acc:.4f}\")\n",
        "\n"
      ],
      "metadata": {
        "colab": {
          "base_uri": "https://localhost:8080/"
        },
        "id": "TryX1hewvNiB",
        "outputId": "b0749e7c-c55e-4bb3-ddb9-1f674e6e039d"
      },
      "execution_count": 8,
      "outputs": [
        {
          "output_type": "stream",
          "name": "stdout",
          "text": [
            "Epoch 1/50, Loss: 2.2980, Train Acc: 0.1237, Test Acc: 0.1244\n",
            "Epoch 2/50, Loss: 2.2880, Train Acc: 0.1216, Test Acc: 0.1216\n",
            "Epoch 3/50, Loss: 2.2790, Train Acc: 0.1330, Test Acc: 0.1339\n",
            "Epoch 4/50, Loss: 2.2703, Train Acc: 0.1498, Test Acc: 0.1493\n",
            "Epoch 5/50, Loss: 2.2612, Train Acc: 0.1672, Test Acc: 0.1658\n",
            "Epoch 6/50, Loss: 2.2515, Train Acc: 0.1781, Test Acc: 0.1790\n",
            "Epoch 7/50, Loss: 2.2410, Train Acc: 0.1952, Test Acc: 0.1942\n",
            "Epoch 8/50, Loss: 2.2297, Train Acc: 0.2150, Test Acc: 0.2130\n",
            "Epoch 9/50, Loss: 2.2174, Train Acc: 0.2256, Test Acc: 0.2244\n",
            "Epoch 10/50, Loss: 2.2040, Train Acc: 0.2375, Test Acc: 0.2358\n",
            "Epoch 11/50, Loss: 2.1898, Train Acc: 0.2459, Test Acc: 0.2480\n",
            "Epoch 12/50, Loss: 2.1747, Train Acc: 0.2501, Test Acc: 0.2515\n",
            "Epoch 13/50, Loss: 2.1592, Train Acc: 0.2568, Test Acc: 0.2575\n",
            "Epoch 14/50, Loss: 2.1441, Train Acc: 0.2633, Test Acc: 0.2636\n",
            "Epoch 15/50, Loss: 2.1288, Train Acc: 0.2678, Test Acc: 0.2691\n",
            "Epoch 16/50, Loss: 2.1145, Train Acc: 0.2705, Test Acc: 0.2716\n",
            "Epoch 17/50, Loss: 2.1004, Train Acc: 0.2707, Test Acc: 0.2722\n",
            "Epoch 18/50, Loss: 2.0873, Train Acc: 0.2738, Test Acc: 0.2773\n",
            "Epoch 19/50, Loss: 2.0756, Train Acc: 0.2770, Test Acc: 0.2796\n",
            "Epoch 20/50, Loss: 2.0643, Train Acc: 0.2815, Test Acc: 0.2834\n",
            "Epoch 21/50, Loss: 2.0537, Train Acc: 0.2822, Test Acc: 0.2824\n",
            "Epoch 22/50, Loss: 2.0439, Train Acc: 0.2875, Test Acc: 0.2891\n",
            "Epoch 23/50, Loss: 2.0344, Train Acc: 0.2908, Test Acc: 0.2904\n",
            "Epoch 24/50, Loss: 2.0254, Train Acc: 0.2923, Test Acc: 0.2903\n",
            "Epoch 25/50, Loss: 2.0171, Train Acc: 0.2927, Test Acc: 0.2907\n",
            "Epoch 26/50, Loss: 2.0090, Train Acc: 0.2982, Test Acc: 0.2949\n",
            "Epoch 27/50, Loss: 2.0010, Train Acc: 0.2993, Test Acc: 0.2965\n",
            "Epoch 28/50, Loss: 1.9936, Train Acc: 0.2999, Test Acc: 0.2971\n",
            "Epoch 29/50, Loss: 1.9867, Train Acc: 0.3031, Test Acc: 0.3004\n",
            "Epoch 30/50, Loss: 1.9797, Train Acc: 0.3053, Test Acc: 0.3010\n",
            "Epoch 31/50, Loss: 1.9732, Train Acc: 0.3066, Test Acc: 0.3049\n",
            "Epoch 32/50, Loss: 1.9669, Train Acc: 0.3093, Test Acc: 0.3054\n",
            "Epoch 33/50, Loss: 1.9609, Train Acc: 0.3100, Test Acc: 0.3063\n",
            "Epoch 34/50, Loss: 1.9554, Train Acc: 0.3115, Test Acc: 0.3091\n",
            "Epoch 35/50, Loss: 1.9496, Train Acc: 0.3150, Test Acc: 0.3118\n",
            "Epoch 36/50, Loss: 1.9449, Train Acc: 0.3142, Test Acc: 0.3104\n",
            "Epoch 37/50, Loss: 1.9396, Train Acc: 0.3169, Test Acc: 0.3138\n",
            "Epoch 38/50, Loss: 1.9347, Train Acc: 0.3182, Test Acc: 0.3125\n",
            "Epoch 39/50, Loss: 1.9307, Train Acc: 0.3216, Test Acc: 0.3180\n",
            "Epoch 40/50, Loss: 1.9257, Train Acc: 0.3226, Test Acc: 0.3200\n",
            "Epoch 41/50, Loss: 1.9215, Train Acc: 0.3241, Test Acc: 0.3217\n",
            "Epoch 42/50, Loss: 1.9169, Train Acc: 0.3267, Test Acc: 0.3230\n",
            "Epoch 43/50, Loss: 1.9133, Train Acc: 0.3273, Test Acc: 0.3247\n",
            "Epoch 44/50, Loss: 1.9092, Train Acc: 0.3285, Test Acc: 0.3255\n",
            "Epoch 45/50, Loss: 1.9053, Train Acc: 0.3309, Test Acc: 0.3277\n",
            "Epoch 46/50, Loss: 1.9023, Train Acc: 0.3336, Test Acc: 0.3294\n",
            "Epoch 47/50, Loss: 1.8983, Train Acc: 0.3338, Test Acc: 0.3330\n",
            "Epoch 48/50, Loss: 1.8947, Train Acc: 0.3350, Test Acc: 0.3308\n",
            "Epoch 49/50, Loss: 1.8909, Train Acc: 0.3358, Test Acc: 0.3319\n",
            "Epoch 50/50, Loss: 1.8881, Train Acc: 0.3363, Test Acc: 0.3338\n"
          ]
        }
      ]
    },
    {
      "cell_type": "markdown",
      "source": [
        "[MYCODE] 정확도 PLOT 하기"
      ],
      "metadata": {
        "id": "xzTZqq9NKQkZ"
      }
    },
    {
      "cell_type": "code",
      "source": [
        "# 정확도 Plot\n",
        "plot_acc(train_accs, test_accs)"
      ],
      "metadata": {
        "id": "7Xvo7_ZIKaGi",
        "outputId": "2b31b7ff-5a9a-4710-9620-9ee9add779d0",
        "colab": {
          "base_uri": "https://localhost:8080/",
          "height": 472
        }
      },
      "execution_count": 9,
      "outputs": [
        {
          "output_type": "display_data",
          "data": {
            "text/plain": [
              "<Figure size 640x480 with 1 Axes>"
            ],
            "image/png": "[encoded data removed]"
          },
          "metadata": {}
        }
      ]
    }
  ]
}
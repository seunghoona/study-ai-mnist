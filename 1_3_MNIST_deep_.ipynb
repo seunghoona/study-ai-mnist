{
  "nbformat": 4,
  "nbformat_minor": 0,
  "metadata": {
    "colab": {
      "provenance": [],
      "gpuType": "A100",
      "machine_shape": "hm",
      "include_colab_link": true
    },
    "kernelspec": {
      "name": "python3",
      "display_name": "Python 3"
    },
    "language_info": {
      "name": "python"
    },
    "accelerator": "GPU"
  },
  "cells": [
    {
      "cell_type": "markdown",
      "metadata": {
        "id": "view-in-github",
        "colab_type": "text"
      },
      "source": [
        "<a href=\"https://colab.research.google.com/github/seunghoona/study-ai-mnist/blob/main/1_3_MNIST_deep_.ipynb\" target=\"_parent\"><img src=\"https://colab.research.google.com/assets/colab-badge.svg\" alt=\"Open In Colab\"/></a>"
      ]
    },
    {
      "cell_type": "code",
      "execution_count": 33,
      "metadata": {
        "id": "6lXVfXoDtoQh"
      },
      "outputs": [],
      "source": [
        "import torch\n",
        "import torch.nn as nn\n",
        "import torchvision\n",
        "import torchvision.transforms as transforms\n",
        "import numpy as np\n",
        "import matplotlib.pyplot as plt\n",
        "from torch.optim import SGD\n",
        "from torch.optim import Adam"
      ]
    },
    {
      "cell_type": "code",
      "source": [
        "# 정확도 측정 함수\n",
        "def accuracy(model, dataloader):\n",
        "    cnt = 0\n",
        "    acc = 0\n",
        "\n",
        "    model.eval()  # 평가 모드\n",
        "    with torch.no_grad():\n",
        "        for data in dataloader:\n",
        "            inputs, labels = data\n",
        "            inputs, labels = inputs.to('cuda'), labels.to('cuda')\n",
        "\n",
        "            preds = model(inputs)\n",
        "            preds = torch.argmax(preds, dim=-1)\n",
        "\n",
        "            cnt += labels.shape[0]\n",
        "            acc += (labels == preds).sum().item()\n",
        "\n",
        "    return acc / cnt\n",
        "\n",
        "# Plot 함수\n",
        "def plot_acc(train_accs, test_accs, title=\"default plot\", label1='train', label2='test'):\n",
        "    x = np.arange(len(train_accs))\n",
        "    plt.plot(x, train_accs, label=label1)\n",
        "    plt.plot(x, test_accs, label=label2)\n",
        "    plt.legend()\n",
        "    plt.title(title)\n",
        "    plt.xlabel(\"Epoch\")\n",
        "    plt.ylabel(\"Accuracy\")\n",
        "    plt.show()"
      ],
      "metadata": {
        "id": "QmkZSeu31ibT"
      },
      "execution_count": 57,
      "outputs": []
    },
    {
      "cell_type": "markdown",
      "source": [
        "[MYCODE] dataset 리팩토링\n",
        "\n",
        "- dataset 중복코드 제거\n",
        "- trainset 생성\n",
        "- testset 생성"
      ],
      "metadata": {
        "id": "pF-1zQvmiult"
      }
    },
    {
      "cell_type": "code",
      "source": [
        "transform = transforms.ToTensor()\n",
        "\n",
        "def get_dataset(train= True, download=True):\n",
        "    return torchvision.datasets.CIFAR10(\n",
        "    root='./data',\n",
        "    train=train,\n",
        "    download=download,\n",
        "    transform=transform\n",
        ")\n",
        "\n",
        "batch_size = 256\n",
        "def get_loader(dataset, suffle=True):\n",
        "    return torch.utils.data.DataLoader(\n",
        "      dataset,\n",
        "      batch_size=batch_size,\n",
        "      shuffle=suffle\n",
        ")\n",
        "\n",
        "\n",
        "trainset = get_dataset()\n",
        "testset = get_dataset(False)\n",
        "\n",
        "print(f\"trainset size: {len(trainset)}\")\n",
        "print(f\"testset size: {len(testset)}\")\n",
        "\n",
        "trainloader = get_loader(trainset)\n",
        "testloader = get_loader(testset, False)\n",
        "\n",
        "print(f\"trainloader size: {len(trainloader)}\")\n",
        "print(f\"testloader size: {len(testloader)}\")\n"
      ],
      "metadata": {
        "id": "KAYlqPaRt6ti",
        "collapsed": true,
        "colab": {
          "base_uri": "https://localhost:8080/"
        },
        "outputId": "3b67ffa4-b107-4e21-823f-bf8071a9584b"
      },
      "execution_count": 35,
      "outputs": [
        {
          "output_type": "stream",
          "name": "stdout",
          "text": [
            "Files already downloaded and verified\n",
            "Files already downloaded and verified\n",
            "trainset size: 50000\n",
            "testset size: 10000\n",
            "trainloader size: 196\n",
            "testloader size: 40\n"
          ]
        }
      ]
    },
    {
      "cell_type": "code",
      "source": [
        "data_iter = iter(trainloader)\n",
        "images, labels = next(data_iter)\n",
        "batch_size, channels, height, width = images.shape\n",
        "\n",
        "# 이미지 크기와 채널 수 확인\n",
        "print(f\"Image shape: {images.shape}\")  # 출력 예: (256, 3, 32, 32)\n",
        "print(f\"Batch size: {batch_size}\")\n",
        "print(f\"Number of channels: {channels}\")\n",
        "print(f\"Height: {height}\")\n",
        "print(f\"Width: {width}\")"
      ],
      "metadata": {
        "colab": {
          "base_uri": "https://localhost:8080/"
        },
        "id": "-J056NwrOHss",
        "outputId": "974f2946-335e-4eca-a982-2d35aa8314f3"
      },
      "execution_count": 36,
      "outputs": [
        {
          "output_type": "stream",
          "name": "stdout",
          "text": [
            "Image shape: torch.Size([256, 3, 32, 32])\n",
            "Batch size: 256\n",
            "Number of channels: 3\n",
            "Height: 32\n",
            "Width: 32\n"
          ]
        }
      ]
    },
    {
      "cell_type": "code",
      "source": [
        "class Model(nn.Module):\n",
        "  def __init__(self, input_dim, n_dim, act):\n",
        "    super().__init__()\n",
        "\n",
        "    self.layer1 = nn.Linear(input_dim, n_dim)\n",
        "    self.layer2 = nn.Linear(n_dim, n_dim)\n",
        "    self.layer3 = nn.Linear(n_dim, 10)\n",
        "\n",
        "    self.act = act()\n",
        "\n",
        "  def forward(self, x):\n",
        "    x = torch.flatten(x, start_dim=1)\n",
        "    x = self.act(self.layer1(x))\n",
        "    x = self.act(self.layer2(x))\n",
        "    # 활성함수를 삭제\n",
        "    return self.layer3(x)\n"
      ],
      "metadata": {
        "id": "OLOA-ZGTuVVG"
      },
      "execution_count": 44,
      "outputs": []
    },
    {
      "cell_type": "markdown",
      "source": [
        "[MYCODE] LeakyReLU 변경\n",
        "\n",
        "- 손실함수를 ReLU 에서 LeakyReLU 변경한다."
      ],
      "metadata": {
        "id": "jpxpWJ9N4BE3"
      }
    },
    {
      "cell_type": "code",
      "source": [
        "sgd_model = Model(width * height * channels, 1024, nn.LeakyReLU).to('cuda')"
      ],
      "metadata": {
        "id": "AxEBMQn1qJ-e"
      },
      "execution_count": 45,
      "outputs": []
    },
    {
      "cell_type": "code",
      "source": [
        "adm_model = Model(width * height * channels, 1024, nn.LeakyReLU).to('cuda')"
      ],
      "metadata": {
        "id": "mdxfERVxqIw-"
      },
      "execution_count": 46,
      "outputs": []
    },
    {
      "cell_type": "code",
      "source": [
        "lr = 0.001\n",
        "optimizer_sgd = SGD(sgd_model.parameters(), lr=lr)\n",
        "optimizer_adam = Adam(adm_model.parameters(), lr=lr)"
      ],
      "metadata": {
        "id": "ypS0TcOlvBhZ"
      },
      "execution_count": 52,
      "outputs": []
    },
    {
      "cell_type": "code",
      "source": [
        "cretaition = nn.CrossEntropyLoss()"
      ],
      "metadata": {
        "id": "y8Hvhzgrw-P5"
      },
      "execution_count": 48,
      "outputs": []
    },
    {
      "cell_type": "markdown",
      "source": [
        "[LOG] 모델학습 시작\n",
        "\n",
        "- SGD 모델과 아담 모델을 각각학습하여 각각의 옵티마이저를 이용하여 학습시켰습니다."
      ],
      "metadata": {
        "id": "vIsEFH87FmsC"
      }
    },
    {
      "cell_type": "code",
      "source": [
        "n_epochs = 50\n",
        "\n",
        "# Lists for Accuracy Tracking\n",
        "train_sgd_accuracies = []\n",
        "train_adm_accuracies = []\n",
        "\n",
        "for epoch in range(n_epochs):\n",
        "  total_sgd_loss = 0.\n",
        "  total_adam_loss = 0.\n",
        "  for data in trainloader:\n",
        "    inputs, labels = data\n",
        "    inputs, labels = inputs.to('cuda'), labels.to('cuda')\n",
        "\n",
        "    # SGD 모델 학습\n",
        "    sgd_model.zero_grad()\n",
        "    preds = sgd_model(inputs)\n",
        "    loss = cretaition(preds, labels)\n",
        "    loss.backward()\n",
        "    optimizer_sgd.step()\n",
        "    total_sgd_loss += loss.item()\n",
        "\n",
        "    # 아담 모델 학습\n",
        "    adm_model.zero_grad()\n",
        "    preds = adm_model(inputs)\n",
        "    loss = cretaition(preds, labels)\n",
        "    loss.backward()\n",
        "    optimizer_adam.step()\n",
        "    total_adam_loss += loss.item()\n",
        "\n",
        "  # Epoch 종료 후 정확도 계산\n",
        "  train_sgd_accuracy = accuracy(sgd_model, trainloader)\n",
        "  train_adm_accuracy = accuracy(adm_model, trainloader)\n",
        "\n",
        "  train_sgd_accuracies.append(train_sgd_accuracy)\n",
        "  train_adm_accuracies.append(train_adm_accuracy)\n",
        "\n",
        "  print(f\"Epoch SGD {epoch + 1}/{n_epochs}, Loss: {total_sgd_loss / len(trainloader):.4f}, Train Acc: {train_sgd_accuracy:.4f}\")\n",
        "  print(f\"Epoch ADM {epoch + 1}/{n_epochs}, Loss: {total_adam_loss / len(trainloader):.4f}, Train Acc: {train_adm_accuracy:.4f}\")\n",
        "\n"
      ],
      "metadata": {
        "colab": {
          "base_uri": "https://localhost:8080/"
        },
        "id": "TryX1hewvNiB",
        "outputId": "9b339316-5fd1-4d45-e462-be40bf2f99ac"
      },
      "execution_count": 51,
      "outputs": [
        {
          "output_type": "stream",
          "name": "stdout",
          "text": [
            "Epoch SGD 1/50, Loss: 2.2837, Train Acc: 0.1426\n",
            "Epoch ADM 1/50, Loss: 1.6634, Train Acc: 0.4073\n",
            "Epoch SGD 2/50, Loss: 2.2737, Train Acc: 0.1514\n",
            "Epoch ADM 2/50, Loss: 1.5590, Train Acc: 0.4684\n",
            "Epoch SGD 3/50, Loss: 2.2641, Train Acc: 0.1708\n",
            "Epoch ADM 3/50, Loss: 1.5056, Train Acc: 0.4424\n",
            "Epoch SGD 4/50, Loss: 2.2539, Train Acc: 0.1835\n",
            "Epoch ADM 4/50, Loss: 1.4616, Train Acc: 0.4619\n",
            "Epoch SGD 5/50, Loss: 2.2429, Train Acc: 0.1980\n",
            "Epoch ADM 5/50, Loss: 1.4244, Train Acc: 0.5027\n",
            "Epoch SGD 6/50, Loss: 2.2310, Train Acc: 0.2171\n",
            "Epoch ADM 6/50, Loss: 1.3846, Train Acc: 0.5054\n",
            "Epoch SGD 7/50, Loss: 2.2182, Train Acc: 0.2277\n",
            "Epoch ADM 7/50, Loss: 1.3483, Train Acc: 0.5356\n",
            "Epoch SGD 8/50, Loss: 2.2043, Train Acc: 0.2355\n",
            "Epoch ADM 8/50, Loss: 1.3242, Train Acc: 0.5239\n",
            "Epoch SGD 9/50, Loss: 2.1894, Train Acc: 0.2407\n",
            "Epoch ADM 9/50, Loss: 1.2963, Train Acc: 0.5673\n",
            "Epoch SGD 10/50, Loss: 2.1740, Train Acc: 0.2442\n",
            "Epoch ADM 10/50, Loss: 1.2589, Train Acc: 0.5590\n",
            "Epoch SGD 11/50, Loss: 2.1582, Train Acc: 0.2520\n",
            "Epoch ADM 11/50, Loss: 1.2381, Train Acc: 0.5709\n",
            "Epoch SGD 12/50, Loss: 2.1424, Train Acc: 0.2560\n",
            "Epoch ADM 12/50, Loss: 1.2087, Train Acc: 0.5839\n",
            "Epoch SGD 13/50, Loss: 2.1268, Train Acc: 0.2605\n",
            "Epoch ADM 13/50, Loss: 1.1728, Train Acc: 0.5790\n",
            "Epoch SGD 14/50, Loss: 2.1121, Train Acc: 0.2636\n",
            "Epoch ADM 14/50, Loss: 1.1517, Train Acc: 0.5940\n",
            "Epoch SGD 15/50, Loss: 2.0978, Train Acc: 0.2694\n",
            "Epoch ADM 15/50, Loss: 1.1275, Train Acc: 0.6171\n",
            "Epoch SGD 16/50, Loss: 2.0843, Train Acc: 0.2745\n",
            "Epoch ADM 16/50, Loss: 1.0964, Train Acc: 0.6229\n",
            "Epoch SGD 17/50, Loss: 2.0718, Train Acc: 0.2734\n",
            "Epoch ADM 17/50, Loss: 1.0700, Train Acc: 0.6278\n",
            "Epoch SGD 18/50, Loss: 2.0598, Train Acc: 0.2824\n",
            "Epoch ADM 18/50, Loss: 1.0427, Train Acc: 0.6548\n",
            "Epoch SGD 19/50, Loss: 2.0492, Train Acc: 0.2848\n",
            "Epoch ADM 19/50, Loss: 1.0210, Train Acc: 0.6501\n",
            "Epoch SGD 20/50, Loss: 2.0384, Train Acc: 0.2886\n",
            "Epoch ADM 20/50, Loss: 0.9875, Train Acc: 0.6647\n",
            "Epoch SGD 21/50, Loss: 2.0290, Train Acc: 0.2936\n",
            "Epoch ADM 21/50, Loss: 0.9551, Train Acc: 0.6641\n",
            "Epoch SGD 22/50, Loss: 2.0200, Train Acc: 0.2940\n",
            "Epoch ADM 22/50, Loss: 0.9328, Train Acc: 0.6788\n",
            "Epoch SGD 23/50, Loss: 2.0111, Train Acc: 0.2953\n",
            "Epoch ADM 23/50, Loss: 0.9045, Train Acc: 0.6991\n",
            "Epoch SGD 24/50, Loss: 2.0031, Train Acc: 0.2989\n",
            "Epoch ADM 24/50, Loss: 0.8778, Train Acc: 0.7126\n",
            "Epoch SGD 25/50, Loss: 1.9955, Train Acc: 0.3043\n",
            "Epoch ADM 25/50, Loss: 0.8484, Train Acc: 0.7178\n",
            "Epoch SGD 26/50, Loss: 1.9874, Train Acc: 0.3031\n",
            "Epoch ADM 26/50, Loss: 0.8218, Train Acc: 0.7304\n",
            "Epoch SGD 27/50, Loss: 1.9805, Train Acc: 0.3062\n",
            "Epoch ADM 27/50, Loss: 0.7977, Train Acc: 0.7398\n",
            "Epoch SGD 28/50, Loss: 1.9737, Train Acc: 0.3107\n",
            "Epoch ADM 28/50, Loss: 0.7593, Train Acc: 0.7366\n",
            "Epoch SGD 29/50, Loss: 1.9674, Train Acc: 0.3080\n",
            "Epoch ADM 29/50, Loss: 0.7406, Train Acc: 0.7585\n",
            "Epoch SGD 30/50, Loss: 1.9610, Train Acc: 0.3141\n",
            "Epoch ADM 30/50, Loss: 0.7187, Train Acc: 0.7649\n",
            "Epoch SGD 31/50, Loss: 1.9554, Train Acc: 0.3161\n",
            "Epoch ADM 31/50, Loss: 0.6935, Train Acc: 0.7907\n",
            "Epoch SGD 32/50, Loss: 1.9497, Train Acc: 0.3174\n",
            "Epoch ADM 32/50, Loss: 0.6573, Train Acc: 0.7519\n",
            "Epoch SGD 33/50, Loss: 1.9439, Train Acc: 0.3188\n",
            "Epoch ADM 33/50, Loss: 0.6414, Train Acc: 0.7859\n",
            "Epoch SGD 34/50, Loss: 1.9387, Train Acc: 0.3217\n",
            "Epoch ADM 34/50, Loss: 0.6179, Train Acc: 0.7830\n",
            "Epoch SGD 35/50, Loss: 1.9337, Train Acc: 0.3231\n",
            "Epoch ADM 35/50, Loss: 0.5824, Train Acc: 0.8104\n",
            "Epoch SGD 36/50, Loss: 1.9287, Train Acc: 0.3240\n",
            "Epoch ADM 36/50, Loss: 0.5805, Train Acc: 0.7952\n",
            "Epoch SGD 37/50, Loss: 1.9245, Train Acc: 0.3256\n",
            "Epoch ADM 37/50, Loss: 0.5516, Train Acc: 0.7978\n",
            "Epoch SGD 38/50, Loss: 1.9204, Train Acc: 0.3272\n",
            "Epoch ADM 38/50, Loss: 0.5226, Train Acc: 0.8284\n",
            "Epoch SGD 39/50, Loss: 1.9162, Train Acc: 0.3292\n",
            "Epoch ADM 39/50, Loss: 0.5065, Train Acc: 0.8234\n",
            "Epoch SGD 40/50, Loss: 1.9116, Train Acc: 0.3308\n",
            "Epoch ADM 40/50, Loss: 0.4926, Train Acc: 0.8413\n",
            "Epoch SGD 41/50, Loss: 1.9080, Train Acc: 0.3308\n",
            "Epoch ADM 41/50, Loss: 0.4805, Train Acc: 0.8430\n",
            "Epoch SGD 42/50, Loss: 1.9044, Train Acc: 0.3331\n",
            "Epoch ADM 42/50, Loss: 0.4555, Train Acc: 0.8284\n",
            "Epoch SGD 43/50, Loss: 1.9004, Train Acc: 0.3356\n",
            "Epoch ADM 43/50, Loss: 0.4434, Train Acc: 0.8553\n",
            "Epoch SGD 44/50, Loss: 1.8969, Train Acc: 0.3351\n",
            "Epoch ADM 44/50, Loss: 0.4130, Train Acc: 0.8741\n",
            "Epoch SGD 45/50, Loss: 1.8935, Train Acc: 0.3371\n",
            "Epoch ADM 45/50, Loss: 0.4083, Train Acc: 0.8470\n",
            "Epoch SGD 46/50, Loss: 1.8899, Train Acc: 0.3386\n",
            "Epoch ADM 46/50, Loss: 0.4000, Train Acc: 0.8741\n",
            "Epoch SGD 47/50, Loss: 1.8871, Train Acc: 0.3383\n",
            "Epoch ADM 47/50, Loss: 0.3706, Train Acc: 0.8752\n",
            "Epoch SGD 48/50, Loss: 1.8842, Train Acc: 0.3407\n",
            "Epoch ADM 48/50, Loss: 0.3721, Train Acc: 0.8813\n",
            "Epoch SGD 49/50, Loss: 1.8809, Train Acc: 0.3421\n",
            "Epoch ADM 49/50, Loss: 0.3528, Train Acc: 0.9000\n",
            "Epoch SGD 50/50, Loss: 1.8778, Train Acc: 0.3429\n",
            "Epoch ADM 50/50, Loss: 0.3412, Train Acc: 0.8980\n"
          ]
        }
      ]
    },
    {
      "cell_type": "markdown",
      "source": [
        "[MYCODE] SGD 와  ADAM 학습된 각각의 에포츠 활성함수  대해 플로팅"
      ],
      "metadata": {
        "id": "xzTZqq9NKQkZ"
      }
    },
    {
      "cell_type": "code",
      "source": [
        "# 정확도 Plot\n",
        "plot_acc(train_sgd_accuracies, train_adm_accuracies,\"Train Accuracy Comparison (SGD vs Adam)\", 'SGD', 'ADAM')"
      ],
      "metadata": {
        "id": "7Xvo7_ZIKaGi",
        "outputId": "00f620ed-3f7c-45a8-c0a6-3c8f8bb3dcee",
        "colab": {
          "base_uri": "https://localhost:8080/",
          "height": 472
        }
      },
      "execution_count": 58,
      "outputs": [
        {
          "output_type": "display_data",
          "data": {
            "text/plain": [
              "<Figure size 640x480 with 1 Axes>"
            ],
            "image/png": "[encoded data removed]"
          },
          "metadata": {}
        }
      ]
    }
  ]
}
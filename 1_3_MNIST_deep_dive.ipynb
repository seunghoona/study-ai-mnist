{
  "nbformat": 4,
  "nbformat_minor": 0,
  "metadata": {
    "colab": {
      "provenance": [],
      "gpuType": "A100",
      "machine_shape": "hm",
      "include_colab_link": true
    },
    "kernelspec": {
      "name": "python3",
      "display_name": "Python 3"
    },
    "language_info": {
      "name": "python"
    },
    "accelerator": "GPU"
  },
  "cells": [
    {
      "cell_type": "markdown",
      "metadata": {
        "id": "view-in-github",
        "colab_type": "text"
      },
      "source": [
        "<a href=\"https://colab.research.google.com/github/seunghoona/study-ai-mnist/blob/main/1_3_MNIST_deep_dive.ipynb\" target=\"_parent\"><img src=\"https://colab.research.google.com/assets/colab-badge.svg\" alt=\"Open In Colab\"/></a>"
      ]
    },
    {
      "cell_type": "markdown",
      "source": [
        "# MNIST 실습\n",
        "\n",
        "이번에는 28x28 흑백 손글씨 이미지를 보고 0~9 사이의 숫자 중 어떤 숫자를 쓴 것인지 예측하는 문제를 실습합니다.\n",
        "이번 실습에서는 GPU를 활용할 것이기 때문에, 이전 챕터에서 Colab에서 GPU를 설정하는 방법을 따라해주시길 바랍니다.\n",
        "\n",
        "GPU를 설정했으면 library들을 import합니다."
      ],
      "metadata": {
        "id": "OPJenlrhihrh"
      }
    },
    {
      "cell_type": "code",
      "execution_count": 1,
      "metadata": {
        "id": "6lXVfXoDtoQh"
      },
      "outputs": [],
      "source": [
        "import torch\n",
        "import torchvision\n",
        "import torchvision.transforms as transforms\n",
        "import numpy as np\n",
        "import matplotlib.pyplot as plt"
      ]
    },
    {
      "cell_type": "code",
      "source": [
        "# 정확도 측정 함수\n",
        "def accuracy(model, dataloader):\n",
        "    cnt = 0\n",
        "    acc = 0\n",
        "\n",
        "    model.eval()  # 평가 모드\n",
        "    with torch.no_grad():\n",
        "        for data in dataloader:\n",
        "            inputs, labels = data\n",
        "            inputs, labels = inputs.to('cuda'), labels.to('cuda')\n",
        "\n",
        "            preds = model(inputs)\n",
        "            preds = torch.argmax(preds, dim=-1)\n",
        "\n",
        "            cnt += labels.shape[0]\n",
        "            acc += (labels == preds).sum().item()\n",
        "\n",
        "    return acc / cnt\n",
        "\n",
        "# Plot 함수\n",
        "def plot_acc(train_accs, test_accs, label1='train', label2='test'):\n",
        "    x = np.arange(len(train_accs))\n",
        "\n",
        "    plt.plot(x, train_accs, label=label1)\n",
        "    plt.plot(x, test_accs, label=label2)\n",
        "    plt.legend()\n",
        "    plt.title(\"Train vs Test Accuracy\")\n",
        "    plt.xlabel(\"Epoch\")\n",
        "    plt.ylabel(\"Accuracy\")\n",
        "    plt.show()"
      ],
      "metadata": {
        "id": "QmkZSeu31ibT"
      },
      "execution_count": 2,
      "outputs": []
    },
    {
      "cell_type": "markdown",
      "source": [
        "[MYCODE] dataset 리팩토링\n",
        "\n",
        "- dataset 중복코드 제거\n",
        "- trainset 생성\n",
        "- testset 생성"
      ],
      "metadata": {
        "id": "pF-1zQvmiult"
      }
    },
    {
      "cell_type": "code",
      "source": [
        "transform = transforms.ToTensor()\n",
        "\n",
        "def get_dataset(train= True, download=True):\n",
        "    trainset = torchvision.datasets.CIFAR10(\n",
        "    root='./data',\n",
        "    train=True,\n",
        "    download=True,\n",
        "    transform=transform\n",
        ")\n",
        "\n",
        "batch_size = 256\n",
        "def get_loader(dataset, suffle=True):\n",
        "    trainloader = torch.utils.data.DataLoader(\n",
        "      trainset,\n",
        "      batch_size=batch_size,\n",
        "      shuffle=suffle\n",
        ")\n",
        "\n",
        "\n",
        "trainset = get_dataset()\n",
        "testset = get_dataset(False)\n",
        "\n",
        "trainloader = get_loader(trainset)\n",
        "testloader = get_loader(testset)"
      ],
      "metadata": {
        "id": "KAYlqPaRt6ti",
        "collapsed": true,
        "outputId": "de1926f8-fcaa-471b-8c0f-20698a0d3545",
        "colab": {
          "base_uri": "https://localhost:8080/"
        }
      },
      "execution_count": 19,
      "outputs": [
        {
          "output_type": "stream",
          "name": "stdout",
          "text": [
            "Files already downloaded and verified\n"
          ]
        }
      ]
    },
    {
      "cell_type": "code",
      "source": [
        "\n",
        "\n",
        "trainloader = torch.utils.data.DataLoader(\n",
        "    trainset,\n",
        "    batch_size=batch_size,\n",
        "    shuffle=True\n",
        ")"
      ],
      "metadata": {
        "id": "UxKu3kA2i5WH"
      },
      "execution_count": 7,
      "outputs": []
    },
    {
      "cell_type": "code",
      "source": [
        "data_iter = iter(trainloader)\n",
        "images, labels = next(data_iter)\n",
        "\n",
        "# 이미지 크기와 채널 수 확인\n",
        "print(f\"Image shape: {images.shape}\")  # 출력 예: (256, 3, 32, 32)\n",
        "batch_size, channels, height, width = images.shape\n",
        "\n",
        "print(f\"Batch size: {batch_size}\")\n",
        "print(f\"Number of channels: {channels}\")\n",
        "print(f\"Height: {height}\")\n",
        "print(f\"Width: {width}\")"
      ],
      "metadata": {
        "id": "-J056NwrOHss",
        "outputId": "cbea9481-c750-490c-8157-9833280aeb18",
        "colab": {
          "base_uri": "https://localhost:8080/"
        }
      },
      "execution_count": 14,
      "outputs": [
        {
          "output_type": "stream",
          "name": "stdout",
          "text": [
            "Image shape: torch.Size([256, 3, 32, 32])\n",
            "Batch size: 256\n",
            "Number of channels: 3\n",
            "Height: 32\n",
            "Width: 32\n"
          ]
        }
      ]
    },
    {
      "cell_type": "markdown",
      "source": [
        "[MYCODE] 테스트로더 만들기"
      ],
      "metadata": {
        "id": "1AoTK-vtecZA"
      }
    },
    {
      "cell_type": "code",
      "source": [
        "testloader = torch.utils.data.DataLoader(\n",
        "    testset,\n",
        "    batch_size=batch_size,\n",
        "    shuffle=False\n",
        ")"
      ],
      "metadata": {
        "id": "gKHPTPk_eRvG"
      },
      "execution_count": 8,
      "outputs": []
    },
    {
      "cell_type": "markdown",
      "source": [
        "[MYCODE] LeakyReLU 변경\n",
        "\n",
        "- 손실함수를 ReLU 에서 LeakyReLU 변경한다."
      ],
      "metadata": {
        "id": "Zb9fJJ-iM8u3"
      }
    },
    {
      "cell_type": "code",
      "source": [
        "from torch import nn\n",
        "\n",
        "\n",
        "class Model(nn.Module):\n",
        "  def __init__(self, input_dim, n_dim):\n",
        "    super().__init__()\n",
        "\n",
        "    self.layer1 = nn.Linear(input_dim, n_dim)\n",
        "    self.layer2 = nn.Linear(n_dim, n_dim)\n",
        "    self.layer3 = nn.Linear(n_dim, 10)\n",
        "\n",
        "    self.act = nn.ReLU()\n",
        "\n",
        "  def forward(self, x):\n",
        "    x = torch.flatten(x, start_dim=1)\n",
        "    x = self.act(self.layer1(x))\n",
        "    x = self.act(self.layer2(x))\n",
        "    # 활성함수를 삭제\n",
        "    return self.layer3(x)\n",
        "\n",
        "\n",
        "model = Model(width * height * channels, 1024).to('cuda')"
      ],
      "metadata": {
        "id": "OLOA-ZGTuVVG"
      },
      "execution_count": 15,
      "outputs": []
    },
    {
      "cell_type": "code",
      "source": [
        "from torch.optim import SGD\n",
        "\n",
        "lr = 0.001\n",
        "model = model.to('cuda')\n",
        "\n",
        "optimizer = SGD(model.parameters(), lr=lr)"
      ],
      "metadata": {
        "id": "ypS0TcOlvBhZ"
      },
      "execution_count": 16,
      "outputs": []
    },
    {
      "cell_type": "code",
      "source": [
        "cretaition = nn.CrossEntropyLoss()"
      ],
      "metadata": {
        "id": "y8Hvhzgrw-P5"
      },
      "execution_count": 17,
      "outputs": []
    },
    {
      "cell_type": "markdown",
      "source": [
        "[LOG] 학습과정에서 에포크별 손실값, Train, Test 표시"
      ],
      "metadata": {
        "id": "vIsEFH87FmsC"
      }
    },
    {
      "cell_type": "code",
      "source": [
        "n_epochs = 50\n",
        "\n",
        "# Lists for Accuracy Tracking\n",
        "train_accs = []\n",
        "test_accs = []\n",
        "\n",
        "\n",
        "for epoch in range(n_epochs):\n",
        "  total_loss = 0.\n",
        "  for data in trainloader:\n",
        "    model.zero_grad()\n",
        "    inputs, labels = data\n",
        "    inputs, labels = inputs.to('cuda'), labels.to('cuda')\n",
        "\n",
        "    preds = model(inputs)\n",
        "\n",
        "    #print(f\"모델 출력 크기: {preds.shape}\")\n",
        "    #print(f\"모델 출력 값(샘플): {preds[0]}\")\n",
        "\n",
        "    assert labels.min() >= 0, \"음수 값이 포함되어 있습니다!\"\n",
        "    assert labels.max() < 10, \"클래스 개수를 초과합니다!\"\n",
        "    assert labels.dtype == torch.int64, \"라벨 타입이 torch.LongTensor가 아닙니다!\"\n",
        "\n",
        "    loss = cretaition(preds, labels)\n",
        "\n",
        "    loss.backward()\n",
        "    optimizer.step()\n",
        "\n",
        "    total_loss += loss.item()\n",
        "\n",
        "  # Epoch 종료 후 정확도 계산\n",
        "  train_acc = accuracy(model, trainloader)\n",
        "  test_acc = accuracy(model, testloader)\n",
        "\n",
        "  train_accs.append(train_acc)\n",
        "  test_accs.append(test_acc)\n",
        "\n",
        "  print(f\"Epoch {epoch + 1}/{n_epochs}, Loss: {total_loss / len(trainloader):.4f}, Train Acc: {train_acc:.4f}, Test Acc: {test_acc:.4f}\")\n",
        "\n"
      ],
      "metadata": {
        "colab": {
          "base_uri": "https://localhost:8080/"
        },
        "id": "TryX1hewvNiB",
        "outputId": "9d4ce03e-045c-4f10-ed55-fba04446bcde"
      },
      "execution_count": 18,
      "outputs": [
        {
          "output_type": "stream",
          "name": "stdout",
          "text": [
            "Epoch 1/50, Loss: 2.2960, Train Acc: 0.1237, Test Acc: 0.1240\n",
            "Epoch 2/50, Loss: 2.2845, Train Acc: 0.1203, Test Acc: 0.1173\n",
            "Epoch 3/50, Loss: 2.2748, Train Acc: 0.1343, Test Acc: 0.1300\n",
            "Epoch 4/50, Loss: 2.2655, Train Acc: 0.1511, Test Acc: 0.1512\n",
            "Epoch 5/50, Loss: 2.2559, Train Acc: 0.1754, Test Acc: 0.1774\n",
            "Epoch 6/50, Loss: 2.2457, Train Acc: 0.1950, Test Acc: 0.1930\n",
            "Epoch 7/50, Loss: 2.2346, Train Acc: 0.2092, Test Acc: 0.2096\n",
            "Epoch 8/50, Loss: 2.2227, Train Acc: 0.2172, Test Acc: 0.2184\n",
            "Epoch 9/50, Loss: 2.2095, Train Acc: 0.2245, Test Acc: 0.2255\n",
            "Epoch 10/50, Loss: 2.1956, Train Acc: 0.2294, Test Acc: 0.2306\n",
            "Epoch 11/50, Loss: 2.1807, Train Acc: 0.2353, Test Acc: 0.2341\n",
            "Epoch 12/50, Loss: 2.1655, Train Acc: 0.2371, Test Acc: 0.2377\n",
            "Epoch 13/50, Loss: 2.1503, Train Acc: 0.2390, Test Acc: 0.2409\n",
            "Epoch 14/50, Loss: 2.1352, Train Acc: 0.2425, Test Acc: 0.2432\n",
            "Epoch 15/50, Loss: 2.1208, Train Acc: 0.2493, Test Acc: 0.2494\n",
            "Epoch 16/50, Loss: 2.1069, Train Acc: 0.2531, Test Acc: 0.2530\n",
            "Epoch 17/50, Loss: 2.0943, Train Acc: 0.2568, Test Acc: 0.2578\n",
            "Epoch 18/50, Loss: 2.0825, Train Acc: 0.2653, Test Acc: 0.2657\n",
            "Epoch 19/50, Loss: 2.0711, Train Acc: 0.2708, Test Acc: 0.2727\n",
            "Epoch 20/50, Loss: 2.0607, Train Acc: 0.2738, Test Acc: 0.2751\n",
            "Epoch 21/50, Loss: 2.0505, Train Acc: 0.2806, Test Acc: 0.2815\n",
            "Epoch 22/50, Loss: 2.0412, Train Acc: 0.2823, Test Acc: 0.2830\n",
            "Epoch 23/50, Loss: 2.0320, Train Acc: 0.2884, Test Acc: 0.2873\n",
            "Epoch 24/50, Loss: 2.0235, Train Acc: 0.2929, Test Acc: 0.2906\n",
            "Epoch 25/50, Loss: 2.0151, Train Acc: 0.2939, Test Acc: 0.2931\n",
            "Epoch 26/50, Loss: 2.0074, Train Acc: 0.2971, Test Acc: 0.2965\n",
            "Epoch 27/50, Loss: 1.9998, Train Acc: 0.2985, Test Acc: 0.2963\n",
            "Epoch 28/50, Loss: 1.9924, Train Acc: 0.3032, Test Acc: 0.3013\n",
            "Epoch 29/50, Loss: 1.9859, Train Acc: 0.3047, Test Acc: 0.3036\n",
            "Epoch 30/50, Loss: 1.9791, Train Acc: 0.3066, Test Acc: 0.3049\n",
            "Epoch 31/50, Loss: 1.9725, Train Acc: 0.3092, Test Acc: 0.3065\n",
            "Epoch 32/50, Loss: 1.9662, Train Acc: 0.3110, Test Acc: 0.3082\n",
            "Epoch 33/50, Loss: 1.9608, Train Acc: 0.3124, Test Acc: 0.3094\n",
            "Epoch 34/50, Loss: 1.9551, Train Acc: 0.3150, Test Acc: 0.3126\n",
            "Epoch 35/50, Loss: 1.9496, Train Acc: 0.3155, Test Acc: 0.3135\n",
            "Epoch 36/50, Loss: 1.9447, Train Acc: 0.3182, Test Acc: 0.3158\n",
            "Epoch 37/50, Loss: 1.9394, Train Acc: 0.3199, Test Acc: 0.3173\n",
            "Epoch 38/50, Loss: 1.9346, Train Acc: 0.3207, Test Acc: 0.3184\n",
            "Epoch 39/50, Loss: 1.9300, Train Acc: 0.3223, Test Acc: 0.3211\n",
            "Epoch 40/50, Loss: 1.9253, Train Acc: 0.3252, Test Acc: 0.3219\n",
            "Epoch 41/50, Loss: 1.9219, Train Acc: 0.3248, Test Acc: 0.3233\n",
            "Epoch 42/50, Loss: 1.9170, Train Acc: 0.3276, Test Acc: 0.3254\n",
            "Epoch 43/50, Loss: 1.9129, Train Acc: 0.3294, Test Acc: 0.3272\n",
            "Epoch 44/50, Loss: 1.9091, Train Acc: 0.3303, Test Acc: 0.3269\n",
            "Epoch 45/50, Loss: 1.9053, Train Acc: 0.3317, Test Acc: 0.3284\n",
            "Epoch 46/50, Loss: 1.9018, Train Acc: 0.3342, Test Acc: 0.3309\n",
            "Epoch 47/50, Loss: 1.8981, Train Acc: 0.3347, Test Acc: 0.3317\n",
            "Epoch 48/50, Loss: 1.8948, Train Acc: 0.3354, Test Acc: 0.3318\n",
            "Epoch 49/50, Loss: 1.8912, Train Acc: 0.3369, Test Acc: 0.3335\n",
            "Epoch 50/50, Loss: 1.8881, Train Acc: 0.3386, Test Acc: 0.3357\n"
          ]
        }
      ]
    },
    {
      "cell_type": "markdown",
      "source": [
        "[MYCODE] 정확도 PLOT 하기"
      ],
      "metadata": {
        "id": "xzTZqq9NKQkZ"
      }
    },
    {
      "cell_type": "code",
      "source": [
        "# 정확도 Plot\n",
        "plot_acc(train_accs, test_accs)"
      ],
      "metadata": {
        "id": "7Xvo7_ZIKaGi",
        "outputId": "d44ef2b9-36f9-4552-aa09-a801a581f3ab",
        "colab": {
          "base_uri": "https://localhost:8080/",
          "height": 472
        }
      },
      "execution_count": 20,
      "outputs": [
        {
          "output_type": "display_data",
          "data": {
            "text/plain": [
              "<Figure size 640x480 with 1 Axes>"
            ],
            "image/png": "[encoded data removed]"
          },
          "metadata": {}
        }
      ]
    }
  ]
}
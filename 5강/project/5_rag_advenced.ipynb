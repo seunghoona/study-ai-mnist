{
  "cells": [
    {
      "cell_type": "code",
      "execution_count": 6,
      "metadata": {
        "colab": {
          "base_uri": "https://localhost:8080/"
        },
        "id": "lrlcWNMyI0HQ",
        "outputId": "4f5ba242-e76f-4246-a3f3-7c0d6dc7f7cb"
      },
      "outputs": [],
      "source": [
        "import bs4\n",
        "from langchain import hub\n",
        "from langchain_chroma import Chroma\n",
        "from langchain_openai import ChatOpenAI\n",
        "from langchain_openai import OpenAIEmbeddings\n",
        "from langchain_community.document_loaders import WebBaseLoader\n",
        "from langchain_text_splitters import RecursiveCharacterTextSplitter\n",
        "import base64\n",
        "from openai import OpenAI\n"
      ]
    },
    {
      "cell_type": "markdown",
      "metadata": {},
      "source": [
        "[MYCODE] .env 파일 로드 \n",
        "- opeanAIKey Load\n",
        "- 서버에 환경셋팅"
      ]
    },
    {
      "cell_type": "code",
      "execution_count": 3,
      "metadata": {},
      "outputs": [
        {
          "data": {
            "text/plain": [
              "True"
            ]
          },
          "execution_count": 3,
          "metadata": {},
          "output_type": "execute_result"
        }
      ],
      "source": [
        "from dotenv import load_dotenv\n",
        "load_dotenv()"
      ]
    },
    {
      "cell_type": "markdown",
      "metadata": {},
      "source": [
        "[MYCODE] 모델 설정 "
      ]
    },
    {
      "cell_type": "code",
      "execution_count": 9,
      "metadata": {
        "id": "gdjtGqsgI2Ub"
      },
      "outputs": [],
      "source": [
        "llm = OpenAI()"
      ]
    },
    {
      "cell_type": "code",
      "execution_count": 182,
      "metadata": {},
      "outputs": [],
      "source": [
        "me_url = \"https://static.talented.co.kr/user_data/mjin5563/popol_detail/6fc201f4-59ea-4aef-b32e-819be7d015d8.jpeg\"\n",
        "item_url = \"https://image-cdn.trenbe.com/product-images/1732811889714_70d413f684b3a0ccd0f38f25d83072f6_0.jpeg\"\n",
        "sub_item_url = \"https://thumbnail10.coupangcdn.com/thumbnails/remote/492x492ex/image/vendor_inventory/ebd7/2ee15ae9f8067bcef856defc02b8e9814ca6b37af7d47e593e4306515509.jpg\"\n",
        "\n",
        "prompt = \"\"\"\n",
        "당신은 유명한 패션 디자이너 AI입니다.\n",
        "\n",
        "여러 개의 이미지가 있으며, 각 이미지에는 설명(description)이 부여되어 있습니다. 각 설명을 참고하여 다음 질문에 답변하세요.\n",
        "\n",
        "**질문 1:**\n",
        "**me**의 키는 몇인가요?\n",
        "- **답변:** 180\n",
        "\n",
        "**질문 2:**\n",
        "**me**의 머리 스타일은 무엇인가요?\n",
        "- **답변:** 짧다.\n",
        "\n",
        "**질문 3:**\n",
        "**me**의 손은 무엇이 있나요?\n",
        "- **답변:** 팔찌\n",
        "\n",
        "**질문 4:**\n",
        "**me**는 상체에 어떤 옷을 입었나요?\n",
        "- **답변:** 검정색 티셔츠\n",
        "\n",
        "**질문 5:**\n",
        "**me**는 하체는 어떤 옷을 입었나요?\n",
        "- **답변:** 검정색 청바지\n",
        "\n",
        "**질문 6:**\n",
        "**me**의 성별은 무엇인가요?\n",
        "- **답변:** 남자\n",
        "\n",
        "**중간 요약:**\n",
        "키가 180 정도 되는 남자는 머리가 짧고, 손에는 팔찌를 착용했으며, 상체는 검정색 티셔츠, 하체는 검정색 청바지를 입고 있습니다.\n",
        "\n",
        "**me** 이미지에 어울리는 패션 아이템 세가지를 **#구매한 아이템** 참고해서 추천 해주세요\n",
        "#구매한 아이템\n",
        "**구매한 첫번째 아이템**\n",
        "**me**가 구매한 **sell_item1**은 어떤 물건이며, 어떤 색과 모양을 가지고 있나요?\n",
        "- **답변:** 물건: 모자, 색상: 빨간색, 모양: 체크무늬\n",
        "\n",
        "**구매한 두번째 아이템**\n",
        "**me**가 구매한 **sell_item2**은 어떤 물건이며, 어떤 색과 모양을 가지고 있나요?\n",
        "- **답변:** 물건: 점퍼, 색상: 파란색, 모양: 민무늬\n",
        "\n",
        "# 최종답변 포맷\n",
        "{\n",
        "  \"recommended_items\": [\n",
        "    {\n",
        "      \"item\": \"모자\",\n",
        "      \"color\": \"빨간색\",\n",
        "      \"style\": \"심플한 디자인\"\n",
        "    },\n",
        "    {\n",
        "      \"item\": \"가방\",\n",
        "      \"color\": \"갈색\",\n",
        "      \"style\": \"캔버스 재질의 쇼퍼백\"\n",
        "    },\n",
        "    {\n",
        "      \"item\": \"패션 바지\",\n",
        "      \"color\": \"빨간색\",\n",
        "      \"style\": \"편안한 와이드 팬츠\"\n",
        "    }\n",
        "  ]\n",
        "  \"recommended_items_description\" : \"검정색 상의와 빨간색바지가 조화롭고 가방은 좀더 개성을 보여줄 것 같네요. 머리 길이가 짧아 모자도 잘 어울리는 패션이될 것 같네요\"\n",
        "}\n",
        "\n",
        "//-----------------------\n",
        "\n",
        "**me** 이미지에 어울리는 패션 아이템 세가지를 **#구매한 아이템** 참고해서 추천해주세요. \n",
        "\n",
        "**#구매한 아이템\n",
        "**구매한 첫번째 아이템**\n",
        "**me**가 구매한 **sell_item1**은 어떤 물건이며, 어떤 색과 모양을 가지고 있나요?\n",
        "- **답변:** \n",
        "\n",
        "**구매한 두번째 아이템**\n",
        "**me**가 구매한 **sell_item2**은 어떤 물건이며, 어떤 색과 모양을 가지고 있나요?\n",
        "- **답변:** \n",
        "\n",
        "- **최종답변:** \n",
        "\n",
        "\"\"\"\n",
        "\n",
        "response = llm.chat.completions.create(\n",
        "    model=\"gpt-4o-mini\",\n",
        "    messages=[\n",
        "        {\n",
        "            \"role\": \"user\",\n",
        "            \"content\": [\n",
        "                \n",
        "                {\"type\": \"text\", \"text\": prompt},                    \n",
        "                {\"type\": \"image_url\", \"image_url\" :{\"url\": me_url, \"description\" : \"me\"}}, \n",
        "                {\"type\": \"image_url\", \"image_url\" :{\"url\": item_url, \"description\" : \"sell_item1\"}}, \n",
        "                {\"type\": \"image_url\", \"image_url\" :{\"url\": sub_item_url, \"description\" : \"sell_item2\"}}, \n",
        "            ],\n",
        "        }\n",
        "    ],\n",
        "    max_tokens=300,\n",
        ")"
      ]
    },
    {
      "cell_type": "code",
      "execution_count": 88,
      "metadata": {},
      "outputs": [],
      "source": [
        "import json"
      ]
    },
    {
      "cell_type": "code",
      "execution_count": 184,
      "metadata": {},
      "outputs": [
        {
          "data": {
            "text/plain": [
              "{'recommended_items': [{'item': '모자', 'color': '빨간색', 'style': '심플한 디자인'},\n",
              "  {'item': '가방', 'color': '갈색', 'style': '캔버스 재질의 쇼퍼백'},\n",
              "  {'item': '패션 바지', 'color': '빨간색', 'style': '편안한 와이드 팬츠'}],\n",
              " 'recommended_items_description': '흰색 상의와 잘 어울리는 빨간색 팬츠는 스타일리시하면서도 편안함을 더해 줄 것입니다. 그리고 갈색의 쇼퍼백을 매치하여 개성을 더하면 좋겠네요. 마지막으로, 간단한 빨간색 모자도 스타일에 포인트를 줄 수 있어 추천합니다.'}"
            ]
          },
          "execution_count": 184,
          "metadata": {},
          "output_type": "execute_result"
        }
      ],
      "source": [
        "content = response.choices[0].message.content\n",
        "json.loads(content)"
      ]
    },
    {
      "cell_type": "code",
      "execution_count": 174,
      "metadata": {},
      "outputs": [],
      "source": []
    },
    {
      "cell_type": "code",
      "execution_count": null,
      "metadata": {},
      "outputs": [],
      "source": []
    }
  ],
  "metadata": {
    "colab": {
      "provenance": []
    },
    "kernelspec": {
      "display_name": "rag",
      "language": "python",
      "name": "python3"
    },
    "language_info": {
      "codemirror_mode": {
        "name": "ipython",
        "version": 3
      },
      "file_extension": ".py",
      "mimetype": "text/x-python",
      "name": "python",
      "nbconvert_exporter": "python",
      "pygments_lexer": "ipython3",
      "version": "3.11.11"
    }
  },
  "nbformat": 4,
  "nbformat_minor": 0
}
